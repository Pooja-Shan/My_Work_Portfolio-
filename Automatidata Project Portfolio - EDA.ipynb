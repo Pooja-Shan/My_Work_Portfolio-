{
 "cells": [
  {
   "cell_type": "markdown",
   "id": "834895c1-8cd7-464a-a1f8-46e1ff2a8cfc",
   "metadata": {
    "jp-MarkdownHeadingCollapsed": true
   },
   "source": [
    "# **Automatidata Project -**\n",
    "#### **[Understanding the Data & EDA]**\n",
    "\n",
    "Automatidata is a fictional data consulting firm that transforms its clients' existing and unused data into customer-facing tools, interactive dashboards, strategic business insights and business solutions to help solve business problems.\n",
    "\n",
    "In this scenario, we work for Automatidata's client - The New York City Taxi and Limousine Commission (TLC). The goal of this stage of the project is to -\n",
    "\n",
    "1) Understand the data and perform some basic data cleaning\n",
    "\n",
    "2) Conduct EDA (Exploratory Data Analysis)\n",
    "\n",
    "The above steps are an important part of building a Machine-Learning model for TLC, which will aim to predict taxi cab fares before a ride. This is Automatidata's ultimate project goal.\n",
    "\n",
    "Note—We are assuming that TLC accepted Automatidata's Business Project Proposal, after which we received data from New York City's TLC to kickstart this project. Also, note that the dataset being used in this project was intended for pedagogical purposes and is not representative of New York City taxi cab rider behaviour."
   ]
  },
  {
   "cell_type": "markdown",
   "id": "fc7b2614-762e-4406-acbd-860e42eb9a0d",
   "metadata": {},
   "source": [
    "# **1) Understanding the Data**"
   ]
  },
  {
   "cell_type": "code",
   "execution_count": 1,
   "id": "b38bc6e4-7f98-4cc4-ae52-1c0a2a3950fd",
   "metadata": {},
   "outputs": [],
   "source": [
    "# Importing the required libraries and packages\n",
    "import numpy as np\n",
    "import pandas as pd\n",
    "import datetime\n",
    "import matplotlib.pyplot as plt\n",
    "import plotly.express as px\n",
    "import seaborn as sns"
   ]
  },
  {
   "cell_type": "code",
   "execution_count": 2,
   "id": "1f19e98d-afac-4cd2-9f18-7e743e6797e6",
   "metadata": {},
   "outputs": [],
   "source": [
    "# Loading the dataset to work with\n",
    "df = pd.read_csv(r\"D:\\Files On This Laptop (Not Cloud)\\xps 16 9640\\Documents\\Data Analytics Career Requirements\\PORTFOLIO ESSENTIALS\\2017_Yellow_Taxi_Trip_Data.csv\")"
   ]
  },
  {
   "cell_type": "code",
   "execution_count": 3,
   "id": "8c55298d-95bf-406d-be68-c53062597085",
   "metadata": {},
   "outputs": [
    {
     "name": "stdout",
     "output_type": "stream",
     "text": [
      "<class 'pandas.core.frame.DataFrame'>\n",
      "RangeIndex: 22699 entries, 0 to 22698\n",
      "Data columns (total 18 columns):\n",
      " #   Column                 Non-Null Count  Dtype  \n",
      "---  ------                 --------------  -----  \n",
      " 0   Unnamed: 0             22699 non-null  int64  \n",
      " 1   VendorID               22699 non-null  int64  \n",
      " 2   tpep_pickup_datetime   22699 non-null  object \n",
      " 3   tpep_dropoff_datetime  22699 non-null  object \n",
      " 4   passenger_count        22699 non-null  int64  \n",
      " 5   trip_distance          22699 non-null  float64\n",
      " 6   RatecodeID             22699 non-null  int64  \n",
      " 7   store_and_fwd_flag     22699 non-null  object \n",
      " 8   PULocationID           22699 non-null  int64  \n",
      " 9   DOLocationID           22699 non-null  int64  \n",
      " 10  payment_type           22699 non-null  int64  \n",
      " 11  fare_amount            22699 non-null  float64\n",
      " 12  extra                  22699 non-null  float64\n",
      " 13  mta_tax                22699 non-null  float64\n",
      " 14  tip_amount             22699 non-null  float64\n",
      " 15  tolls_amount           22699 non-null  float64\n",
      " 16  improvement_surcharge  22699 non-null  float64\n",
      " 17  total_amount           22699 non-null  float64\n",
      "dtypes: float64(8), int64(7), object(3)\n",
      "memory usage: 3.1+ MB\n"
     ]
    }
   ],
   "source": [
    "df.info()"
   ]
  },
  {
   "cell_type": "code",
   "execution_count": 4,
   "id": "f64afe8e-39ef-433d-b2d8-d0f1a0e1e7af",
   "metadata": {},
   "outputs": [
    {
     "data": {
      "text/html": [
       "<div>\n",
       "<style scoped>\n",
       "    .dataframe tbody tr th:only-of-type {\n",
       "        vertical-align: middle;\n",
       "    }\n",
       "\n",
       "    .dataframe tbody tr th {\n",
       "        vertical-align: top;\n",
       "    }\n",
       "\n",
       "    .dataframe thead th {\n",
       "        text-align: right;\n",
       "    }\n",
       "</style>\n",
       "<table border=\"1\" class=\"dataframe\">\n",
       "  <thead>\n",
       "    <tr style=\"text-align: right;\">\n",
       "      <th></th>\n",
       "      <th>Unnamed: 0</th>\n",
       "      <th>VendorID</th>\n",
       "      <th>tpep_pickup_datetime</th>\n",
       "      <th>tpep_dropoff_datetime</th>\n",
       "      <th>passenger_count</th>\n",
       "      <th>trip_distance</th>\n",
       "      <th>RatecodeID</th>\n",
       "      <th>store_and_fwd_flag</th>\n",
       "      <th>PULocationID</th>\n",
       "      <th>DOLocationID</th>\n",
       "      <th>payment_type</th>\n",
       "      <th>fare_amount</th>\n",
       "      <th>extra</th>\n",
       "      <th>mta_tax</th>\n",
       "      <th>tip_amount</th>\n",
       "      <th>tolls_amount</th>\n",
       "      <th>improvement_surcharge</th>\n",
       "      <th>total_amount</th>\n",
       "    </tr>\n",
       "  </thead>\n",
       "  <tbody>\n",
       "    <tr>\n",
       "      <th>0</th>\n",
       "      <td>24870114</td>\n",
       "      <td>2</td>\n",
       "      <td>03/25/2017 8:55:43 AM</td>\n",
       "      <td>03/25/2017 9:09:47 AM</td>\n",
       "      <td>6</td>\n",
       "      <td>3.34</td>\n",
       "      <td>1</td>\n",
       "      <td>N</td>\n",
       "      <td>100</td>\n",
       "      <td>231</td>\n",
       "      <td>1</td>\n",
       "      <td>13.0</td>\n",
       "      <td>0.0</td>\n",
       "      <td>0.5</td>\n",
       "      <td>2.76</td>\n",
       "      <td>0.00</td>\n",
       "      <td>0.3</td>\n",
       "      <td>16.56</td>\n",
       "    </tr>\n",
       "    <tr>\n",
       "      <th>1</th>\n",
       "      <td>35634249</td>\n",
       "      <td>1</td>\n",
       "      <td>04/11/2017 2:53:28 PM</td>\n",
       "      <td>04/11/2017 3:19:58 PM</td>\n",
       "      <td>1</td>\n",
       "      <td>1.80</td>\n",
       "      <td>1</td>\n",
       "      <td>N</td>\n",
       "      <td>186</td>\n",
       "      <td>43</td>\n",
       "      <td>1</td>\n",
       "      <td>16.0</td>\n",
       "      <td>0.0</td>\n",
       "      <td>0.5</td>\n",
       "      <td>4.00</td>\n",
       "      <td>0.00</td>\n",
       "      <td>0.3</td>\n",
       "      <td>20.80</td>\n",
       "    </tr>\n",
       "    <tr>\n",
       "      <th>2</th>\n",
       "      <td>106203690</td>\n",
       "      <td>1</td>\n",
       "      <td>12/15/2017 7:26:56 AM</td>\n",
       "      <td>12/15/2017 7:34:08 AM</td>\n",
       "      <td>1</td>\n",
       "      <td>1.00</td>\n",
       "      <td>1</td>\n",
       "      <td>N</td>\n",
       "      <td>262</td>\n",
       "      <td>236</td>\n",
       "      <td>1</td>\n",
       "      <td>6.5</td>\n",
       "      <td>0.0</td>\n",
       "      <td>0.5</td>\n",
       "      <td>1.45</td>\n",
       "      <td>0.00</td>\n",
       "      <td>0.3</td>\n",
       "      <td>8.75</td>\n",
       "    </tr>\n",
       "    <tr>\n",
       "      <th>3</th>\n",
       "      <td>38942136</td>\n",
       "      <td>2</td>\n",
       "      <td>05/07/2017 1:17:59 PM</td>\n",
       "      <td>05/07/2017 1:48:14 PM</td>\n",
       "      <td>1</td>\n",
       "      <td>3.70</td>\n",
       "      <td>1</td>\n",
       "      <td>N</td>\n",
       "      <td>188</td>\n",
       "      <td>97</td>\n",
       "      <td>1</td>\n",
       "      <td>20.5</td>\n",
       "      <td>0.0</td>\n",
       "      <td>0.5</td>\n",
       "      <td>6.39</td>\n",
       "      <td>0.00</td>\n",
       "      <td>0.3</td>\n",
       "      <td>27.69</td>\n",
       "    </tr>\n",
       "    <tr>\n",
       "      <th>4</th>\n",
       "      <td>30841670</td>\n",
       "      <td>2</td>\n",
       "      <td>04/15/2017 11:32:20 PM</td>\n",
       "      <td>04/15/2017 11:49:03 PM</td>\n",
       "      <td>1</td>\n",
       "      <td>4.37</td>\n",
       "      <td>1</td>\n",
       "      <td>N</td>\n",
       "      <td>4</td>\n",
       "      <td>112</td>\n",
       "      <td>2</td>\n",
       "      <td>16.5</td>\n",
       "      <td>0.5</td>\n",
       "      <td>0.5</td>\n",
       "      <td>0.00</td>\n",
       "      <td>0.00</td>\n",
       "      <td>0.3</td>\n",
       "      <td>17.80</td>\n",
       "    </tr>\n",
       "    <tr>\n",
       "      <th>5</th>\n",
       "      <td>23345809</td>\n",
       "      <td>2</td>\n",
       "      <td>03/25/2017 8:34:11 PM</td>\n",
       "      <td>03/25/2017 8:42:11 PM</td>\n",
       "      <td>6</td>\n",
       "      <td>2.30</td>\n",
       "      <td>1</td>\n",
       "      <td>N</td>\n",
       "      <td>161</td>\n",
       "      <td>236</td>\n",
       "      <td>1</td>\n",
       "      <td>9.0</td>\n",
       "      <td>0.5</td>\n",
       "      <td>0.5</td>\n",
       "      <td>2.06</td>\n",
       "      <td>0.00</td>\n",
       "      <td>0.3</td>\n",
       "      <td>12.36</td>\n",
       "    </tr>\n",
       "    <tr>\n",
       "      <th>6</th>\n",
       "      <td>37660487</td>\n",
       "      <td>2</td>\n",
       "      <td>05/03/2017 7:04:09 PM</td>\n",
       "      <td>05/03/2017 8:03:47 PM</td>\n",
       "      <td>1</td>\n",
       "      <td>12.83</td>\n",
       "      <td>1</td>\n",
       "      <td>N</td>\n",
       "      <td>79</td>\n",
       "      <td>241</td>\n",
       "      <td>1</td>\n",
       "      <td>47.5</td>\n",
       "      <td>1.0</td>\n",
       "      <td>0.5</td>\n",
       "      <td>9.86</td>\n",
       "      <td>0.00</td>\n",
       "      <td>0.3</td>\n",
       "      <td>59.16</td>\n",
       "    </tr>\n",
       "    <tr>\n",
       "      <th>7</th>\n",
       "      <td>69059411</td>\n",
       "      <td>2</td>\n",
       "      <td>08/15/2017 5:41:06 PM</td>\n",
       "      <td>08/15/2017 6:03:05 PM</td>\n",
       "      <td>1</td>\n",
       "      <td>2.98</td>\n",
       "      <td>1</td>\n",
       "      <td>N</td>\n",
       "      <td>237</td>\n",
       "      <td>114</td>\n",
       "      <td>1</td>\n",
       "      <td>16.0</td>\n",
       "      <td>1.0</td>\n",
       "      <td>0.5</td>\n",
       "      <td>1.78</td>\n",
       "      <td>0.00</td>\n",
       "      <td>0.3</td>\n",
       "      <td>19.58</td>\n",
       "    </tr>\n",
       "    <tr>\n",
       "      <th>8</th>\n",
       "      <td>8433159</td>\n",
       "      <td>2</td>\n",
       "      <td>02/04/2017 4:17:07 PM</td>\n",
       "      <td>02/04/2017 4:29:14 PM</td>\n",
       "      <td>1</td>\n",
       "      <td>1.20</td>\n",
       "      <td>1</td>\n",
       "      <td>N</td>\n",
       "      <td>234</td>\n",
       "      <td>249</td>\n",
       "      <td>2</td>\n",
       "      <td>9.0</td>\n",
       "      <td>0.0</td>\n",
       "      <td>0.5</td>\n",
       "      <td>0.00</td>\n",
       "      <td>0.00</td>\n",
       "      <td>0.3</td>\n",
       "      <td>9.80</td>\n",
       "    </tr>\n",
       "    <tr>\n",
       "      <th>9</th>\n",
       "      <td>95294817</td>\n",
       "      <td>1</td>\n",
       "      <td>11/10/2017 3:20:29 PM</td>\n",
       "      <td>11/10/2017 3:40:55 PM</td>\n",
       "      <td>1</td>\n",
       "      <td>1.60</td>\n",
       "      <td>1</td>\n",
       "      <td>N</td>\n",
       "      <td>239</td>\n",
       "      <td>237</td>\n",
       "      <td>1</td>\n",
       "      <td>13.0</td>\n",
       "      <td>0.0</td>\n",
       "      <td>0.5</td>\n",
       "      <td>2.75</td>\n",
       "      <td>0.00</td>\n",
       "      <td>0.3</td>\n",
       "      <td>16.55</td>\n",
       "    </tr>\n",
       "    <tr>\n",
       "      <th>10</th>\n",
       "      <td>18017909</td>\n",
       "      <td>2</td>\n",
       "      <td>03/04/2017 11:58:00 AM</td>\n",
       "      <td>03/04/2017 12:13:12 PM</td>\n",
       "      <td>1</td>\n",
       "      <td>1.77</td>\n",
       "      <td>1</td>\n",
       "      <td>N</td>\n",
       "      <td>162</td>\n",
       "      <td>142</td>\n",
       "      <td>1</td>\n",
       "      <td>11.5</td>\n",
       "      <td>0.0</td>\n",
       "      <td>0.5</td>\n",
       "      <td>2.46</td>\n",
       "      <td>0.00</td>\n",
       "      <td>0.3</td>\n",
       "      <td>14.76</td>\n",
       "    </tr>\n",
       "    <tr>\n",
       "      <th>11</th>\n",
       "      <td>18600059</td>\n",
       "      <td>2</td>\n",
       "      <td>03/05/2017 7:15:30 PM</td>\n",
       "      <td>03/05/2017 7:52:18 PM</td>\n",
       "      <td>2</td>\n",
       "      <td>18.90</td>\n",
       "      <td>2</td>\n",
       "      <td>N</td>\n",
       "      <td>236</td>\n",
       "      <td>132</td>\n",
       "      <td>1</td>\n",
       "      <td>52.0</td>\n",
       "      <td>0.0</td>\n",
       "      <td>0.5</td>\n",
       "      <td>14.58</td>\n",
       "      <td>5.54</td>\n",
       "      <td>0.3</td>\n",
       "      <td>72.92</td>\n",
       "    </tr>\n",
       "    <tr>\n",
       "      <th>12</th>\n",
       "      <td>46782248</td>\n",
       "      <td>1</td>\n",
       "      <td>06/09/2017 7:00:26 PM</td>\n",
       "      <td>06/09/2017 7:20:11 PM</td>\n",
       "      <td>1</td>\n",
       "      <td>3.00</td>\n",
       "      <td>1</td>\n",
       "      <td>N</td>\n",
       "      <td>13</td>\n",
       "      <td>148</td>\n",
       "      <td>1</td>\n",
       "      <td>15.0</td>\n",
       "      <td>1.0</td>\n",
       "      <td>0.5</td>\n",
       "      <td>3.35</td>\n",
       "      <td>0.00</td>\n",
       "      <td>0.3</td>\n",
       "      <td>20.15</td>\n",
       "    </tr>\n",
       "    <tr>\n",
       "      <th>13</th>\n",
       "      <td>94113247</td>\n",
       "      <td>2</td>\n",
       "      <td>11/06/2017 11:35:05 PM</td>\n",
       "      <td>11/06/2017 11:42:57 PM</td>\n",
       "      <td>1</td>\n",
       "      <td>2.39</td>\n",
       "      <td>1</td>\n",
       "      <td>N</td>\n",
       "      <td>209</td>\n",
       "      <td>25</td>\n",
       "      <td>1</td>\n",
       "      <td>9.5</td>\n",
       "      <td>0.5</td>\n",
       "      <td>0.5</td>\n",
       "      <td>2.16</td>\n",
       "      <td>0.00</td>\n",
       "      <td>0.3</td>\n",
       "      <td>12.96</td>\n",
       "    </tr>\n",
       "    <tr>\n",
       "      <th>14</th>\n",
       "      <td>14168279</td>\n",
       "      <td>1</td>\n",
       "      <td>02/22/2017 3:18:31 PM</td>\n",
       "      <td>02/22/2017 3:42:50 PM</td>\n",
       "      <td>1</td>\n",
       "      <td>3.30</td>\n",
       "      <td>1</td>\n",
       "      <td>N</td>\n",
       "      <td>238</td>\n",
       "      <td>161</td>\n",
       "      <td>1</td>\n",
       "      <td>17.5</td>\n",
       "      <td>0.0</td>\n",
       "      <td>0.5</td>\n",
       "      <td>4.55</td>\n",
       "      <td>0.00</td>\n",
       "      <td>0.3</td>\n",
       "      <td>22.85</td>\n",
       "    </tr>\n",
       "    <tr>\n",
       "      <th>15</th>\n",
       "      <td>47444401</td>\n",
       "      <td>2</td>\n",
       "      <td>06/02/2017 6:41:39 AM</td>\n",
       "      <td>06/02/2017 6:57:47 AM</td>\n",
       "      <td>1</td>\n",
       "      <td>5.93</td>\n",
       "      <td>1</td>\n",
       "      <td>N</td>\n",
       "      <td>239</td>\n",
       "      <td>231</td>\n",
       "      <td>1</td>\n",
       "      <td>19.0</td>\n",
       "      <td>0.0</td>\n",
       "      <td>0.5</td>\n",
       "      <td>3.00</td>\n",
       "      <td>0.00</td>\n",
       "      <td>0.3</td>\n",
       "      <td>22.80</td>\n",
       "    </tr>\n",
       "    <tr>\n",
       "      <th>16</th>\n",
       "      <td>69088676</td>\n",
       "      <td>1</td>\n",
       "      <td>08/15/2017 7:48:08 PM</td>\n",
       "      <td>08/15/2017 8:00:37 PM</td>\n",
       "      <td>1</td>\n",
       "      <td>3.60</td>\n",
       "      <td>1</td>\n",
       "      <td>N</td>\n",
       "      <td>163</td>\n",
       "      <td>41</td>\n",
       "      <td>1</td>\n",
       "      <td>12.5</td>\n",
       "      <td>1.0</td>\n",
       "      <td>0.5</td>\n",
       "      <td>2.85</td>\n",
       "      <td>0.00</td>\n",
       "      <td>0.3</td>\n",
       "      <td>17.15</td>\n",
       "    </tr>\n",
       "    <tr>\n",
       "      <th>17</th>\n",
       "      <td>58691513</td>\n",
       "      <td>2</td>\n",
       "      <td>07/10/2017 1:36:31 PM</td>\n",
       "      <td>07/10/2017 1:48:43 PM</td>\n",
       "      <td>2</td>\n",
       "      <td>1.71</td>\n",
       "      <td>1</td>\n",
       "      <td>N</td>\n",
       "      <td>142</td>\n",
       "      <td>100</td>\n",
       "      <td>1</td>\n",
       "      <td>9.5</td>\n",
       "      <td>0.0</td>\n",
       "      <td>0.5</td>\n",
       "      <td>0.00</td>\n",
       "      <td>0.00</td>\n",
       "      <td>0.3</td>\n",
       "      <td>10.30</td>\n",
       "    </tr>\n",
       "    <tr>\n",
       "      <th>18</th>\n",
       "      <td>35388828</td>\n",
       "      <td>2</td>\n",
       "      <td>04/10/2017 6:12:58 PM</td>\n",
       "      <td>04/10/2017 6:17:39 PM</td>\n",
       "      <td>2</td>\n",
       "      <td>0.63</td>\n",
       "      <td>1</td>\n",
       "      <td>N</td>\n",
       "      <td>263</td>\n",
       "      <td>262</td>\n",
       "      <td>2</td>\n",
       "      <td>5.0</td>\n",
       "      <td>1.0</td>\n",
       "      <td>0.5</td>\n",
       "      <td>0.00</td>\n",
       "      <td>0.00</td>\n",
       "      <td>0.3</td>\n",
       "      <td>6.80</td>\n",
       "    </tr>\n",
       "    <tr>\n",
       "      <th>19</th>\n",
       "      <td>18383214</td>\n",
       "      <td>2</td>\n",
       "      <td>03/05/2017 4:01:07 AM</td>\n",
       "      <td>03/05/2017 4:14:11 AM</td>\n",
       "      <td>2</td>\n",
       "      <td>2.77</td>\n",
       "      <td>1</td>\n",
       "      <td>N</td>\n",
       "      <td>79</td>\n",
       "      <td>68</td>\n",
       "      <td>1</td>\n",
       "      <td>11.5</td>\n",
       "      <td>0.5</td>\n",
       "      <td>0.5</td>\n",
       "      <td>3.20</td>\n",
       "      <td>0.00</td>\n",
       "      <td>0.3</td>\n",
       "      <td>16.00</td>\n",
       "    </tr>\n",
       "  </tbody>\n",
       "</table>\n",
       "</div>"
      ],
      "text/plain": [
       "    Unnamed: 0  VendorID    tpep_pickup_datetime   tpep_dropoff_datetime  \\\n",
       "0     24870114         2   03/25/2017 8:55:43 AM   03/25/2017 9:09:47 AM   \n",
       "1     35634249         1   04/11/2017 2:53:28 PM   04/11/2017 3:19:58 PM   \n",
       "2    106203690         1   12/15/2017 7:26:56 AM   12/15/2017 7:34:08 AM   \n",
       "3     38942136         2   05/07/2017 1:17:59 PM   05/07/2017 1:48:14 PM   \n",
       "4     30841670         2  04/15/2017 11:32:20 PM  04/15/2017 11:49:03 PM   \n",
       "5     23345809         2   03/25/2017 8:34:11 PM   03/25/2017 8:42:11 PM   \n",
       "6     37660487         2   05/03/2017 7:04:09 PM   05/03/2017 8:03:47 PM   \n",
       "7     69059411         2   08/15/2017 5:41:06 PM   08/15/2017 6:03:05 PM   \n",
       "8      8433159         2   02/04/2017 4:17:07 PM   02/04/2017 4:29:14 PM   \n",
       "9     95294817         1   11/10/2017 3:20:29 PM   11/10/2017 3:40:55 PM   \n",
       "10    18017909         2  03/04/2017 11:58:00 AM  03/04/2017 12:13:12 PM   \n",
       "11    18600059         2   03/05/2017 7:15:30 PM   03/05/2017 7:52:18 PM   \n",
       "12    46782248         1   06/09/2017 7:00:26 PM   06/09/2017 7:20:11 PM   \n",
       "13    94113247         2  11/06/2017 11:35:05 PM  11/06/2017 11:42:57 PM   \n",
       "14    14168279         1   02/22/2017 3:18:31 PM   02/22/2017 3:42:50 PM   \n",
       "15    47444401         2   06/02/2017 6:41:39 AM   06/02/2017 6:57:47 AM   \n",
       "16    69088676         1   08/15/2017 7:48:08 PM   08/15/2017 8:00:37 PM   \n",
       "17    58691513         2   07/10/2017 1:36:31 PM   07/10/2017 1:48:43 PM   \n",
       "18    35388828         2   04/10/2017 6:12:58 PM   04/10/2017 6:17:39 PM   \n",
       "19    18383214         2   03/05/2017 4:01:07 AM   03/05/2017 4:14:11 AM   \n",
       "\n",
       "    passenger_count  trip_distance  RatecodeID store_and_fwd_flag  \\\n",
       "0                 6           3.34           1                  N   \n",
       "1                 1           1.80           1                  N   \n",
       "2                 1           1.00           1                  N   \n",
       "3                 1           3.70           1                  N   \n",
       "4                 1           4.37           1                  N   \n",
       "5                 6           2.30           1                  N   \n",
       "6                 1          12.83           1                  N   \n",
       "7                 1           2.98           1                  N   \n",
       "8                 1           1.20           1                  N   \n",
       "9                 1           1.60           1                  N   \n",
       "10                1           1.77           1                  N   \n",
       "11                2          18.90           2                  N   \n",
       "12                1           3.00           1                  N   \n",
       "13                1           2.39           1                  N   \n",
       "14                1           3.30           1                  N   \n",
       "15                1           5.93           1                  N   \n",
       "16                1           3.60           1                  N   \n",
       "17                2           1.71           1                  N   \n",
       "18                2           0.63           1                  N   \n",
       "19                2           2.77           1                  N   \n",
       "\n",
       "    PULocationID  DOLocationID  payment_type  fare_amount  extra  mta_tax  \\\n",
       "0            100           231             1         13.0    0.0      0.5   \n",
       "1            186            43             1         16.0    0.0      0.5   \n",
       "2            262           236             1          6.5    0.0      0.5   \n",
       "3            188            97             1         20.5    0.0      0.5   \n",
       "4              4           112             2         16.5    0.5      0.5   \n",
       "5            161           236             1          9.0    0.5      0.5   \n",
       "6             79           241             1         47.5    1.0      0.5   \n",
       "7            237           114             1         16.0    1.0      0.5   \n",
       "8            234           249             2          9.0    0.0      0.5   \n",
       "9            239           237             1         13.0    0.0      0.5   \n",
       "10           162           142             1         11.5    0.0      0.5   \n",
       "11           236           132             1         52.0    0.0      0.5   \n",
       "12            13           148             1         15.0    1.0      0.5   \n",
       "13           209            25             1          9.5    0.5      0.5   \n",
       "14           238           161             1         17.5    0.0      0.5   \n",
       "15           239           231             1         19.0    0.0      0.5   \n",
       "16           163            41             1         12.5    1.0      0.5   \n",
       "17           142           100             1          9.5    0.0      0.5   \n",
       "18           263           262             2          5.0    1.0      0.5   \n",
       "19            79            68             1         11.5    0.5      0.5   \n",
       "\n",
       "    tip_amount  tolls_amount  improvement_surcharge  total_amount  \n",
       "0         2.76          0.00                    0.3         16.56  \n",
       "1         4.00          0.00                    0.3         20.80  \n",
       "2         1.45          0.00                    0.3          8.75  \n",
       "3         6.39          0.00                    0.3         27.69  \n",
       "4         0.00          0.00                    0.3         17.80  \n",
       "5         2.06          0.00                    0.3         12.36  \n",
       "6         9.86          0.00                    0.3         59.16  \n",
       "7         1.78          0.00                    0.3         19.58  \n",
       "8         0.00          0.00                    0.3          9.80  \n",
       "9         2.75          0.00                    0.3         16.55  \n",
       "10        2.46          0.00                    0.3         14.76  \n",
       "11       14.58          5.54                    0.3         72.92  \n",
       "12        3.35          0.00                    0.3         20.15  \n",
       "13        2.16          0.00                    0.3         12.96  \n",
       "14        4.55          0.00                    0.3         22.85  \n",
       "15        3.00          0.00                    0.3         22.80  \n",
       "16        2.85          0.00                    0.3         17.15  \n",
       "17        0.00          0.00                    0.3         10.30  \n",
       "18        0.00          0.00                    0.3          6.80  \n",
       "19        3.20          0.00                    0.3         16.00  "
      ]
     },
     "execution_count": 4,
     "metadata": {},
     "output_type": "execute_result"
    }
   ],
   "source": [
    "df.head(20)"
   ]
  },
  {
   "cell_type": "markdown",
   "id": "2aaf50cd-1b4b-43f7-b473-1bda271158a7",
   "metadata": {},
   "source": [
    "**Data Dictionary Given By the client TLC to Automatidata -**\n",
    "\n",
    "1) The `Unnamed` column is the - Trip identification number.\n",
    "2) The `VendorID` column has - A code indicating the TPEP provider that provided the record.\n",
    "   \n",
    "   1 = Creative Mobile Technologies, LLC\n",
    "   \n",
    "   2 = VeriFone Inc.\n",
    "   \n",
    "4) The `tpep_pickup_datetime` is - The date and time when the meter was engaged.\n",
    "5) The `tpep_dropoff_datetime` is - The date and time when the meter was disengaged.\n",
    "6) The `Passenger_count` is - The number of passengers in the vehicle. This is a driver-entered value.\n",
    "7) The `Trip_distance` is - The elapsed trip distance in miles the taximeter reports.\n",
    "8) The `PULocationID` is - the TLC Taxi Zone in which the taximeter was engaged\n",
    "9) The `DOLocationID` column is - TLC Taxi Zone in which the taximeter was disengaged\n",
    "10) The `RateCodeID` column has an int64 datatype. The codes (The final rate code in effect at the end of the trip.) given below mean the following -\n",
    "\n",
    "    1 = Standard rate\n",
    "\n",
    "    2 = JFK\n",
    "\n",
    "    3 = Newark\n",
    "\n",
    "    4 = Nassau or Westchester\n",
    "\n",
    "    5 = Negotiated fare\n",
    "\n",
    "    6 = Group ride\n",
    "   \n",
    "12) The `Store_and_fwd_flag` - This flag indicates whether the trip record was held in vehicle memory before being sent to the vendor, aka “store and       forward,”  because the vehicle did not connect to the server.\n",
    "    \n",
    "    Y = store and forward trip\n",
    "    \n",
    "    N = not a store and forward trip\n",
    "    \n",
    "14) The `Payment_type` column contains data of a numeric code signifying how the passenger paid for the trip.\n",
    "\n",
    "    1 = Credit card\n",
    "\n",
    "    2 = Cash\n",
    "\n",
    "    3 = No charge\n",
    "\n",
    "    4 = Dispute\n",
    "\n",
    "    5 = Unknown\n",
    "\n",
    "    6 = Voided trip\n",
    "\n",
    "16) The `Fare_amount` column has data on the time-and-distance fare calculated by the meter.\n",
    "17) The `extra` column has data on the miscellaneous extras and surcharges. This only includes the Dollar 0.50 and Dollar 1 rush hour and        overnight charges.\n",
    "18) The `mta_tax` column - Dollar 0.50 MTA tax that is automatically triggered based on the metered rate in use.\n",
    "19) The `improvement_surcharge` column - Dollar 0.30 improvement surcharge assessed trips at the flag drop. The  improvement surcharge began being          levied in 2015.\n",
    "20) The `tip_amount` column - This field is automatically populated for credit card tips. Cash tips are not included.\n",
    "21) The `tolls_amount` column - Total amount of all tolls paid in the trip.\n",
    "22) The `total_amount` column - The total amount charged to passengers. Does not include cash tips. "
   ]
  },
  {
   "cell_type": "code",
   "execution_count": 5,
   "id": "cc2a4d63-d43d-4781-93ec-ab12671002c5",
   "metadata": {},
   "outputs": [
    {
     "data": {
      "text/html": [
       "<div>\n",
       "<style scoped>\n",
       "    .dataframe tbody tr th:only-of-type {\n",
       "        vertical-align: middle;\n",
       "    }\n",
       "\n",
       "    .dataframe tbody tr th {\n",
       "        vertical-align: top;\n",
       "    }\n",
       "\n",
       "    .dataframe thead th {\n",
       "        text-align: right;\n",
       "    }\n",
       "</style>\n",
       "<table border=\"1\" class=\"dataframe\">\n",
       "  <thead>\n",
       "    <tr style=\"text-align: right;\">\n",
       "      <th></th>\n",
       "      <th>Unnamed: 0</th>\n",
       "      <th>VendorID</th>\n",
       "      <th>passenger_count</th>\n",
       "      <th>trip_distance</th>\n",
       "      <th>RatecodeID</th>\n",
       "      <th>PULocationID</th>\n",
       "      <th>DOLocationID</th>\n",
       "      <th>payment_type</th>\n",
       "      <th>fare_amount</th>\n",
       "      <th>extra</th>\n",
       "      <th>mta_tax</th>\n",
       "      <th>tip_amount</th>\n",
       "      <th>tolls_amount</th>\n",
       "      <th>improvement_surcharge</th>\n",
       "      <th>total_amount</th>\n",
       "    </tr>\n",
       "  </thead>\n",
       "  <tbody>\n",
       "    <tr>\n",
       "      <th>count</th>\n",
       "      <td>2.269900e+04</td>\n",
       "      <td>22699.000000</td>\n",
       "      <td>22699.000000</td>\n",
       "      <td>22699.000000</td>\n",
       "      <td>22699.000000</td>\n",
       "      <td>22699.000000</td>\n",
       "      <td>22699.000000</td>\n",
       "      <td>22699.000000</td>\n",
       "      <td>22699.000000</td>\n",
       "      <td>22699.000000</td>\n",
       "      <td>22699.000000</td>\n",
       "      <td>22699.000000</td>\n",
       "      <td>22699.000000</td>\n",
       "      <td>22699.000000</td>\n",
       "      <td>22699.000000</td>\n",
       "    </tr>\n",
       "    <tr>\n",
       "      <th>mean</th>\n",
       "      <td>5.675849e+07</td>\n",
       "      <td>1.556236</td>\n",
       "      <td>1.642319</td>\n",
       "      <td>2.913313</td>\n",
       "      <td>1.043394</td>\n",
       "      <td>162.412353</td>\n",
       "      <td>161.527997</td>\n",
       "      <td>1.336887</td>\n",
       "      <td>13.026629</td>\n",
       "      <td>0.333275</td>\n",
       "      <td>0.497445</td>\n",
       "      <td>1.835781</td>\n",
       "      <td>0.312542</td>\n",
       "      <td>0.299551</td>\n",
       "      <td>16.310502</td>\n",
       "    </tr>\n",
       "    <tr>\n",
       "      <th>std</th>\n",
       "      <td>3.274493e+07</td>\n",
       "      <td>0.496838</td>\n",
       "      <td>1.285231</td>\n",
       "      <td>3.653171</td>\n",
       "      <td>0.708391</td>\n",
       "      <td>66.633373</td>\n",
       "      <td>70.139691</td>\n",
       "      <td>0.496211</td>\n",
       "      <td>13.243791</td>\n",
       "      <td>0.463097</td>\n",
       "      <td>0.039465</td>\n",
       "      <td>2.800626</td>\n",
       "      <td>1.399212</td>\n",
       "      <td>0.015673</td>\n",
       "      <td>16.097295</td>\n",
       "    </tr>\n",
       "    <tr>\n",
       "      <th>min</th>\n",
       "      <td>1.212700e+04</td>\n",
       "      <td>1.000000</td>\n",
       "      <td>0.000000</td>\n",
       "      <td>0.000000</td>\n",
       "      <td>1.000000</td>\n",
       "      <td>1.000000</td>\n",
       "      <td>1.000000</td>\n",
       "      <td>1.000000</td>\n",
       "      <td>-120.000000</td>\n",
       "      <td>-1.000000</td>\n",
       "      <td>-0.500000</td>\n",
       "      <td>0.000000</td>\n",
       "      <td>0.000000</td>\n",
       "      <td>-0.300000</td>\n",
       "      <td>-120.300000</td>\n",
       "    </tr>\n",
       "    <tr>\n",
       "      <th>25%</th>\n",
       "      <td>2.852056e+07</td>\n",
       "      <td>1.000000</td>\n",
       "      <td>1.000000</td>\n",
       "      <td>0.990000</td>\n",
       "      <td>1.000000</td>\n",
       "      <td>114.000000</td>\n",
       "      <td>112.000000</td>\n",
       "      <td>1.000000</td>\n",
       "      <td>6.500000</td>\n",
       "      <td>0.000000</td>\n",
       "      <td>0.500000</td>\n",
       "      <td>0.000000</td>\n",
       "      <td>0.000000</td>\n",
       "      <td>0.300000</td>\n",
       "      <td>8.750000</td>\n",
       "    </tr>\n",
       "    <tr>\n",
       "      <th>50%</th>\n",
       "      <td>5.673150e+07</td>\n",
       "      <td>2.000000</td>\n",
       "      <td>1.000000</td>\n",
       "      <td>1.610000</td>\n",
       "      <td>1.000000</td>\n",
       "      <td>162.000000</td>\n",
       "      <td>162.000000</td>\n",
       "      <td>1.000000</td>\n",
       "      <td>9.500000</td>\n",
       "      <td>0.000000</td>\n",
       "      <td>0.500000</td>\n",
       "      <td>1.350000</td>\n",
       "      <td>0.000000</td>\n",
       "      <td>0.300000</td>\n",
       "      <td>11.800000</td>\n",
       "    </tr>\n",
       "    <tr>\n",
       "      <th>75%</th>\n",
       "      <td>8.537452e+07</td>\n",
       "      <td>2.000000</td>\n",
       "      <td>2.000000</td>\n",
       "      <td>3.060000</td>\n",
       "      <td>1.000000</td>\n",
       "      <td>233.000000</td>\n",
       "      <td>233.000000</td>\n",
       "      <td>2.000000</td>\n",
       "      <td>14.500000</td>\n",
       "      <td>0.500000</td>\n",
       "      <td>0.500000</td>\n",
       "      <td>2.450000</td>\n",
       "      <td>0.000000</td>\n",
       "      <td>0.300000</td>\n",
       "      <td>17.800000</td>\n",
       "    </tr>\n",
       "    <tr>\n",
       "      <th>max</th>\n",
       "      <td>1.134863e+08</td>\n",
       "      <td>2.000000</td>\n",
       "      <td>6.000000</td>\n",
       "      <td>33.960000</td>\n",
       "      <td>99.000000</td>\n",
       "      <td>265.000000</td>\n",
       "      <td>265.000000</td>\n",
       "      <td>4.000000</td>\n",
       "      <td>999.990000</td>\n",
       "      <td>4.500000</td>\n",
       "      <td>0.500000</td>\n",
       "      <td>200.000000</td>\n",
       "      <td>19.100000</td>\n",
       "      <td>0.300000</td>\n",
       "      <td>1200.290000</td>\n",
       "    </tr>\n",
       "  </tbody>\n",
       "</table>\n",
       "</div>"
      ],
      "text/plain": [
       "         Unnamed: 0      VendorID  passenger_count  trip_distance  \\\n",
       "count  2.269900e+04  22699.000000     22699.000000   22699.000000   \n",
       "mean   5.675849e+07      1.556236         1.642319       2.913313   \n",
       "std    3.274493e+07      0.496838         1.285231       3.653171   \n",
       "min    1.212700e+04      1.000000         0.000000       0.000000   \n",
       "25%    2.852056e+07      1.000000         1.000000       0.990000   \n",
       "50%    5.673150e+07      2.000000         1.000000       1.610000   \n",
       "75%    8.537452e+07      2.000000         2.000000       3.060000   \n",
       "max    1.134863e+08      2.000000         6.000000      33.960000   \n",
       "\n",
       "         RatecodeID  PULocationID  DOLocationID  payment_type   fare_amount  \\\n",
       "count  22699.000000  22699.000000  22699.000000  22699.000000  22699.000000   \n",
       "mean       1.043394    162.412353    161.527997      1.336887     13.026629   \n",
       "std        0.708391     66.633373     70.139691      0.496211     13.243791   \n",
       "min        1.000000      1.000000      1.000000      1.000000   -120.000000   \n",
       "25%        1.000000    114.000000    112.000000      1.000000      6.500000   \n",
       "50%        1.000000    162.000000    162.000000      1.000000      9.500000   \n",
       "75%        1.000000    233.000000    233.000000      2.000000     14.500000   \n",
       "max       99.000000    265.000000    265.000000      4.000000    999.990000   \n",
       "\n",
       "              extra       mta_tax    tip_amount  tolls_amount  \\\n",
       "count  22699.000000  22699.000000  22699.000000  22699.000000   \n",
       "mean       0.333275      0.497445      1.835781      0.312542   \n",
       "std        0.463097      0.039465      2.800626      1.399212   \n",
       "min       -1.000000     -0.500000      0.000000      0.000000   \n",
       "25%        0.000000      0.500000      0.000000      0.000000   \n",
       "50%        0.000000      0.500000      1.350000      0.000000   \n",
       "75%        0.500000      0.500000      2.450000      0.000000   \n",
       "max        4.500000      0.500000    200.000000     19.100000   \n",
       "\n",
       "       improvement_surcharge  total_amount  \n",
       "count           22699.000000  22699.000000  \n",
       "mean                0.299551     16.310502  \n",
       "std                 0.015673     16.097295  \n",
       "min                -0.300000   -120.300000  \n",
       "25%                 0.300000      8.750000  \n",
       "50%                 0.300000     11.800000  \n",
       "75%                 0.300000     17.800000  \n",
       "max                 0.300000   1200.290000  "
      ]
     },
     "execution_count": 5,
     "metadata": {},
     "output_type": "execute_result"
    }
   ],
   "source": [
    "df.describe()"
   ]
  },
  {
   "cell_type": "code",
   "execution_count": 6,
   "id": "7ab21470-26af-40ce-9c05-a9d905eb2fad",
   "metadata": {},
   "outputs": [
    {
     "data": {
      "text/plain": [
       "(22699, 18)"
      ]
     },
     "execution_count": 6,
     "metadata": {},
     "output_type": "execute_result"
    }
   ],
   "source": [
    "df.shape"
   ]
  },
  {
   "cell_type": "code",
   "execution_count": 7,
   "id": "4bc8fd11-8fa7-46ec-82ee-2dcf9be2ce96",
   "metadata": {},
   "outputs": [
    {
     "data": {
      "text/plain": [
       "(22699, 18)"
      ]
     },
     "execution_count": 7,
     "metadata": {},
     "output_type": "execute_result"
    }
   ],
   "source": [
    "df.drop_duplicates().shape"
   ]
  },
  {
   "cell_type": "code",
   "execution_count": 8,
   "id": "232d7cb2-cdec-4c24-8144-5fbd26998f15",
   "metadata": {},
   "outputs": [
    {
     "data": {
      "text/plain": [
       "Unnamed: 0               0\n",
       "VendorID                 0\n",
       "tpep_pickup_datetime     0\n",
       "tpep_dropoff_datetime    0\n",
       "passenger_count          0\n",
       "trip_distance            0\n",
       "RatecodeID               0\n",
       "store_and_fwd_flag       0\n",
       "PULocationID             0\n",
       "DOLocationID             0\n",
       "payment_type             0\n",
       "fare_amount              0\n",
       "extra                    0\n",
       "mta_tax                  0\n",
       "tip_amount               0\n",
       "tolls_amount             0\n",
       "improvement_surcharge    0\n",
       "total_amount             0\n",
       "dtype: int64"
      ]
     },
     "execution_count": 8,
     "metadata": {},
     "output_type": "execute_result"
    }
   ],
   "source": [
    "df.isnull().sum()"
   ]
  },
  {
   "cell_type": "code",
   "execution_count": 9,
   "id": "c995ebac-ee19-42d9-bb4a-13f2e92de99a",
   "metadata": {},
   "outputs": [
    {
     "data": {
      "text/html": [
       "<div>\n",
       "<style scoped>\n",
       "    .dataframe tbody tr th:only-of-type {\n",
       "        vertical-align: middle;\n",
       "    }\n",
       "\n",
       "    .dataframe tbody tr th {\n",
       "        vertical-align: top;\n",
       "    }\n",
       "\n",
       "    .dataframe thead th {\n",
       "        text-align: right;\n",
       "    }\n",
       "</style>\n",
       "<table border=\"1\" class=\"dataframe\">\n",
       "  <thead>\n",
       "    <tr style=\"text-align: right;\">\n",
       "      <th></th>\n",
       "      <th>Unnamed: 0</th>\n",
       "      <th>VendorID</th>\n",
       "      <th>tpep_pickup_datetime</th>\n",
       "      <th>tpep_dropoff_datetime</th>\n",
       "      <th>passenger_count</th>\n",
       "      <th>trip_distance</th>\n",
       "      <th>RatecodeID</th>\n",
       "      <th>store_and_fwd_flag</th>\n",
       "      <th>PULocationID</th>\n",
       "      <th>DOLocationID</th>\n",
       "      <th>payment_type</th>\n",
       "      <th>fare_amount</th>\n",
       "      <th>extra</th>\n",
       "      <th>mta_tax</th>\n",
       "      <th>tip_amount</th>\n",
       "      <th>tolls_amount</th>\n",
       "      <th>improvement_surcharge</th>\n",
       "      <th>total_amount</th>\n",
       "    </tr>\n",
       "  </thead>\n",
       "  <tbody>\n",
       "    <tr>\n",
       "      <th>0</th>\n",
       "      <td>True</td>\n",
       "      <td>True</td>\n",
       "      <td>True</td>\n",
       "      <td>True</td>\n",
       "      <td>True</td>\n",
       "      <td>True</td>\n",
       "      <td>True</td>\n",
       "      <td>True</td>\n",
       "      <td>True</td>\n",
       "      <td>True</td>\n",
       "      <td>True</td>\n",
       "      <td>True</td>\n",
       "      <td>True</td>\n",
       "      <td>True</td>\n",
       "      <td>True</td>\n",
       "      <td>True</td>\n",
       "      <td>True</td>\n",
       "      <td>True</td>\n",
       "    </tr>\n",
       "    <tr>\n",
       "      <th>1</th>\n",
       "      <td>True</td>\n",
       "      <td>True</td>\n",
       "      <td>True</td>\n",
       "      <td>True</td>\n",
       "      <td>True</td>\n",
       "      <td>True</td>\n",
       "      <td>True</td>\n",
       "      <td>True</td>\n",
       "      <td>True</td>\n",
       "      <td>True</td>\n",
       "      <td>True</td>\n",
       "      <td>True</td>\n",
       "      <td>True</td>\n",
       "      <td>True</td>\n",
       "      <td>True</td>\n",
       "      <td>True</td>\n",
       "      <td>True</td>\n",
       "      <td>True</td>\n",
       "    </tr>\n",
       "    <tr>\n",
       "      <th>2</th>\n",
       "      <td>True</td>\n",
       "      <td>True</td>\n",
       "      <td>True</td>\n",
       "      <td>True</td>\n",
       "      <td>True</td>\n",
       "      <td>True</td>\n",
       "      <td>True</td>\n",
       "      <td>True</td>\n",
       "      <td>True</td>\n",
       "      <td>True</td>\n",
       "      <td>True</td>\n",
       "      <td>True</td>\n",
       "      <td>True</td>\n",
       "      <td>True</td>\n",
       "      <td>True</td>\n",
       "      <td>True</td>\n",
       "      <td>True</td>\n",
       "      <td>True</td>\n",
       "    </tr>\n",
       "    <tr>\n",
       "      <th>3</th>\n",
       "      <td>True</td>\n",
       "      <td>True</td>\n",
       "      <td>True</td>\n",
       "      <td>True</td>\n",
       "      <td>True</td>\n",
       "      <td>True</td>\n",
       "      <td>True</td>\n",
       "      <td>True</td>\n",
       "      <td>True</td>\n",
       "      <td>True</td>\n",
       "      <td>True</td>\n",
       "      <td>True</td>\n",
       "      <td>True</td>\n",
       "      <td>True</td>\n",
       "      <td>True</td>\n",
       "      <td>True</td>\n",
       "      <td>True</td>\n",
       "      <td>True</td>\n",
       "    </tr>\n",
       "    <tr>\n",
       "      <th>4</th>\n",
       "      <td>True</td>\n",
       "      <td>True</td>\n",
       "      <td>True</td>\n",
       "      <td>True</td>\n",
       "      <td>True</td>\n",
       "      <td>True</td>\n",
       "      <td>True</td>\n",
       "      <td>True</td>\n",
       "      <td>True</td>\n",
       "      <td>True</td>\n",
       "      <td>True</td>\n",
       "      <td>True</td>\n",
       "      <td>True</td>\n",
       "      <td>True</td>\n",
       "      <td>True</td>\n",
       "      <td>True</td>\n",
       "      <td>True</td>\n",
       "      <td>True</td>\n",
       "    </tr>\n",
       "    <tr>\n",
       "      <th>...</th>\n",
       "      <td>...</td>\n",
       "      <td>...</td>\n",
       "      <td>...</td>\n",
       "      <td>...</td>\n",
       "      <td>...</td>\n",
       "      <td>...</td>\n",
       "      <td>...</td>\n",
       "      <td>...</td>\n",
       "      <td>...</td>\n",
       "      <td>...</td>\n",
       "      <td>...</td>\n",
       "      <td>...</td>\n",
       "      <td>...</td>\n",
       "      <td>...</td>\n",
       "      <td>...</td>\n",
       "      <td>...</td>\n",
       "      <td>...</td>\n",
       "      <td>...</td>\n",
       "    </tr>\n",
       "    <tr>\n",
       "      <th>22694</th>\n",
       "      <td>True</td>\n",
       "      <td>True</td>\n",
       "      <td>True</td>\n",
       "      <td>True</td>\n",
       "      <td>True</td>\n",
       "      <td>True</td>\n",
       "      <td>True</td>\n",
       "      <td>True</td>\n",
       "      <td>True</td>\n",
       "      <td>True</td>\n",
       "      <td>True</td>\n",
       "      <td>True</td>\n",
       "      <td>True</td>\n",
       "      <td>True</td>\n",
       "      <td>True</td>\n",
       "      <td>True</td>\n",
       "      <td>True</td>\n",
       "      <td>True</td>\n",
       "    </tr>\n",
       "    <tr>\n",
       "      <th>22695</th>\n",
       "      <td>True</td>\n",
       "      <td>True</td>\n",
       "      <td>True</td>\n",
       "      <td>True</td>\n",
       "      <td>True</td>\n",
       "      <td>True</td>\n",
       "      <td>True</td>\n",
       "      <td>True</td>\n",
       "      <td>True</td>\n",
       "      <td>True</td>\n",
       "      <td>True</td>\n",
       "      <td>True</td>\n",
       "      <td>True</td>\n",
       "      <td>True</td>\n",
       "      <td>True</td>\n",
       "      <td>True</td>\n",
       "      <td>True</td>\n",
       "      <td>True</td>\n",
       "    </tr>\n",
       "    <tr>\n",
       "      <th>22696</th>\n",
       "      <td>True</td>\n",
       "      <td>True</td>\n",
       "      <td>True</td>\n",
       "      <td>True</td>\n",
       "      <td>True</td>\n",
       "      <td>True</td>\n",
       "      <td>True</td>\n",
       "      <td>True</td>\n",
       "      <td>True</td>\n",
       "      <td>True</td>\n",
       "      <td>True</td>\n",
       "      <td>True</td>\n",
       "      <td>True</td>\n",
       "      <td>True</td>\n",
       "      <td>True</td>\n",
       "      <td>True</td>\n",
       "      <td>True</td>\n",
       "      <td>True</td>\n",
       "    </tr>\n",
       "    <tr>\n",
       "      <th>22697</th>\n",
       "      <td>True</td>\n",
       "      <td>True</td>\n",
       "      <td>True</td>\n",
       "      <td>True</td>\n",
       "      <td>True</td>\n",
       "      <td>True</td>\n",
       "      <td>True</td>\n",
       "      <td>True</td>\n",
       "      <td>True</td>\n",
       "      <td>True</td>\n",
       "      <td>True</td>\n",
       "      <td>True</td>\n",
       "      <td>True</td>\n",
       "      <td>True</td>\n",
       "      <td>True</td>\n",
       "      <td>True</td>\n",
       "      <td>True</td>\n",
       "      <td>True</td>\n",
       "    </tr>\n",
       "    <tr>\n",
       "      <th>22698</th>\n",
       "      <td>True</td>\n",
       "      <td>True</td>\n",
       "      <td>True</td>\n",
       "      <td>True</td>\n",
       "      <td>True</td>\n",
       "      <td>True</td>\n",
       "      <td>True</td>\n",
       "      <td>True</td>\n",
       "      <td>True</td>\n",
       "      <td>True</td>\n",
       "      <td>True</td>\n",
       "      <td>True</td>\n",
       "      <td>True</td>\n",
       "      <td>True</td>\n",
       "      <td>True</td>\n",
       "      <td>True</td>\n",
       "      <td>True</td>\n",
       "      <td>True</td>\n",
       "    </tr>\n",
       "  </tbody>\n",
       "</table>\n",
       "<p>22699 rows × 18 columns</p>\n",
       "</div>"
      ],
      "text/plain": [
       "       Unnamed: 0  VendorID  tpep_pickup_datetime  tpep_dropoff_datetime  \\\n",
       "0            True      True                  True                   True   \n",
       "1            True      True                  True                   True   \n",
       "2            True      True                  True                   True   \n",
       "3            True      True                  True                   True   \n",
       "4            True      True                  True                   True   \n",
       "...           ...       ...                   ...                    ...   \n",
       "22694        True      True                  True                   True   \n",
       "22695        True      True                  True                   True   \n",
       "22696        True      True                  True                   True   \n",
       "22697        True      True                  True                   True   \n",
       "22698        True      True                  True                   True   \n",
       "\n",
       "       passenger_count  trip_distance  RatecodeID  store_and_fwd_flag  \\\n",
       "0                 True           True        True                True   \n",
       "1                 True           True        True                True   \n",
       "2                 True           True        True                True   \n",
       "3                 True           True        True                True   \n",
       "4                 True           True        True                True   \n",
       "...                ...            ...         ...                 ...   \n",
       "22694             True           True        True                True   \n",
       "22695             True           True        True                True   \n",
       "22696             True           True        True                True   \n",
       "22697             True           True        True                True   \n",
       "22698             True           True        True                True   \n",
       "\n",
       "       PULocationID  DOLocationID  payment_type  fare_amount  extra  mta_tax  \\\n",
       "0              True          True          True         True   True     True   \n",
       "1              True          True          True         True   True     True   \n",
       "2              True          True          True         True   True     True   \n",
       "3              True          True          True         True   True     True   \n",
       "4              True          True          True         True   True     True   \n",
       "...             ...           ...           ...          ...    ...      ...   \n",
       "22694          True          True          True         True   True     True   \n",
       "22695          True          True          True         True   True     True   \n",
       "22696          True          True          True         True   True     True   \n",
       "22697          True          True          True         True   True     True   \n",
       "22698          True          True          True         True   True     True   \n",
       "\n",
       "       tip_amount  tolls_amount  improvement_surcharge  total_amount  \n",
       "0            True          True                   True          True  \n",
       "1            True          True                   True          True  \n",
       "2            True          True                   True          True  \n",
       "3            True          True                   True          True  \n",
       "4            True          True                   True          True  \n",
       "...           ...           ...                    ...           ...  \n",
       "22694        True          True                   True          True  \n",
       "22695        True          True                   True          True  \n",
       "22696        True          True                   True          True  \n",
       "22697        True          True                   True          True  \n",
       "22698        True          True                   True          True  \n",
       "\n",
       "[22699 rows x 18 columns]"
      ]
     },
     "execution_count": 9,
     "metadata": {},
     "output_type": "execute_result"
    }
   ],
   "source": [
    "pd.notna(df)"
   ]
  },
  {
   "cell_type": "markdown",
   "id": "c0742270-c6c7-4d88-88ef-3848debed778",
   "metadata": {},
   "source": [
    "#### **Some Analysis** - \n",
    "\n",
    "**1) Regarding the Shape, Duplicates and Null Values in the Dataset - df  -**\n",
    "\n",
    "From the `df.shape` and `df.drop_duplicates().shape` functions' output, it is evident that there are **22,699** rows and **18** columns in the dataset df. If we compare this output of the number of rows and columns to the output of the `df.info()` function, it is evident that the non-null value count of all the 18 columns is equal to the number of non-duplicate rows in the dataset that is, 22,699. This means we do not have any missing data or null values to deal with. To just verify the same, I ran the code df.isnull().sum() and all the columns show 0 as the value of the number of nulls. Hence there are no nulls. \n",
    "\n",
    "**2) Regarding the Datatypes of the columns in df  -**\n",
    "\n",
    "1) The Unnamed column, VendorID column, passenger_count column, RatecodeID, PULocationID, DOLocationID and the payment_type columns are all of the `int64` datatype (Total of 7 columns)\n",
    "2) The trip_distance column, fare_amount, extra, mta_tax, trip_amount, tolls_amount, improvemnt_surchare and total_amount columns are all of the `float64` datatype (Total of 8 columns)\n",
    "3) tpep_pickup_datetime, tpep_dropoff_datetime and store_and_fwd_flag columns are of the `object` datatype.\n",
    "\n",
    " **3) Regarding the Describe Output  -**\n",
    "\n",
    "**Negative Fare Amount**\n",
    "\n",
    "When reviewing the df.describe() function's output, The minimum fare amount of **-120.00**, minimum extra amount of **-1.00**, mta tax of **-0.50**, Improvement surcharge of **-0.30**, and the total amount of **-120.30** stand out. Minus values for a fare do not seem to be possible but can be possible in the following scenarios -\n",
    "\n",
    "1) If a ride service offers a discount or voucher or a credit greater than the actual fare amount, the system may display a negative fare temporarily. Example, a fare of 1000 dollars with a voucher of 1200 dollars might result in a displayed balance of -20 dollars\n",
    "2) A negative entry might have occured due to incorrect entries in fare calculations.\n",
    "3) If a fare is overcharged to the customer and requires adjustment, a negative amount maybe shown in the system as the refund to be issued to the customer/user.\n",
    "4) A ride may show negative balances if cashback or credits are applied to the user's account for future rides.\n",
    "5) Incorrect handling of curreny exchange rates or sign conventions during cross-border payments could result in a negative fare.\n",
    "\n",
    "But again, in standard operations, an overpayment or refund in case of point number 3, is processed separately and is not expected to show up as a negative fare.\n",
    "\n",
    "**TPEP Provider**\n",
    "\n",
    "When we Look at the Maximum value, it is evident that most taxis use the **Verifone Inc.** TPEP provider for their meter. \n",
    "\n",
    "**0 Passenger Count** \n",
    "\n",
    "The minimum passenger count of 0 indicates that - \n",
    "\n",
    "1) They are riding empty because the route or service may have been available to the passengers during that time period but no one utilized that           service.\n",
    "2) The cab is running empty during the peak hours or there were no passengers during a particular trip.\n",
    "3) Data collection issue could be possible.\n",
    "4) Certain cabs may run empty for running test routes or carrying other goods apart from people for instance.\n",
    "5) `The cab might be running empty due to low passenger demand` - This definitely looks like a point to consider.\n",
    "6) `Could also indicate passenger ride cancellations` - This is also a point to definitelty consider.\n",
    "\n",
    "**0 Trip Distance**\n",
    "\n",
    "1) May indicate passenger trip cancellations by a passenger because of which the vehicle did not move.\n",
    "2) faulty GPS systems in the cab may have failed to record the distance\n",
    "\n",
    "**NOTE -** **`ZERO`** counts need to be analysed and looked into properly as they may either be important outliers to take into consideration for the above mentioned reasons, or they may also indicate values that may not be relevant to analysis which can be filtered out.\n",
    "\n",
    "**Payment_Type**\n",
    "\n",
    "Maximum payments seem to be disputed as the Maximum payment type shows up as **`4`** whose code when refered to in the data dictionary indicate **`Dispute`**\n",
    "\n",
    "**RatecodeID**\n",
    "\n",
    "The maximum RatecodeID shows up as **`99`** when there are only **6** categories. This seems to be an error in the data and must be taken into consideration during EDA. "
   ]
  },
  {
   "cell_type": "markdown",
   "id": "e3d0a88b-bd25-418e-b9f5-3648b1ebd882",
   "metadata": {},
   "source": [
    "# **2) Investigating the Variables**\n",
    "\n",
    "The goal of this part of the Jupyter Notebook is to sort and interpret the data based on the two variables `trip_distance` and `total_amount`. "
   ]
  },
  {
   "cell_type": "code",
   "execution_count": 10,
   "id": "1473c67a-7122-4ae2-968f-6d18e01e1ddd",
   "metadata": {},
   "outputs": [
    {
     "data": {
      "text/plain": [
       "9280     33.96\n",
       "13861    33.92\n",
       "6064     32.72\n",
       "10291    31.95\n",
       "29       30.83\n",
       "18130    30.50\n",
       "5792     30.33\n",
       "15350    28.23\n",
       "10302    28.20\n",
       "2592     27.97\n",
       "20612    27.88\n",
       "1908     27.34\n",
       "20545    27.20\n",
       "4138     26.86\n",
       "15169    26.54\n",
       "1496     26.39\n",
       "7217     26.20\n",
       "19483    26.12\n",
       "908      26.12\n",
       "4715     25.86\n",
       "Name: trip_distance, dtype: float64"
      ]
     },
     "execution_count": 10,
     "metadata": {},
     "output_type": "execute_result"
    }
   ],
   "source": [
    "# Sorting the data by trip distance in descending order (Maximum to Minimum value)\n",
    "df_sorted_trip_distance = df.sort_values(by=['trip_distance'], ascending=False)['trip_distance']\n",
    "df_sorted_trip_distance.head(20)"
   ]
  },
  {
   "cell_type": "code",
   "execution_count": 11,
   "id": "ebd21d4b-1ca9-44c6-8500-f9245151d84c",
   "metadata": {},
   "outputs": [
    {
     "data": {
      "text/plain": [
       "8476     1200.29\n",
       "20312     450.30\n",
       "13861     258.21\n",
       "12511     233.74\n",
       "15474     211.80\n",
       "6064      179.06\n",
       "16379     157.06\n",
       "3582      152.30\n",
       "11269     151.82\n",
       "9280      150.30\n",
       "1928      137.80\n",
       "10291     131.80\n",
       "6708      126.00\n",
       "11608     123.30\n",
       "908       121.56\n",
       "7281      120.96\n",
       "18130     119.31\n",
       "13621     115.94\n",
       "13359     111.95\n",
       "29        111.38\n",
       "Name: total_amount, dtype: float64"
      ]
     },
     "execution_count": 11,
     "metadata": {},
     "output_type": "execute_result"
    }
   ],
   "source": [
    "# Sorting the Data by total amount and printing the top 20 values. \n",
    "df_sorted_total_amt = df.sort_values(by=['total_amount'], ascending=False)['total_amount']\n",
    "df_sorted_total_amt.head(20)"
   ]
  },
  {
   "cell_type": "code",
   "execution_count": 12,
   "id": "dedd23d1-f5bd-49d6-a76b-6d8ef4fd24c8",
   "metadata": {},
   "outputs": [
    {
     "data": {
      "text/plain": [
       "14283      0.31\n",
       "19067      0.30\n",
       "10506      0.00\n",
       "4402       0.00\n",
       "22566      0.00\n",
       "5722       0.00\n",
       "1646      -3.30\n",
       "314       -3.80\n",
       "18565     -3.80\n",
       "5758      -3.80\n",
       "10281     -4.30\n",
       "5448      -4.30\n",
       "4423      -4.30\n",
       "8204      -4.80\n",
       "20317     -4.80\n",
       "11204     -5.30\n",
       "14714     -5.30\n",
       "20698     -5.80\n",
       "17602     -5.80\n",
       "12944   -120.30\n",
       "Name: total_amount, dtype: float64"
      ]
     },
     "execution_count": 12,
     "metadata": {},
     "output_type": "execute_result"
    }
   ],
   "source": [
    "df_sorted_total_amt.tail(20)"
   ]
  },
  {
   "cell_type": "markdown",
   "id": "b962c7dc-ef6a-40ea-ab02-a41f45f9bf01",
   "metadata": {},
   "source": [
    "This part of the Jupyter Notebook aims at understanding the payment type, the mean amount of tip paid through the top two modes of payment, the prefered vendor for payment and the passenger count corresponding to their mode of payment. "
   ]
  },
  {
   "cell_type": "code",
   "execution_count": 13,
   "id": "8affbb8c-ec2d-4db7-9a80-aff61b17d22b",
   "metadata": {},
   "outputs": [
    {
     "data": {
      "text/plain": [
       "payment_type\n",
       "1    15265\n",
       "2     7267\n",
       "3      121\n",
       "4       46\n",
       "Name: count, dtype: int64"
      ]
     },
     "execution_count": 13,
     "metadata": {},
     "output_type": "execute_result"
    }
   ],
   "source": [
    "# The count of each payment type that is represented in the data. \n",
    "df['payment_type'].value_counts()"
   ]
  },
  {
   "cell_type": "markdown",
   "id": "91589591-48be-43ce-8c26-6d7bc2b991db",
   "metadata": {},
   "source": [
    "**According to the data, the payment method is encoded as follows:**\n",
    "\n",
    "1)   **1 = Credit card**\n",
    "2)   **2 = Cash**\n",
    "3)   **3 = No charge**\n",
    "4)   **4 = Dispute**\n",
    "5)   **5 = Unknown**\n",
    "6)   **6 = Voided trip**"
   ]
  },
  {
   "cell_type": "code",
   "execution_count": 14,
   "id": "beaa9182-5ccb-4dae-8368-33b3961eacde",
   "metadata": {},
   "outputs": [
    {
     "name": "stdout",
     "output_type": "stream",
     "text": [
      "The Average Credit Card tip is - 2.7298001965280054\n"
     ]
    }
   ],
   "source": [
    "# Calculating the average tip for trips paid with a Credit Card\n",
    "avg_cc_tip = df[df['payment_type']==1]['tip_amount'].mean()\n",
    "print('The Average Credit Card tip is -', avg_cc_tip)"
   ]
  },
  {
   "cell_type": "code",
   "execution_count": 15,
   "id": "be2f8527-6af6-4eb3-8b44-6b97ab7d3985",
   "metadata": {},
   "outputs": [
    {
     "name": "stdout",
     "output_type": "stream",
     "text": [
      "The Average Cash tip is - 0.0\n"
     ]
    }
   ],
   "source": [
    "# Calculating the average tip for trips paid with Cash\n",
    "avg_cash_tip = df[df['payment_type']==2]['tip_amount'].mean()\n",
    "print('The Average Cash tip is -' ,avg_cash_tip)"
   ]
  },
  {
   "cell_type": "code",
   "execution_count": 16,
   "id": "b3f930a4-cd5f-4883-ab0f-775b02eeb180",
   "metadata": {},
   "outputs": [
    {
     "data": {
      "text/plain": [
       "VendorID\n",
       "2    12626\n",
       "1    10073\n",
       "Name: count, dtype: int64"
      ]
     },
     "execution_count": 16,
     "metadata": {},
     "output_type": "execute_result"
    }
   ],
   "source": [
    "df['VendorID'].value_counts()"
   ]
  },
  {
   "cell_type": "markdown",
   "id": "c53125bc-883f-415f-8269-40a3076a85a8",
   "metadata": {},
   "source": [
    "**In the above output, there are two vendor IDs 1 and 2. They represent the following :**\n",
    "\n",
    "1) **1 - Creative Mobile Technologies, LLC**\n",
    "\n",
    "2) **2 - VeriFone Inc.**"
   ]
  },
  {
   "cell_type": "code",
   "execution_count": 17,
   "id": "5e4969c1-6bb8-49e9-a1ed-cd790ae5fb75",
   "metadata": {},
   "outputs": [
    {
     "data": {
      "text/html": [
       "<div>\n",
       "<style scoped>\n",
       "    .dataframe tbody tr th:only-of-type {\n",
       "        vertical-align: middle;\n",
       "    }\n",
       "\n",
       "    .dataframe tbody tr th {\n",
       "        vertical-align: top;\n",
       "    }\n",
       "\n",
       "    .dataframe thead th {\n",
       "        text-align: right;\n",
       "    }\n",
       "</style>\n",
       "<table border=\"1\" class=\"dataframe\">\n",
       "  <thead>\n",
       "    <tr style=\"text-align: right;\">\n",
       "      <th></th>\n",
       "      <th>total_amount</th>\n",
       "    </tr>\n",
       "    <tr>\n",
       "      <th>VendorID</th>\n",
       "      <th></th>\n",
       "    </tr>\n",
       "  </thead>\n",
       "  <tbody>\n",
       "    <tr>\n",
       "      <th>1</th>\n",
       "      <td>16.298119</td>\n",
       "    </tr>\n",
       "    <tr>\n",
       "      <th>2</th>\n",
       "      <td>16.320382</td>\n",
       "    </tr>\n",
       "  </tbody>\n",
       "</table>\n",
       "</div>"
      ],
      "text/plain": [
       "          total_amount\n",
       "VendorID              \n",
       "1            16.298119\n",
       "2            16.320382"
      ]
     },
     "execution_count": 17,
     "metadata": {},
     "output_type": "execute_result"
    }
   ],
   "source": [
    "df.groupby(['VendorID']).mean(numeric_only=True)[['total_amount']]"
   ]
  },
  {
   "cell_type": "code",
   "execution_count": 18,
   "id": "6650cafe-e37d-41c7-a6f2-2ccb3db0df9c",
   "metadata": {},
   "outputs": [
    {
     "data": {
      "text/plain": [
       "passenger_count\n",
       "1    10977\n",
       "2     2168\n",
       "5      775\n",
       "3      600\n",
       "6      451\n",
       "4      267\n",
       "0       27\n",
       "Name: count, dtype: int64"
      ]
     },
     "execution_count": 18,
     "metadata": {},
     "output_type": "execute_result"
    }
   ],
   "source": [
    "# Filtering the data for credit card payments only and then from this filtered data, filtering the credit-card-only data for passenger count only\n",
    "cc_payments_data = df[df['payment_type']==1]\n",
    "cc_payments_data['passenger_count'].value_counts()"
   ]
  },
  {
   "cell_type": "code",
   "execution_count": 19,
   "id": "456a4eeb-93b3-40d9-9c5b-be836ca03f74",
   "metadata": {},
   "outputs": [
    {
     "data": {
      "text/html": [
       "<div>\n",
       "<style scoped>\n",
       "    .dataframe tbody tr th:only-of-type {\n",
       "        vertical-align: middle;\n",
       "    }\n",
       "\n",
       "    .dataframe tbody tr th {\n",
       "        vertical-align: top;\n",
       "    }\n",
       "\n",
       "    .dataframe thead th {\n",
       "        text-align: right;\n",
       "    }\n",
       "</style>\n",
       "<table border=\"1\" class=\"dataframe\">\n",
       "  <thead>\n",
       "    <tr style=\"text-align: right;\">\n",
       "      <th></th>\n",
       "      <th>tip_amount</th>\n",
       "    </tr>\n",
       "    <tr>\n",
       "      <th>passenger_count</th>\n",
       "      <th></th>\n",
       "    </tr>\n",
       "  </thead>\n",
       "  <tbody>\n",
       "    <tr>\n",
       "      <th>0</th>\n",
       "      <td>2.610370</td>\n",
       "    </tr>\n",
       "    <tr>\n",
       "      <th>1</th>\n",
       "      <td>2.714681</td>\n",
       "    </tr>\n",
       "    <tr>\n",
       "      <th>2</th>\n",
       "      <td>2.829949</td>\n",
       "    </tr>\n",
       "    <tr>\n",
       "      <th>3</th>\n",
       "      <td>2.726800</td>\n",
       "    </tr>\n",
       "    <tr>\n",
       "      <th>4</th>\n",
       "      <td>2.607753</td>\n",
       "    </tr>\n",
       "    <tr>\n",
       "      <th>5</th>\n",
       "      <td>2.762645</td>\n",
       "    </tr>\n",
       "    <tr>\n",
       "      <th>6</th>\n",
       "      <td>2.643326</td>\n",
       "    </tr>\n",
       "  </tbody>\n",
       "</table>\n",
       "</div>"
      ],
      "text/plain": [
       "                 tip_amount\n",
       "passenger_count            \n",
       "0                  2.610370\n",
       "1                  2.714681\n",
       "2                  2.829949\n",
       "3                  2.726800\n",
       "4                  2.607753\n",
       "5                  2.762645\n",
       "6                  2.643326"
      ]
     },
     "execution_count": 19,
     "metadata": {},
     "output_type": "execute_result"
    }
   ],
   "source": [
    "# Calculating the average tip amount for each passenger count (Credit Card payments only)\n",
    "cc_payments_data.groupby(['passenger_count']).mean(numeric_only=True)[['tip_amount']]"
   ]
  },
  {
   "cell_type": "markdown",
   "id": "b4a3088e-ba72-40ee-aec9-126e232b6b90",
   "metadata": {},
   "source": [
    "#### **NYC's Trip Data Summary -**\n",
    "\n",
    "From the analysis till now, it is pretty much evident that the two most important variables for building a predictive Machine Learning model for the client NYC's TLC would be `trip_distance` and `total_amount` because these are the only two variables which show a complete picture of the taxi cab rides. \n",
    "\n",
    "Based on this base, Exploratory Data Analysis (EDA) has been done using Python in this Jupyter Notebook. Refer below.  "
   ]
  },
  {
   "cell_type": "markdown",
   "id": "2c35e0dc-600b-459a-a0c6-0c297873b466",
   "metadata": {},
   "source": [
    "# **3) Exploratory Data Analysis (EDA), Visualizations and Evaluating Results**\n",
    "\n",
    "This part of the Jupyter Notebook aims at - \n",
    "1) Data Exploration\n",
    "2) Building Data Visualizations (which are even visually impaired-friendly) both in this notebook and on Tableau\n",
    "3) Evaluating and sharing the results. "
   ]
  },
  {
   "cell_type": "code",
   "execution_count": 20,
   "id": "5bed7654-e219-4155-8430-006331a75b06",
   "metadata": {},
   "outputs": [],
   "source": [
    "# Converting the `tpep_pickup_datetime` and `tpep_dropoff_datetime` columns to datetime\n",
    "df['tpep_pickup_datetime'] = pd.to_datetime(df['tpep_pickup_datetime'])\n",
    "df['tpep_dropoff_datetime'] = pd.to_datetime(df['tpep_dropoff_datetime'])"
   ]
  },
  {
   "cell_type": "markdown",
   "id": "aedf7d8a-6cbc-4609-90a8-2060724ba3ec",
   "metadata": {},
   "source": [
    "**TRIP DISTANCE**"
   ]
  },
  {
   "cell_type": "code",
   "execution_count": 21,
   "id": "23fea526-21b3-4c4a-bed8-ce884f72a4a3",
   "metadata": {},
   "outputs": [
    {
     "data": {
      "image/png": "[encoded data removed]",
      "text/plain": [
       "<Figure size 600x200 with 1 Axes>"
      ]
     },
     "metadata": {},
     "output_type": "display_data"
    }
   ],
   "source": [
    "# Creating a Box Plot of `trip_distance`\n",
    "plt.figure(figsize=(6,2))\n",
    "plt.title(\"Trip Distance - Box Plot\")\n",
    "sns.boxplot(data=None, x=df['trip_distance'], fliersize=1);"
   ]
  },
  {
   "cell_type": "code",
   "execution_count": 22,
   "id": "fc4a74ab-80a8-499b-b302-ad42a370c181",
   "metadata": {},
   "outputs": [
    {
     "data": {
      "image/png": "[encoded data removed]",
      "text/plain": [
       "<Figure size 800x600 with 1 Axes>"
      ]
     },
     "metadata": {},
     "output_type": "display_data"
    }
   ],
   "source": [
    "# Creating a Histogram of `trip_distance` \n",
    "plt.figure(figsize=(8,6))\n",
    "plt.title(\"Trip Distance - Histogram\")\n",
    "sns.histplot(df['trip_distance'], bins=range(0,26,1));"
   ]
  },
  {
   "cell_type": "markdown",
   "id": "c3151d70-9a7c-4efe-af17-77bad520b051",
   "metadata": {},
   "source": [
    "#### **Some Analysis -**\n",
    "\n",
    "Majority of the trips were journeys of less than 2 miles. It is observed that the number of trips decreases steeply as the trip distance increases beyond 2 miles. "
   ]
  },
  {
   "cell_type": "markdown",
   "id": "8f326b84-38de-4b0b-a259-202980421521",
   "metadata": {},
   "source": [
    "**TOTAL AMOUNT**"
   ]
  },
  {
   "cell_type": "code",
   "execution_count": 23,
   "id": "326bf22d-1678-4bcb-a22a-67680f226836",
   "metadata": {},
   "outputs": [
    {
     "data": {
      "image/png": "[encoded data removed]",
      "text/plain": [
       "<Figure size 600x200 with 1 Axes>"
      ]
     },
     "metadata": {},
     "output_type": "display_data"
    }
   ],
   "source": [
    "# Creating a Box Plot of `total_amount`\n",
    "plt.figure(figsize=(6,2))\n",
    "plt.title(\"Total Amount - Box Plot\")\n",
    "sns.boxplot(x=df['total_amount'], fliersize=1);"
   ]
  },
  {
   "cell_type": "code",
   "execution_count": 24,
   "id": "e6ebac95-fd0e-4fbe-9e0b-8fdf50e9804c",
   "metadata": {},
   "outputs": [
    {
     "data": {
      "image/png": "[encoded data removed]",
      "text/plain": [
       "<Figure size 800x600 with 1 Axes>"
      ]
     },
     "metadata": {},
     "output_type": "display_data"
    }
   ],
   "source": [
    "# Creating a Histogram of `total_amount`\n",
    "plt.figure(figsize=(8,6))\n",
    "plt.title(\"Total Amount - Histogram\")\n",
    "ax = sns.histplot(df['total_amount'], bins=range(-10, 101, 5)) \n",
    "ax.set_xticks(range(-10, 101, 5))\n",
    "ax.set_xticklabels(range(-10, 101, 5));"
   ]
  },
  {
   "cell_type": "markdown",
   "id": "8b836696-5060-4d0c-826d-ef3ae0b813c2",
   "metadata": {},
   "source": [
    "#### **Some Analysis -**\n",
    "\n",
    "The total cost of each trip has a distribution that skews right as seen in the above chart, with most costs falling in the $5-15 range. "
   ]
  },
  {
   "cell_type": "markdown",
   "id": "8ec793b0-a7d0-42d7-9f63-e1acf805a6a9",
   "metadata": {},
   "source": [
    "**TIP AMOUNT**"
   ]
  },
  {
   "cell_type": "code",
   "execution_count": 25,
   "id": "2c6f4640-61ab-4df4-a566-0d3ecd4ee2e7",
   "metadata": {},
   "outputs": [
    {
     "data": {
      "image/png": "[encoded data removed]",
      "text/plain": [
       "<Figure size 600x200 with 1 Axes>"
      ]
     },
     "metadata": {},
     "output_type": "display_data"
    }
   ],
   "source": [
    "# Creating a Box Plot of the `tip_amount`\n",
    "plt.figure(figsize=(6,2))\n",
    "plt.title(\"Tip Amount - Box Plot\")\n",
    "sns.boxplot(x=df['tip_amount'], fliersize=1);"
   ]
  },
  {
   "cell_type": "code",
   "execution_count": 26,
   "id": "9fcad634-41b6-4d31-ac1d-490199c843c2",
   "metadata": {},
   "outputs": [
    {
     "data": {
      "image/png": "[encoded data removed]",
      "text/plain": [
       "<Figure size 800x600 with 1 Axes>"
      ]
     },
     "metadata": {},
     "output_type": "display_data"
    }
   ],
   "source": [
    "# Creating a Histogram of the `tip_amount` \n",
    "plt.figure(figsize=(8,6))\n",
    "plt.title(\"Tip Amount - Histogram\")\n",
    "ax = sns.histplot(x=df['tip_amount'], bins=range(0,21,1))\n",
    "ax.set_xticks(range(0,21,1))\n",
    "ax.set_xticklabels(range(0,21,1));"
   ]
  },
  {
   "cell_type": "markdown",
   "id": "f6313b10-4aad-4b83-abe0-004126a61e65",
   "metadata": {},
   "source": [
    "#### **Some Analysis -**\n",
    "\n",
    "The distribution for tip amount is right-skewed, with nearly all the tips in the $0-3 range."
   ]
  },
  {
   "cell_type": "markdown",
   "id": "7604db22-60c8-400d-af8d-abf7dfd2d0af",
   "metadata": {},
   "source": [
    "**TIP AMOUNT BY VENDOR**"
   ]
  },
  {
   "cell_type": "code",
   "execution_count": 27,
   "id": "e1d4859c-b224-45f2-abcc-08f954fdb1ca",
   "metadata": {},
   "outputs": [
    {
     "data": {
      "image/png": "[encoded data removed]",
      "text/plain": [
       "<Figure size 800x600 with 1 Axes>"
      ]
     },
     "metadata": {},
     "output_type": "display_data"
    }
   ],
   "source": [
    "# Creating a histogram of the `tip_amount` by vendor\n",
    "plt.figure(figsize=(8,6))\n",
    "plt.title(\"Tip Amount by Vendor - Histogram\")\n",
    "ax = sns.histplot(data=df,\n",
    "                  x='tip_amount',\n",
    "                  bins=range(0,21,1),\n",
    "                  hue='VendorID', \n",
    "                  multiple='stack',\n",
    "                  palette=['teal','coral'])\n",
    "ax.set_xticks(range(0,21,1))\n",
    "ax.set_xticklabels(range(0,21,1));"
   ]
  },
  {
   "cell_type": "markdown",
   "id": "0552514b-65a2-426b-8285-f4180986c0b0",
   "metadata": {},
   "source": [
    "#### **Some Analysis -**\n",
    "\n",
    "Separating the tip amount by vendor reveals that there are no noticeable aberrations in the distribution of tips between the two vendors in the dataset. Vendor two has a slightly higher share of the rides, and this proportion is approximately maintained for all tip amounts as evidently visible in the above stacked histogram. "
   ]
  },
  {
   "cell_type": "code",
   "execution_count": 28,
   "id": "84b9187b-70e9-439b-bcb2-aeecd63b60d5",
   "metadata": {},
   "outputs": [
    {
     "data": {
      "image/png": "[encoded data removed]",
      "text/plain": [
       "<Figure size 800x600 with 1 Axes>"
      ]
     },
     "metadata": {},
     "output_type": "display_data"
    }
   ],
   "source": [
    "# Creating a histogram of the `tip_amount` by vendor for tips > $10\n",
    "tips_over_10 = df[df['tip_amount'] > 10]\n",
    "plt.figure(figsize=(8,6))\n",
    "plt.title(\"Tip Amount by Vendor for tips > $10 - Histogram\")\n",
    "ax = sns.histplot(data=tips_over_10,\n",
    "                  x='tip_amount',\n",
    "                  bins=range(10,21,1),\n",
    "                  hue='VendorID',\n",
    "                  multiple='stack',\n",
    "                  palette=['teal','coral'])\n",
    "ax.set_xticks(range(10,21,1))\n",
    "ax.set_xticklabels(range(10,21,1));"
   ]
  },
  {
   "cell_type": "markdown",
   "id": "53e89cf0-876f-4827-a483-68b515b13b26",
   "metadata": {},
   "source": [
    "#### **Some Analysis -**\n",
    "\n",
    "The proportions are maintained even at these higher tip amounts, with the exception being at highest extremity, but this is not noteworthy due to the low sample size at these tip amounts."
   ]
  },
  {
   "cell_type": "markdown",
   "id": "15f646c9-5403-4698-b127-c5d177b08fe9",
   "metadata": {},
   "source": [
    "**PASSENGER COUNT**"
   ]
  },
  {
   "cell_type": "code",
   "execution_count": 29,
   "id": "e9da204e-a84f-4f6a-8040-0adc4556dcdb",
   "metadata": {},
   "outputs": [
    {
     "data": {
      "text/plain": [
       "passenger_count\n",
       "1    16117\n",
       "2     3305\n",
       "5     1143\n",
       "3      953\n",
       "6      693\n",
       "4      455\n",
       "0       33\n",
       "Name: count, dtype: int64"
      ]
     },
     "execution_count": 29,
     "metadata": {},
     "output_type": "execute_result"
    }
   ],
   "source": [
    "df['passenger_count'].value_counts()"
   ]
  },
  {
   "cell_type": "markdown",
   "id": "e663af0d-8219-42c3-a32d-2ebd0faeda3c",
   "metadata": {},
   "source": [
    "#### **Some Analysis -**\n",
    "\n",
    "Nearly two thirds of the rides were single occupancy, though there were still nearly 700 rides with as many as six passengers. Also, there are 33 rides with an occupancy count of zero, which doesn't make sense. These would likely be dropped unless a reasonable explanation can be found for them."
   ]
  },
  {
   "cell_type": "code",
   "execution_count": 30,
   "id": "fd3b55fb-5b0f-4fc7-8b53-09c342105412",
   "metadata": {},
   "outputs": [
    {
     "data": {
      "text/html": [
       "<div>\n",
       "<style scoped>\n",
       "    .dataframe tbody tr th:only-of-type {\n",
       "        vertical-align: middle;\n",
       "    }\n",
       "\n",
       "    .dataframe tbody tr th {\n",
       "        vertical-align: top;\n",
       "    }\n",
       "\n",
       "    .dataframe thead th {\n",
       "        text-align: right;\n",
       "    }\n",
       "</style>\n",
       "<table border=\"1\" class=\"dataframe\">\n",
       "  <thead>\n",
       "    <tr style=\"text-align: right;\">\n",
       "      <th></th>\n",
       "      <th>tip_amount</th>\n",
       "    </tr>\n",
       "    <tr>\n",
       "      <th>passenger_count</th>\n",
       "      <th></th>\n",
       "    </tr>\n",
       "  </thead>\n",
       "  <tbody>\n",
       "    <tr>\n",
       "      <th>0</th>\n",
       "      <td>2.135758</td>\n",
       "    </tr>\n",
       "    <tr>\n",
       "      <th>1</th>\n",
       "      <td>1.848920</td>\n",
       "    </tr>\n",
       "    <tr>\n",
       "      <th>2</th>\n",
       "      <td>1.856378</td>\n",
       "    </tr>\n",
       "    <tr>\n",
       "      <th>3</th>\n",
       "      <td>1.716768</td>\n",
       "    </tr>\n",
       "    <tr>\n",
       "      <th>4</th>\n",
       "      <td>1.530264</td>\n",
       "    </tr>\n",
       "    <tr>\n",
       "      <th>5</th>\n",
       "      <td>1.873185</td>\n",
       "    </tr>\n",
       "    <tr>\n",
       "      <th>6</th>\n",
       "      <td>1.720260</td>\n",
       "    </tr>\n",
       "  </tbody>\n",
       "</table>\n",
       "</div>"
      ],
      "text/plain": [
       "                 tip_amount\n",
       "passenger_count            \n",
       "0                  2.135758\n",
       "1                  1.848920\n",
       "2                  1.856378\n",
       "3                  1.716768\n",
       "4                  1.530264\n",
       "5                  1.873185\n",
       "6                  1.720260"
      ]
     },
     "execution_count": 30,
     "metadata": {},
     "output_type": "execute_result"
    }
   ],
   "source": [
    "# Calculating mean tips by passenger count\n",
    "mean_tips_by_passenger_count = df.groupby(['passenger_count']).mean(numeric_only=True)[['tip_amount']]\n",
    "mean_tips_by_passenger_count"
   ]
  },
  {
   "cell_type": "code",
   "execution_count": 31,
   "id": "da2ce7ee-0960-47d5-a09d-4388d2cd6baa",
   "metadata": {},
   "outputs": [
    {
     "data": {
      "image/png": "[encoded data removed]",
      "text/plain": [
       "<Figure size 1000x700 with 1 Axes>"
      ]
     },
     "metadata": {},
     "output_type": "display_data"
    }
   ],
   "source": [
    "# Creating a Bar Plot for Mean tips by `passenger_count`\n",
    "\n",
    "data = mean_tips_by_passenger_count.tail(-1)\n",
    "pal = sns.color_palette(\"Blues_d\", len(data))\n",
    "rank = data['tip_amount'].argsort().argsort()\n",
    "plt.figure(figsize=(10,7))\n",
    "plt.title(\"Bar Plot of the Mean Tip Amount by Passenger Count\")\n",
    "\n",
    "# Converting palette to a list \n",
    "pal = list(np.array(pal[::-1])[rank])\n",
    "\n",
    "# Creating the bar plot using seaborn\n",
    "ax = sns.barplot(x=data.index,\n",
    "                 y=data['tip_amount'],\n",
    "                 hue=data.index,\n",
    "                 palette=pal,\n",
    "                 dodge=False,\n",
    "                 legend=False)\n",
    "\n",
    "# Adding the horizontal line and legend\n",
    "ax.axhline(df['tip_amount'].mean(), ls='--', color='orange', label='Global Mean')\n",
    "ax.legend();"
   ]
  },
  {
   "cell_type": "markdown",
   "id": "75fb7d5d-950a-4f62-819d-f866a8e872ac",
   "metadata": {},
   "source": [
    "#### **Some Analysis -**\n",
    "\n",
    "The mean tip amount varies very little by passenger count although it does drop noticeably for 4-passenger_count rides. But this higher degree of fluctuation is expected because the rides with 4 passengers were least plentiful in the dataset as clearly visible from the mean_tips_by_passenger data frame (aside from the rides with 0 passengers)"
   ]
  },
  {
   "cell_type": "markdown",
   "id": "53495cd0-2a90-4a20-8ef5-2ecce8d3be88",
   "metadata": {},
   "source": [
    "**INCORPORATING MONTHS & DAYS INTO THE DATAFRAME**"
   ]
  },
  {
   "cell_type": "code",
   "execution_count": 32,
   "id": "a18098a1-e766-4bd4-9872-e8d366879ed2",
   "metadata": {},
   "outputs": [],
   "source": [
    "# Creating `Month` and `Day` columns \n",
    "df['Month'] = df['tpep_pickup_datetime'].dt.month_name()\n",
    "df['Day'] = df['tpep_pickup_datetime'].dt.day_name()"
   ]
  },
  {
   "cell_type": "markdown",
   "id": "82158446-962f-44fd-b471-90f60b43cabc",
   "metadata": {},
   "source": [
    "**PLOTTING THE TOTAL RIDES BY MONTH BAR PLOT**"
   ]
  },
  {
   "cell_type": "code",
   "execution_count": 33,
   "id": "5b68cbba-13b4-4c7c-be98-6f146407eeff",
   "metadata": {},
   "outputs": [
    {
     "data": {
      "text/plain": [
       "Month\n",
       "March        2049\n",
       "October      2027\n",
       "April        2019\n",
       "May          2013\n",
       "January      1997\n",
       "June         1964\n",
       "December     1863\n",
       "November     1843\n",
       "February     1769\n",
       "September    1734\n",
       "August       1724\n",
       "July         1697\n",
       "Name: count, dtype: int64"
      ]
     },
     "execution_count": 33,
     "metadata": {},
     "output_type": "execute_result"
    }
   ],
   "source": [
    "# We begin the process of plotting the total rides in a bar plot by first of all calculating the total ride count by month. \n",
    "monthly_rides = df['Month'].value_counts()\n",
    "monthly_rides"
   ]
  },
  {
   "cell_type": "markdown",
   "id": "755576d8-d26e-4f73-9f92-2e980fdca9f2",
   "metadata": {},
   "source": [
    "From the above output it is evident that the months are not in order. Hence the months will be re-ordered using the code below."
   ]
  },
  {
   "cell_type": "code",
   "execution_count": 34,
   "id": "6373a720-5956-4df1-8c44-803fb8508c21",
   "metadata": {},
   "outputs": [
    {
     "data": {
      "text/plain": [
       "Month\n",
       "January      1997\n",
       "February     1769\n",
       "March        2049\n",
       "April        2019\n",
       "May          2013\n",
       "June         1964\n",
       "July         1697\n",
       "August       1724\n",
       "September    1734\n",
       "October      2027\n",
       "November     1843\n",
       "December     1863\n",
       "Name: count, dtype: int64"
      ]
     },
     "execution_count": 34,
     "metadata": {},
     "output_type": "execute_result"
    }
   ],
   "source": [
    "month_order = ['January', 'February', 'March', 'April', 'May', 'June', 'July', 'August', 'September', 'October', 'November', 'December']\n",
    "\n",
    "monthly_rides = monthly_rides.reindex(index=month_order)\n",
    "monthly_rides"
   ]
  },
  {
   "cell_type": "code",
   "execution_count": 35,
   "id": "c575b7d9-2b46-411d-811c-6b68b9390483",
   "metadata": {},
   "outputs": [
    {
     "data": {
      "text/plain": [
       "Index(['January', 'February', 'March', 'April', 'May', 'June', 'July',\n",
       "       'August', 'September', 'October', 'November', 'December'],\n",
       "      dtype='object', name='Month')"
      ]
     },
     "execution_count": 35,
     "metadata": {},
     "output_type": "execute_result"
    }
   ],
   "source": [
    "# Show the Index\n",
    "monthly_rides.index"
   ]
  },
  {
   "cell_type": "code",
   "execution_count": 36,
   "id": "19e3e53e-79a4-4432-91a3-2f1d6d27d3ca",
   "metadata": {},
   "outputs": [
    {
     "data": {
      "image/png": "[encoded data removed]",
      "text/plain": [
       "<Figure size 1200x600 with 1 Axes>"
      ]
     },
     "metadata": {},
     "output_type": "display_data"
    }
   ],
   "source": [
    "# Creating a Bar Plot of the total rides per month\n",
    "\n",
    "plt.figure(figsize=(12,6))\n",
    "plt.title(\"Bar Plot of the Total Rides per Month\", fontsize=15)\n",
    "\n",
    "# To set a colorful palette\n",
    "palette = sns.color_palette(\"colorblind\", len(monthly_rides))\n",
    "\n",
    "# Plotting the bar graph\n",
    "ax = sns.barplot(x=monthly_rides.index,\n",
    "                 y=monthly_rides,\n",
    "                 hue=monthly_rides.index,\n",
    "                 palette=palette,\n",
    "                 dodge=False,\n",
    "                 legend=False)\n",
    "ax.set_xticks(range(len(month_order)))\n",
    "ax.set_xticklabels(month_order)\n",
    "plt.show()"
   ]
  },
  {
   "cell_type": "markdown",
   "id": "44ef6392-57df-4be9-a96e-3ab6f049c92c",
   "metadata": {},
   "source": [
    "#### **Some Analysis -**\n",
    "\n",
    "Monthly rides are fairly consistent, with notable dips in the summer months of July, August, and September, and also in February."
   ]
  },
  {
   "cell_type": "markdown",
   "id": "c0ddc3fb-605c-437b-85eb-585f083b12c1",
   "metadata": {},
   "source": [
    "**PLOTTING THE TOTAL RIDES BY DAY BAR PLOT**"
   ]
  },
  {
   "cell_type": "code",
   "execution_count": 37,
   "id": "f8aa7f78-4234-42c2-b6d8-30c313a2ee60",
   "metadata": {},
   "outputs": [
    {
     "data": {
      "text/plain": [
       "Day\n",
       "Monday       2931\n",
       "Tuesday      3198\n",
       "Wednesday    3390\n",
       "Thursday     3402\n",
       "Friday       3413\n",
       "Saturday     3367\n",
       "Sunday       2998\n",
       "Name: count, dtype: int64"
      ]
     },
     "execution_count": 37,
     "metadata": {},
     "output_type": "execute_result"
    }
   ],
   "source": [
    "# Repeating the above process, this time for rides by the day\n",
    "daily_rides = df['Day'].value_counts()\n",
    "day_order = ['Monday', 'Tuesday', 'Wednesday', 'Thursday', 'Friday', 'Saturday', 'Sunday']\n",
    "daily_rides = daily_rides.reindex(index=day_order)\n",
    "daily_rides"
   ]
  },
  {
   "cell_type": "code",
   "execution_count": 38,
   "id": "1847a0a3-46c3-4d7e-98c8-09c84e264807",
   "metadata": {},
   "outputs": [
    {
     "data": {
      "image/png": "[encoded data removed]",
      "text/plain": [
       "<Figure size 1000x500 with 1 Axes>"
      ]
     },
     "metadata": {},
     "output_type": "display_data"
    }
   ],
   "source": [
    "# Creating the bar plot for total rides by day\n",
    "plt.figure(figsize=(10,5))\n",
    "plt.title(\"Bar Plot on the Total Rides by Day\")\n",
    "palette = sns.color_palette(\"colorblind\", len(daily_rides))\n",
    "ax = sns.barplot(x=daily_rides.index,\n",
    "                 y=daily_rides,\n",
    "                 hue=daily_rides.index,\n",
    "                 palette=palette,\n",
    "                 dodge=False,\n",
    "                 legend=False)\n",
    "ax.set_xticks(range(len(day_order)))\n",
    "ax.set_xticklabels(day_order)\n",
    "plt.show()"
   ]
  },
  {
   "cell_type": "markdown",
   "id": "750db7f5-850c-42a0-a063-f611da0878f4",
   "metadata": {},
   "source": [
    "#### **Some Analysis -**\n",
    "\n",
    "Suprisingly, Wednesday through Saturday had the highest number of daily rides, while Sunday and Monday had the least."
   ]
  },
  {
   "cell_type": "markdown",
   "id": "4cface45-857b-4e95-b7f1-2042cd87b30c",
   "metadata": {},
   "source": [
    "**ALL ABOUT THE REVENUE**"
   ]
  },
  {
   "cell_type": "markdown",
   "id": "ba5e6356-3884-4bfd-89a2-56e21287b7dc",
   "metadata": {},
   "source": [
    "**Total Revenue By Day of the Week -**"
   ]
  },
  {
   "cell_type": "code",
   "execution_count": 39,
   "id": "403da17f-04e2-4152-a7d4-33ce0e15ee75",
   "metadata": {},
   "outputs": [
    {
     "data": {
      "text/html": [
       "<div>\n",
       "<style scoped>\n",
       "    .dataframe tbody tr th:only-of-type {\n",
       "        vertical-align: middle;\n",
       "    }\n",
       "\n",
       "    .dataframe tbody tr th {\n",
       "        vertical-align: top;\n",
       "    }\n",
       "\n",
       "    .dataframe thead th {\n",
       "        text-align: right;\n",
       "    }\n",
       "</style>\n",
       "<table border=\"1\" class=\"dataframe\">\n",
       "  <thead>\n",
       "    <tr style=\"text-align: right;\">\n",
       "      <th></th>\n",
       "      <th>total_amount</th>\n",
       "    </tr>\n",
       "    <tr>\n",
       "      <th>Day</th>\n",
       "      <th></th>\n",
       "    </tr>\n",
       "  </thead>\n",
       "  <tbody>\n",
       "    <tr>\n",
       "      <th>Monday</th>\n",
       "      <td>49574.37</td>\n",
       "    </tr>\n",
       "    <tr>\n",
       "      <th>Tuesday</th>\n",
       "      <td>52527.14</td>\n",
       "    </tr>\n",
       "    <tr>\n",
       "      <th>Wednesday</th>\n",
       "      <td>55310.47</td>\n",
       "    </tr>\n",
       "    <tr>\n",
       "      <th>Thursday</th>\n",
       "      <td>57181.91</td>\n",
       "    </tr>\n",
       "    <tr>\n",
       "      <th>Friday</th>\n",
       "      <td>55818.74</td>\n",
       "    </tr>\n",
       "    <tr>\n",
       "      <th>Saturday</th>\n",
       "      <td>51195.40</td>\n",
       "    </tr>\n",
       "    <tr>\n",
       "      <th>Sunday</th>\n",
       "      <td>48624.06</td>\n",
       "    </tr>\n",
       "  </tbody>\n",
       "</table>\n",
       "</div>"
      ],
      "text/plain": [
       "           total_amount\n",
       "Day                    \n",
       "Monday         49574.37\n",
       "Tuesday        52527.14\n",
       "Wednesday      55310.47\n",
       "Thursday       57181.91\n",
       "Friday         55818.74\n",
       "Saturday       51195.40\n",
       "Sunday         48624.06"
      ]
     },
     "execution_count": 39,
     "metadata": {},
     "output_type": "execute_result"
    }
   ],
   "source": [
    "# Preparing the data to plot the Total Revenue by Day of the week on a chart \n",
    "day_order = ['Monday', 'Tuesday', 'Wednesday', 'Thursday', 'Friday', 'Saturday', 'Sunday']\n",
    "total_amount_day = df.groupby('Day').sum(numeric_only=True)[['total_amount']]\n",
    "total_amount_day = total_amount_day.reindex(index=day_order)\n",
    "total_amount_day"
   ]
  },
  {
   "cell_type": "code",
   "execution_count": 40,
   "id": "ab896942-8f31-4800-acc8-62194d43d498",
   "metadata": {},
   "outputs": [
    {
     "data": {
      "image/png": "[encoded data removed]",
      "text/plain": [
       "<Figure size 1000x500 with 1 Axes>"
      ]
     },
     "metadata": {},
     "output_type": "display_data"
    }
   ],
   "source": [
    "# Creating a Bar Plot of the Total Revenue by Day\n",
    "plt.figure(figsize=(10,5))\n",
    "plt.title(\"Bar Plot of the Total Revenue by Day\", fontsize=15)\n",
    "palette = sns.color_palette(\"colorblind\", len(total_amount_day))\n",
    "ax = sns.barplot(x=total_amount_day.index,\n",
    "                 y=total_amount_day['total_amount'],\n",
    "                 hue=total_amount_day.index,\n",
    "                 palette=palette,\n",
    "                 dodge=False,\n",
    "                 legend=False)\n",
    "ax.set_xticks(range(len(day_order)))\n",
    "ax.set_xticklabels(day_order)\n",
    "ax.set_ylabel(\"Revenue by Day (USD)\")\n",
    "plt.show();            "
   ]
  },
  {
   "cell_type": "markdown",
   "id": "228593c4-b813-426e-acb6-f43a4dbdb16b",
   "metadata": {},
   "source": [
    "#### **Some Analysis -**\n",
    "\n",
    "Thursday had the highest gross revenue of all days, and Sunday and Monday had the least. Interestingly, although Saturday had only 35 fewer rides than Thursday (3402 - 3367 = 35), its gross revenue was ~$6,000 less than Thursday's—more than a 10% drop."
   ]
  },
  {
   "cell_type": "markdown",
   "id": "98e84db8-260f-4d72-8c11-8eb7a91fe012",
   "metadata": {},
   "source": [
    "**Total Revenue by Month -**"
   ]
  },
  {
   "cell_type": "code",
   "execution_count": 41,
   "id": "2576215b-e033-4f24-92ba-26c25d88478b",
   "metadata": {},
   "outputs": [
    {
     "data": {
      "text/html": [
       "<div>\n",
       "<style scoped>\n",
       "    .dataframe tbody tr th:only-of-type {\n",
       "        vertical-align: middle;\n",
       "    }\n",
       "\n",
       "    .dataframe tbody tr th {\n",
       "        vertical-align: top;\n",
       "    }\n",
       "\n",
       "    .dataframe thead th {\n",
       "        text-align: right;\n",
       "    }\n",
       "</style>\n",
       "<table border=\"1\" class=\"dataframe\">\n",
       "  <thead>\n",
       "    <tr style=\"text-align: right;\">\n",
       "      <th></th>\n",
       "      <th>total_amount</th>\n",
       "    </tr>\n",
       "    <tr>\n",
       "      <th>Month</th>\n",
       "      <th></th>\n",
       "    </tr>\n",
       "  </thead>\n",
       "  <tbody>\n",
       "    <tr>\n",
       "      <th>January</th>\n",
       "      <td>31735.25</td>\n",
       "    </tr>\n",
       "    <tr>\n",
       "      <th>February</th>\n",
       "      <td>28937.89</td>\n",
       "    </tr>\n",
       "    <tr>\n",
       "      <th>March</th>\n",
       "      <td>33085.89</td>\n",
       "    </tr>\n",
       "    <tr>\n",
       "      <th>April</th>\n",
       "      <td>32012.54</td>\n",
       "    </tr>\n",
       "    <tr>\n",
       "      <th>May</th>\n",
       "      <td>33828.58</td>\n",
       "    </tr>\n",
       "    <tr>\n",
       "      <th>June</th>\n",
       "      <td>32920.52</td>\n",
       "    </tr>\n",
       "    <tr>\n",
       "      <th>July</th>\n",
       "      <td>26617.64</td>\n",
       "    </tr>\n",
       "    <tr>\n",
       "      <th>August</th>\n",
       "      <td>27759.56</td>\n",
       "    </tr>\n",
       "    <tr>\n",
       "      <th>September</th>\n",
       "      <td>28206.38</td>\n",
       "    </tr>\n",
       "    <tr>\n",
       "      <th>October</th>\n",
       "      <td>33065.83</td>\n",
       "    </tr>\n",
       "    <tr>\n",
       "      <th>November</th>\n",
       "      <td>30800.44</td>\n",
       "    </tr>\n",
       "    <tr>\n",
       "      <th>December</th>\n",
       "      <td>31261.57</td>\n",
       "    </tr>\n",
       "  </tbody>\n",
       "</table>\n",
       "</div>"
      ],
      "text/plain": [
       "           total_amount\n",
       "Month                  \n",
       "January        31735.25\n",
       "February       28937.89\n",
       "March          33085.89\n",
       "April          32012.54\n",
       "May            33828.58\n",
       "June           32920.52\n",
       "July           26617.64\n",
       "August         27759.56\n",
       "September      28206.38\n",
       "October        33065.83\n",
       "November       30800.44\n",
       "December       31261.57"
      ]
     },
     "execution_count": 41,
     "metadata": {},
     "output_type": "execute_result"
    }
   ],
   "source": [
    "# Preparing the data to plot the Total Revenue by Month on a chart\n",
    "total_amount_month = df.groupby('Month').sum(numeric_only=True)[['total_amount']]\n",
    "total_amount_month = total_amount_month.reindex(index=month_order)\n",
    "total_amount_month"
   ]
  },
  {
   "cell_type": "code",
   "execution_count": 42,
   "id": "4bdc3d48-dd29-44f4-8479-882d4b84a777",
   "metadata": {},
   "outputs": [
    {
     "data": {
      "image/png": "[encoded data removed]",
      "text/plain": [
       "<Figure size 1200x600 with 1 Axes>"
      ]
     },
     "metadata": {},
     "output_type": "display_data"
    }
   ],
   "source": [
    "# Creating a Bar Plot by the Total Revenue by Month\n",
    "plt.figure(figsize=(12,6))\n",
    "plt.title(\"Bar Plot of the Total Revenue by Month\", fontsize=15)\n",
    "palette = sns.color_palette(\"colorblind\", len(total_amount_month))\n",
    "ax = sns.barplot(x=total_amount_month.index,\n",
    "                 y=total_amount_month['total_amount'],\n",
    "                 hue=total_amount_month.index,\n",
    "                 palette=palette,\n",
    "                 dodge=False,\n",
    "                 legend=False)\n",
    "ax.set_xticks(range(len(month_order)))\n",
    "ax.set_xticklabels(month_order)\n",
    "ax.set_ylabel(\"Revenue by Month (USD)\")\n",
    "plt.show();"
   ]
  },
  {
   "cell_type": "markdown",
   "id": "53a95e44-1f67-48cb-b65c-de9bd688e153",
   "metadata": {},
   "source": [
    "#### **Some Analysis -**\n",
    "\n",
    "Monthly revenue generally follows the pattern of monthly rides, with noticeable dips in the summer months of July, August, and September, and also one in February."
   ]
  },
  {
   "cell_type": "markdown",
   "id": "9eadef87-7a88-43db-b984-b5d802573132",
   "metadata": {},
   "source": [
    "https://public.tableau.com/views/NYCsTaxiandLimousineCommissionTLCDataDashboard/DashboardofNewYorkCitysTLCData?:language=en-GB&:sid=&:redirect=auth&:display_count=n&:origin=viz_share_link \n",
    "\n",
    "The above link leads to a Tableau Dashboard showing a scatter plot of the `trip distance` versus the `total amount` paid. \n",
    "\n",
    "**Also dropping down the link to my Tableau Portfolio for you to view -** \n",
    "https://public.tableau.com/app/profile/pooja.shankavaram/vizzes"
   ]
  },
  {
   "cell_type": "markdown",
   "id": "1b4e2ff4-b5fe-42e3-af2c-58452d38a891",
   "metadata": {},
   "source": [
    "**MEAN TRIP DISTANCE BY DROP-OFF LOCATION**"
   ]
  },
  {
   "cell_type": "code",
   "execution_count": 43,
   "id": "1eb851ef-1b19-4e7c-9fe2-0ccb5627c0ed",
   "metadata": {},
   "outputs": [
    {
     "data": {
      "text/html": [
       "<div>\n",
       "<style scoped>\n",
       "    .dataframe tbody tr th:only-of-type {\n",
       "        vertical-align: middle;\n",
       "    }\n",
       "\n",
       "    .dataframe tbody tr th {\n",
       "        vertical-align: top;\n",
       "    }\n",
       "\n",
       "    .dataframe thead th {\n",
       "        text-align: right;\n",
       "    }\n",
       "</style>\n",
       "<table border=\"1\" class=\"dataframe\">\n",
       "  <thead>\n",
       "    <tr style=\"text-align: right;\">\n",
       "      <th></th>\n",
       "      <th>trip_distance</th>\n",
       "    </tr>\n",
       "    <tr>\n",
       "      <th>DOLocationID</th>\n",
       "      <th></th>\n",
       "    </tr>\n",
       "  </thead>\n",
       "  <tbody>\n",
       "    <tr>\n",
       "      <th>207</th>\n",
       "      <td>1.200000</td>\n",
       "    </tr>\n",
       "    <tr>\n",
       "      <th>193</th>\n",
       "      <td>1.390556</td>\n",
       "    </tr>\n",
       "    <tr>\n",
       "      <th>237</th>\n",
       "      <td>1.555494</td>\n",
       "    </tr>\n",
       "    <tr>\n",
       "      <th>234</th>\n",
       "      <td>1.727806</td>\n",
       "    </tr>\n",
       "    <tr>\n",
       "      <th>137</th>\n",
       "      <td>1.818852</td>\n",
       "    </tr>\n",
       "    <tr>\n",
       "      <th>...</th>\n",
       "      <td>...</td>\n",
       "    </tr>\n",
       "    <tr>\n",
       "      <th>51</th>\n",
       "      <td>17.310000</td>\n",
       "    </tr>\n",
       "    <tr>\n",
       "      <th>11</th>\n",
       "      <td>17.945000</td>\n",
       "    </tr>\n",
       "    <tr>\n",
       "      <th>210</th>\n",
       "      <td>20.500000</td>\n",
       "    </tr>\n",
       "    <tr>\n",
       "      <th>29</th>\n",
       "      <td>21.650000</td>\n",
       "    </tr>\n",
       "    <tr>\n",
       "      <th>23</th>\n",
       "      <td>24.275000</td>\n",
       "    </tr>\n",
       "  </tbody>\n",
       "</table>\n",
       "<p>216 rows × 1 columns</p>\n",
       "</div>"
      ],
      "text/plain": [
       "              trip_distance\n",
       "DOLocationID               \n",
       "207                1.200000\n",
       "193                1.390556\n",
       "237                1.555494\n",
       "234                1.727806\n",
       "137                1.818852\n",
       "...                     ...\n",
       "51                17.310000\n",
       "11                17.945000\n",
       "210               20.500000\n",
       "29                21.650000\n",
       "23                24.275000\n",
       "\n",
       "[216 rows x 1 columns]"
      ]
     },
     "execution_count": 43,
     "metadata": {},
     "output_type": "execute_result"
    }
   ],
   "source": [
    "# Calculating the mean trip distance for each drop-off location\n",
    "distance_by_dropoff = df.groupby('DOLocationID').mean(numeric_only=True)[['trip_distance']]\n",
    "\n",
    "# Sorting the results in descending order by mean trip distance\n",
    "distance_by_dropoff = distance_by_dropoff.sort_values(by='trip_distance')\n",
    "distance_by_dropoff"
   ]
  },
  {
   "cell_type": "code",
   "execution_count": 44,
   "id": "fee81df5-5261-48e1-93d0-ca858fa7ae34",
   "metadata": {},
   "outputs": [
    {
     "data": {
      "image/png": "[encoded data removed]",
      "text/plain": [
       "<Figure size 1200x600 with 1 Axes>"
      ]
     },
     "metadata": {},
     "output_type": "display_data"
    }
   ],
   "source": [
    "# Creating a Bar Plot of the Mean Trip Distances by Dropoff Location in ascending order by distance\n",
    "plt.figure(figsize=(12,6))\n",
    "plt.title(\"Bar Plot of the Mean Trip Distances by Drop-off Location\", fontsize=15)\n",
    "palette = sns.color_palette(\"colorblind\", len(distance_by_dropoff))\n",
    "ax = sns.barplot(x=distance_by_dropoff.index,\n",
    "                 y=distance_by_dropoff['trip_distance'],\n",
    "                 order=distance_by_dropoff.index,\n",
    "                 hue=distance_by_dropoff.index,\n",
    "                 palette=palette,\n",
    "                 dodge=False,\n",
    "                 legend=False)\n",
    "ax.set_xticks([])\n",
    "ax.set_xticklabels([]);"
   ]
  },
  {
   "cell_type": "markdown",
   "id": "477f3e4f-25a8-4682-a854-05ca9ce1c842",
   "metadata": {},
   "source": [
    "#### **Some Analysis -**\n",
    "\n",
    "The above chart represnts a characteristic curve related to the cumulative density function of a normal distribution. In other words, it indicates that the drop-off points are relatively evenly distributed over the terrain. "
   ]
  },
  {
   "cell_type": "markdown",
   "id": "d6ddf8ce-c912-44af-b40e-1ad6f313bc98",
   "metadata": {},
   "source": [
    "**EXPERIMENT TO CONFIRM THE ABOVE ANALYSIS RESULT**\n",
    "\n",
    "The dataset used for this project, that is, it is assumed that the fictional company Automatidata has received data from its client TLC, does not have any geographic coordinates included. So to confirm if the above analysis is correct or not, a small experiment has been conducted below and the steps have been elucidated below - \n",
    "1) The experiment aims to create a sample of coordinates from a normal distribution - in this example 1500 pairs of points from a normal distribution, that is, 3000 points, with a Mean of 10 and a Standard Deviation of 5.\n",
    "2) Calculating the distance between each pair of coordinates.\n",
    "3) Grouping the coordinates by endpoint and calculate the mean distance between that endpoint and all other points it was paired with.\n",
    "4) Plotting the mean distance for each unique endpoint"
   ]
  },
  {
   "cell_type": "code",
   "execution_count": 45,
   "id": "b473dfa4-08bb-4520-9f5d-8f9ac9d05d4e",
   "metadata": {},
   "outputs": [
    {
     "data": {
      "image/png": "[encoded data removed]",
      "text/plain": [
       "<Figure size 1200x600 with 1 Axes>"
      ]
     },
     "metadata": {},
     "output_type": "display_data"
    }
   ],
   "source": [
    "# Generating Random Points on a 2D Plane from a Normal Distribution \n",
    "test = np.round(np.random.normal(10, 5, (3000,2)), 1)\n",
    "midway = int(len(test)/2)          # Calculate midpoint of the array of coordinates\n",
    "start = test[:midway]              # Isolate first half of array (\"pick-up locations\")\n",
    "end = test[midway:]                # Isolate second half of array (\"drop-off locations\")\n",
    "\n",
    "# Calculating Euclidean distances between points in first half and second half of array\n",
    "distances = (start - end)**2 \n",
    "distances = distances.sum(axis=-1) \n",
    "distances = np.sqrt(distances)\n",
    "\n",
    "# Grouping the coordinates by \"drop-off location\" and compute mean distance\n",
    "test_df = pd.DataFrame({'start': [tuple(x) for x in start.tolist()], \n",
    "                        'end': [tuple(x) for x in end.tolist()], \n",
    "                        'distance': distances})\n",
    "data = test_df[['end', 'distance']].groupby('end').mean()\n",
    "data = data.sort_values(by='distance')\n",
    "\n",
    "# Converting the index to a categorical column \n",
    "data = data.reset_index() \n",
    "data['end_str'] = data['end'].astype(str)\n",
    "\n",
    "# Creating a Larger Color Palette \n",
    "palette_size = len(data['end_str'].unique())\n",
    "large_palette = sns.color_palette(\"colorblind\", palette_size)\n",
    "\n",
    "# Ploting the mean distance between each endpoint (\"drop-off location\") and all points it connected to\n",
    "plt.figure(figsize=(12, 6))\n",
    "ax = sns.barplot(data=data,\n",
    "                 x='end_str', \n",
    "                 y='distance', \n",
    "                 hue='end_str', \n",
    "                 palette=large_palette, \n",
    "                 dodge=False, \n",
    "                 legend=False)\n",
    "ax.set_xticklabels([]) \n",
    "ax.set_xticks([]) \n",
    "ax.set_xlabel('Endpoint') \n",
    "ax.set_ylabel('Mean Distance to all other Points') \n",
    "ax.set_title('Mean Distance between Points taken Randomly from Normal Distribution') \n",
    "plt.show();"
   ]
  },
  {
   "cell_type": "markdown",
   "id": "50112844-f3f2-472e-8d5d-4c36c8141804",
   "metadata": {},
   "source": [
    "#### **Some Analysis -**\n",
    "\n",
    "From the above output, we can say that it looks nearly identical to the previous chart which shows the Mean Trip Distances by drop-off location. If we look at the previous chart it does not look as smooth as the output above. This means that there was no even distribution of rides to each drop-off point. The next section examines those uneven parts of the curve. "
   ]
  },
  {
   "cell_type": "markdown",
   "id": "33ae709f-038b-4a22-a0e3-a7c1ab4aad98",
   "metadata": {},
   "source": [
    "**HISTOGRAM OF RIDES BY DROP-OFF LOCATION**"
   ]
  },
  {
   "cell_type": "markdown",
   "id": "5fa85e89-9894-432d-a376-938cb7fa4290",
   "metadata": {},
   "source": [
    "Before we proceed ahead with the plotting of the histogram, we will figure out if the drop-off location IDs are consecutively numbered. For example, 1,2,3,4,5 instead of 1,3,5,7,8. "
   ]
  },
  {
   "cell_type": "code",
   "execution_count": 46,
   "id": "b71718f8-5016-448f-918b-b1175337e480",
   "metadata": {},
   "outputs": [
    {
     "data": {
      "text/plain": [
       "np.int64(49)"
      ]
     },
     "execution_count": 46,
     "metadata": {},
     "output_type": "execute_result"
    }
   ],
   "source": [
    "# Checking if all drop-off locations are consecutively numbered\n",
    "df['DOLocationID'].max() - len(set(df['DOLocationID']))"
   ]
  },
  {
   "cell_type": "markdown",
   "id": "71eb2a1e-1098-47a6-859f-53048b4719af",
   "metadata": {},
   "source": [
    "This means that there are **`49`** numbers that do not represnt a drop-off location. \n",
    "\n",
    "In order to prevent the spaces that these missing numbers would create, we sort the unique drop-off location values and then convert them to strings. This will make the histplot function display all the bars of the histogram directly next to each other. "
   ]
  },
  {
   "cell_type": "code",
   "execution_count": 47,
   "id": "e121377e-72c9-4f21-80b4-85d73aefa343",
   "metadata": {},
   "outputs": [
    {
     "data": {
      "image/png": "[encoded data removed]",
      "text/plain": [
       "<Figure size 1200x600 with 1 Axes>"
      ]
     },
     "metadata": {},
     "output_type": "display_data"
    }
   ],
   "source": [
    "plt.figure(figsize=(12,6))\n",
    "sorted_drop_offs = df['DOLocationID'].sort_values()\n",
    "sorted_drop_offs = sorted_drop_offs.astype(str)\n",
    "sns.histplot(sorted_drop_offs, bins=range(0, df['DOLocationID'].max()+1, 1))\n",
    "plt.xticks([])\n",
    "plt.xlabel(\"Drop-Off Locations\")\n",
    "plt.title(\"Histogram of Rides by Drop-Off Location\", fontsize=16);"
   ]
  },
  {
   "cell_type": "markdown",
   "id": "9a28a6de-3d07-4942-b384-53ef1e825d29",
   "metadata": {},
   "source": [
    "**Some Analysis -**\n",
    "\n",
    "From the above data of the many drop-off locations that are seen, it is evident that disproportionate number of locations receive majority of the traffic while all the rest get reletively fewer trips. It's likely that these high-traffic locations are near popular tourist attractions like the Empire State Building or Times Square, airports, and train and bus terminals. However, it would have been helpful to know the location that each ID corresponds with. Unfortunately, this is not available in the given data."
   ]
  },
  {
   "cell_type": "markdown",
   "id": "3a7378ae-cccd-4ae2-b795-b70e5d873702",
   "metadata": {},
   "source": [
    "# **SOME OVERALL ANALYSIS & CONCLUSIONS**\n",
    "\n",
    "#### **1) Negative Fare Amount**\n",
    "\n",
    "When reviewing the df.describe() function's output, The minimum fare amount of **-120.00**, minimum extra amount of **-1.00**, mta tax of **-0.50**, Improvement surcharge of -0.30, and the total amount of **-120.30** stand out. Minus values for a fare do not seem to be possible but can be possible in the following scenarios -\n",
    "\n",
    "1) If a ride service offers a discount or voucher or a credit greater than the actual fare amount, the system may display a negative fare temporarily. For example, a fare of 1000 dollars with a voucher of 1200 dollars might result in a displayed balance of -20 dollars\n",
    "2) A negative entry might have occurred due to incorrect entries in fare calculations.\n",
    "3) If a fare is overcharged to the customer and requires adjustment, a negative amount maybe shown in the system as the refund to be issued to the customer/user.\n",
    "4) A ride may show negative balances if cashback or credits are applied to the user's account for future rides.\n",
    "5) Incorrect handling of currency exchange rates or sign conventions during cross-border payments could result in a negative fare.\n",
    "\n",
    "But again, in standard operations, an overpayment or refund in the case of point number 3, is processed separately and is not expected to show up as a negative fare.\n",
    "\n",
    "#### **2) 0 Trip Distance**\n",
    "\n",
    "1) This may indicate passenger trip cancellations by a passenger because of which the vehicle did not move.\n",
    "2) faulty GPS systems in the cab may have failed to record the distance\n",
    "\n",
    "**NOTE -** ZERO counts need to be analysed and looked into properly as they may either be important outliers to take into consideration for the above-mentioned reasons, or they may also indicate values that may not be relevant to analysis which can be filtered out.\n",
    "\n",
    "#### **3) Trip Distance Box-Plot**\n",
    "\n",
    "From the 'Trip Distance Box Plot', it is evident that all the trips with the highest distribution of trips are below 5 miles. But there are outliers all the way upto 35 miles. There are 0 missing values.\n",
    "\n",
    "#### **4) Data Includes Drop-Off and Pickup Times**\n",
    "\n",
    "The client might likely want to know that the data given by them (TLC) has both drop-off and pickup times. We can use that data to derive the trip duration of each data point. The code is shown below - "
   ]
  },
  {
   "cell_type": "code",
   "execution_count": 48,
   "id": "9c5f6141-f569-4808-9891-782e770c79d4",
   "metadata": {},
   "outputs": [
    {
     "data": {
      "text/html": [
       "<div>\n",
       "<style scoped>\n",
       "    .dataframe tbody tr th:only-of-type {\n",
       "        vertical-align: middle;\n",
       "    }\n",
       "\n",
       "    .dataframe tbody tr th {\n",
       "        vertical-align: top;\n",
       "    }\n",
       "\n",
       "    .dataframe thead th {\n",
       "        text-align: right;\n",
       "    }\n",
       "</style>\n",
       "<table border=\"1\" class=\"dataframe\">\n",
       "  <thead>\n",
       "    <tr style=\"text-align: right;\">\n",
       "      <th></th>\n",
       "      <th>Unnamed: 0</th>\n",
       "      <th>VendorID</th>\n",
       "      <th>tpep_pickup_datetime</th>\n",
       "      <th>tpep_dropoff_datetime</th>\n",
       "      <th>passenger_count</th>\n",
       "      <th>trip_distance</th>\n",
       "      <th>RatecodeID</th>\n",
       "      <th>store_and_fwd_flag</th>\n",
       "      <th>PULocationID</th>\n",
       "      <th>DOLocationID</th>\n",
       "      <th>...</th>\n",
       "      <th>fare_amount</th>\n",
       "      <th>extra</th>\n",
       "      <th>mta_tax</th>\n",
       "      <th>tip_amount</th>\n",
       "      <th>tolls_amount</th>\n",
       "      <th>improvement_surcharge</th>\n",
       "      <th>total_amount</th>\n",
       "      <th>Month</th>\n",
       "      <th>Day</th>\n",
       "      <th>trip_duration</th>\n",
       "    </tr>\n",
       "  </thead>\n",
       "  <tbody>\n",
       "    <tr>\n",
       "      <th>0</th>\n",
       "      <td>24870114</td>\n",
       "      <td>2</td>\n",
       "      <td>2017-03-25 08:55:43</td>\n",
       "      <td>2017-03-25 09:09:47</td>\n",
       "      <td>6</td>\n",
       "      <td>3.34</td>\n",
       "      <td>1</td>\n",
       "      <td>N</td>\n",
       "      <td>100</td>\n",
       "      <td>231</td>\n",
       "      <td>...</td>\n",
       "      <td>13.0</td>\n",
       "      <td>0.0</td>\n",
       "      <td>0.5</td>\n",
       "      <td>2.76</td>\n",
       "      <td>0.0</td>\n",
       "      <td>0.3</td>\n",
       "      <td>16.56</td>\n",
       "      <td>March</td>\n",
       "      <td>Saturday</td>\n",
       "      <td>0 days 00:14:04</td>\n",
       "    </tr>\n",
       "    <tr>\n",
       "      <th>1</th>\n",
       "      <td>35634249</td>\n",
       "      <td>1</td>\n",
       "      <td>2017-04-11 14:53:28</td>\n",
       "      <td>2017-04-11 15:19:58</td>\n",
       "      <td>1</td>\n",
       "      <td>1.80</td>\n",
       "      <td>1</td>\n",
       "      <td>N</td>\n",
       "      <td>186</td>\n",
       "      <td>43</td>\n",
       "      <td>...</td>\n",
       "      <td>16.0</td>\n",
       "      <td>0.0</td>\n",
       "      <td>0.5</td>\n",
       "      <td>4.00</td>\n",
       "      <td>0.0</td>\n",
       "      <td>0.3</td>\n",
       "      <td>20.80</td>\n",
       "      <td>April</td>\n",
       "      <td>Tuesday</td>\n",
       "      <td>0 days 00:26:30</td>\n",
       "    </tr>\n",
       "    <tr>\n",
       "      <th>2</th>\n",
       "      <td>106203690</td>\n",
       "      <td>1</td>\n",
       "      <td>2017-12-15 07:26:56</td>\n",
       "      <td>2017-12-15 07:34:08</td>\n",
       "      <td>1</td>\n",
       "      <td>1.00</td>\n",
       "      <td>1</td>\n",
       "      <td>N</td>\n",
       "      <td>262</td>\n",
       "      <td>236</td>\n",
       "      <td>...</td>\n",
       "      <td>6.5</td>\n",
       "      <td>0.0</td>\n",
       "      <td>0.5</td>\n",
       "      <td>1.45</td>\n",
       "      <td>0.0</td>\n",
       "      <td>0.3</td>\n",
       "      <td>8.75</td>\n",
       "      <td>December</td>\n",
       "      <td>Friday</td>\n",
       "      <td>0 days 00:07:12</td>\n",
       "    </tr>\n",
       "    <tr>\n",
       "      <th>3</th>\n",
       "      <td>38942136</td>\n",
       "      <td>2</td>\n",
       "      <td>2017-05-07 13:17:59</td>\n",
       "      <td>2017-05-07 13:48:14</td>\n",
       "      <td>1</td>\n",
       "      <td>3.70</td>\n",
       "      <td>1</td>\n",
       "      <td>N</td>\n",
       "      <td>188</td>\n",
       "      <td>97</td>\n",
       "      <td>...</td>\n",
       "      <td>20.5</td>\n",
       "      <td>0.0</td>\n",
       "      <td>0.5</td>\n",
       "      <td>6.39</td>\n",
       "      <td>0.0</td>\n",
       "      <td>0.3</td>\n",
       "      <td>27.69</td>\n",
       "      <td>May</td>\n",
       "      <td>Sunday</td>\n",
       "      <td>0 days 00:30:15</td>\n",
       "    </tr>\n",
       "    <tr>\n",
       "      <th>4</th>\n",
       "      <td>30841670</td>\n",
       "      <td>2</td>\n",
       "      <td>2017-04-15 23:32:20</td>\n",
       "      <td>2017-04-15 23:49:03</td>\n",
       "      <td>1</td>\n",
       "      <td>4.37</td>\n",
       "      <td>1</td>\n",
       "      <td>N</td>\n",
       "      <td>4</td>\n",
       "      <td>112</td>\n",
       "      <td>...</td>\n",
       "      <td>16.5</td>\n",
       "      <td>0.5</td>\n",
       "      <td>0.5</td>\n",
       "      <td>0.00</td>\n",
       "      <td>0.0</td>\n",
       "      <td>0.3</td>\n",
       "      <td>17.80</td>\n",
       "      <td>April</td>\n",
       "      <td>Saturday</td>\n",
       "      <td>0 days 00:16:43</td>\n",
       "    </tr>\n",
       "  </tbody>\n",
       "</table>\n",
       "<p>5 rows × 21 columns</p>\n",
       "</div>"
      ],
      "text/plain": [
       "   Unnamed: 0  VendorID tpep_pickup_datetime tpep_dropoff_datetime  \\\n",
       "0    24870114         2  2017-03-25 08:55:43   2017-03-25 09:09:47   \n",
       "1    35634249         1  2017-04-11 14:53:28   2017-04-11 15:19:58   \n",
       "2   106203690         1  2017-12-15 07:26:56   2017-12-15 07:34:08   \n",
       "3    38942136         2  2017-05-07 13:17:59   2017-05-07 13:48:14   \n",
       "4    30841670         2  2017-04-15 23:32:20   2017-04-15 23:49:03   \n",
       "\n",
       "   passenger_count  trip_distance  RatecodeID store_and_fwd_flag  \\\n",
       "0                6           3.34           1                  N   \n",
       "1                1           1.80           1                  N   \n",
       "2                1           1.00           1                  N   \n",
       "3                1           3.70           1                  N   \n",
       "4                1           4.37           1                  N   \n",
       "\n",
       "   PULocationID  DOLocationID  ...  fare_amount  extra  mta_tax  tip_amount  \\\n",
       "0           100           231  ...         13.0    0.0      0.5        2.76   \n",
       "1           186            43  ...         16.0    0.0      0.5        4.00   \n",
       "2           262           236  ...          6.5    0.0      0.5        1.45   \n",
       "3           188            97  ...         20.5    0.0      0.5        6.39   \n",
       "4             4           112  ...         16.5    0.5      0.5        0.00   \n",
       "\n",
       "   tolls_amount  improvement_surcharge  total_amount     Month       Day  \\\n",
       "0           0.0                    0.3         16.56     March  Saturday   \n",
       "1           0.0                    0.3         20.80     April   Tuesday   \n",
       "2           0.0                    0.3          8.75  December    Friday   \n",
       "3           0.0                    0.3         27.69       May    Sunday   \n",
       "4           0.0                    0.3         17.80     April  Saturday   \n",
       "\n",
       "    trip_duration  \n",
       "0 0 days 00:14:04  \n",
       "1 0 days 00:26:30  \n",
       "2 0 days 00:07:12  \n",
       "3 0 days 00:30:15  \n",
       "4 0 days 00:16:43  \n",
       "\n",
       "[5 rows x 21 columns]"
      ]
     },
     "execution_count": 48,
     "metadata": {},
     "output_type": "execute_result"
    }
   ],
   "source": [
    "df['trip_duration'] = df['tpep_dropoff_datetime'] - df['tpep_pickup_datetime']\n",
    "df.head()"
   ]
  },
  {
   "cell_type": "markdown",
   "id": "d3a0dcfb-4786-45a3-b8b9-6c5f88cf6205",
   "metadata": {},
   "source": [
    "**Taxi and Limousine Commission (TLC) as a client might definitely want to know all these major analyses drawn from the EDA done. It is noteworthy to know if all the above like outliers, negative fares and 0 trip distance will impact the creation of our Machine Learning Model or not.** The statistical analysis and explanation of the same is described in the other Jupyter Notebook titled - **`Automatidata Project Portfolio - Hypothesis Testing and ML Model`** which builds the actual Machine Learning model using Regression Analysis which accounts for the above analysis being done. "
   ]
  }
 ],
 "metadata": {
  "kernelspec": {
   "display_name": "Python 3 (ipykernel)",
   "language": "python",
   "name": "python3"
  },
  "language_info": {
   "codemirror_mode": {
    "name": "ipython",
    "version": 3
   },
   "file_extension": ".py",
   "mimetype": "text/x-python",
   "name": "python",
   "nbconvert_exporter": "python",
   "pygments_lexer": "ipython3",
   "version": "3.13.2"
  }
 },
 "nbformat": 4,
 "nbformat_minor": 5
}
