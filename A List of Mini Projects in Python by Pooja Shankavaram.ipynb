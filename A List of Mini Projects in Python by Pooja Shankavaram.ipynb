{
 "cells": [
  {
   "cell_type": "markdown",
   "id": "0614d01a-83ed-44c5-a867-947bc4794155",
   "metadata": {},
   "source": [
    "# **Mini Projects in Python - Part 1**\n",
    "\n",
    "Below are a few mini projects that I have worked on to showcase my skills and knowledge in Python. "
   ]
  },
  {
   "cell_type": "markdown",
   "id": "eaed11f0-a0f2-41e3-b270-895baa60d7f5",
   "metadata": {},
   "source": [
    "### **Day Planner** "
   ]
  },
  {
   "cell_type": "code",
   "execution_count": 1,
   "id": "9c03c64d-26f1-4f7d-b53e-b4f3f7077099",
   "metadata": {},
   "outputs": [
    {
     "name": "stdout",
     "output_type": "stream",
     "text": [
      "Day Planner\n"
     ]
    },
    {
     "name": "stdin",
     "output_type": "stream",
     "text": [
      "Type 1 for Top Priority, 2 for Medium Priority and 3 for Low Priority 1\n"
     ]
    },
    {
     "name": "stdout",
     "output_type": "stream",
     "text": [
      "Top Priority\n"
     ]
    },
    {
     "name": "stdin",
     "output_type": "stream",
     "text": [
      "Type A, B or C and this program will tell you what you should do - A\n"
     ]
    },
    {
     "name": "stdout",
     "output_type": "stream",
     "text": [
      "Search for a job\n"
     ]
    }
   ],
   "source": [
    "# A Python code to help plan your day and be productive. \n",
    "\n",
    "''' \n",
    "The below code helps the user plan their day based \n",
    "out of their priority list. Based on the letter or \n",
    "number of your choice, the code suggests you what \n",
    "to do. \n",
    "'''\n",
    "print(\"Day Planner\")\n",
    "priority = int(input(\"Type 1 for Top Priority, 2 for Medium Priority and 3 for Low Priority\"))\n",
    "if priority == 1:\n",
    "    print(\"Top Priority\")\n",
    "    Things_To_Do_1 = str(input(\"Type A, B or C and this program will tell you what you should do -\"))\n",
    "    if Things_To_Do_1 == 'A':\n",
    "        print(\"Search for a job\")\n",
    "    elif Things_To_Do_1 == 'B':\n",
    "        print(\"Household Chores and work\")\n",
    "    elif Things_To_do_1 == 'C':\n",
    "        print(\"Spend time Upskilling\")\n",
    "    else:\n",
    "        print(\"This item might be Priority 2 or 3\")\n",
    "elif priority == 2:\n",
    "    print(\"Medium Priority\")\n",
    "    Things_To_Do_2 = str(input(\"Type A or B and this program will tell you what you should do -\"))\n",
    "    if Things_To_do_2 == 'A':\n",
    "        print(\"Go shop for Essentials\")\n",
    "    elif Things_To_Do_2 == 'B':\n",
    "        print(\"Journal your day\")\n",
    "    else:\n",
    "        print(\"Then this might be Low Priority\")\n",
    "elif priority == 3:\n",
    "    print(\"Low Priority\")\n",
    "    Things_To_Do_3 = str(input(\"Type A, B or C and this program will tell you what you should do -\"))\n",
    "    if Things_To_Do_3 == 'A':\n",
    "        print(\"Eating Out\")\n",
    "    elif Things_To_Do_3 == 'B':\n",
    "        print(\"Gaming\")\n",
    "    elif Things_To_Do_3 == 'C':\n",
    "        print(\"Hang out with Friends\")\n",
    "    else:\n",
    "        print(\"This task is not listed here!\")\n",
    "else: \n",
    "    print(\"This task needs to be categorised under a particular priority level and then added to this program to be included\")"
   ]
  },
  {
   "cell_type": "markdown",
   "id": "9e9c2b3f-a8f3-452b-8ddd-eedc32a0927a",
   "metadata": {},
   "source": [
    "### **Area of a Circle**"
   ]
  },
  {
   "cell_type": "code",
   "execution_count": 2,
   "id": "2fec1693-7f72-4428-880c-91b0bed49681",
   "metadata": {},
   "outputs": [
    {
     "name": "stdin",
     "output_type": "stream",
     "text": [
      "Enter the Radius - 25\n"
     ]
    },
    {
     "name": "stdout",
     "output_type": "stream",
     "text": [
      "The area of a circle is - 1966.875\n"
     ]
    }
   ],
   "source": [
    "# The below code helps find the area of a circle based on the radius input by the user. \n",
    "\n",
    "radius = float(input(\"Enter the Radius -\"))\n",
    "pie = 3.147\n",
    "area_of_circle = pie * radius * radius\n",
    "print(\"The area of a circle is -\", area_of_circle)"
   ]
  },
  {
   "cell_type": "markdown",
   "id": "d9c100e7-2c26-45ca-be6f-82c91c6362ac",
   "metadata": {},
   "source": [
    "### **Strength of a String Based on the Length**"
   ]
  },
  {
   "cell_type": "code",
   "execution_count": 3,
   "id": "446612f9-e9c9-4da8-990f-2685401ff281",
   "metadata": {},
   "outputs": [
    {
     "name": "stdin",
     "output_type": "stream",
     "text": [
      "Enter the first string Pooja\n",
      "Enter the second string Shankavaram\n"
     ]
    },
    {
     "name": "stdout",
     "output_type": "stream",
     "text": [
      "Weak!\n"
     ]
    }
   ],
   "source": [
    "# The below Python code, asks the user to input two strings and then checks its strength.\n",
    "\n",
    "string1 = str(input(\"Enter the first string\"))\n",
    "string2 = str(input(\"Enter the second string\"))\n",
    "if len(string1) < 2 and len(string2) < 2:\n",
    "    print(\"Extremely Weak!\")\n",
    "elif ((len(string1) >= 2) and (len(string1) <= 5)) or ((len(string2) >= 2) and (len(string2) <=5)):\n",
    "    print(\"Weak!\")\n",
    "elif ((len(string1) > 5) and (len(string1) <= 6)) or ((len(string2) > 5) and (len(string2) <= 6)):\n",
    "    print(\"Intermediate!\")\n",
    "elif ((len(string1) > 6) and (len(string1) <= 8)) or ((len(string2) > 6) and (len(string2) <= 8)):\n",
    "    print(\"Strong!\")\n",
    "elif (len(string1) > 8) or (len(string2) > 8):\n",
    "    print(\"Very Strong!\")\n",
    "else:\n",
    "    print(\"The length of the string is less than 2 and you need to add more characters\")"
   ]
  },
  {
   "cell_type": "markdown",
   "id": "e09d67f2-5b70-44f0-ab8b-ed5d415062a7",
   "metadata": {},
   "source": [
    "### **Simple Age Calculator**"
   ]
  },
  {
   "cell_type": "code",
   "execution_count": 4,
   "id": "7f25ba08-3060-42e6-ab0f-a0d73d5f62b9",
   "metadata": {},
   "outputs": [
    {
     "name": "stdin",
     "output_type": "stream",
     "text": [
      "Enter your year of birth - 1998\n"
     ]
    },
    {
     "name": "stdout",
     "output_type": "stream",
     "text": [
      "You are 27 years old!\n"
     ]
    }
   ],
   "source": [
    "# The below Python code, asks the user for their birth year and calculates their age. \n",
    "\n",
    "from datetime import datetime\n",
    "# Get the current year automatically. \n",
    "Current_Year = datetime.now().year\n",
    "Year_Of_Birth = (input(\"Enter your year of birth -\"))\n",
    "if len(Year_Of_Birth) != 4 or not Year_Of_Birth.isdigit():\n",
    "    print(\"Enter a Valid number!!\")\n",
    "else:\n",
    "    Age = Current_Year - int(Year_Of_Birth)\n",
    "    print(\"You are\", Age, \"years old!\")"
   ]
  },
  {
   "cell_type": "markdown",
   "id": "8d5e1eba-31eb-4949-b1dc-012265ce3f15",
   "metadata": {},
   "source": [
    "### **Simple Number Guessing Game**"
   ]
  },
  {
   "cell_type": "code",
   "execution_count": 5,
   "id": "5a27f4af-34cc-425d-b8f6-66cd87dce6f8",
   "metadata": {},
   "outputs": [
    {
     "name": "stdin",
     "output_type": "stream",
     "text": [
      "Guess a Number between 1 and 10 - 4\n"
     ]
    },
    {
     "name": "stdout",
     "output_type": "stream",
     "text": [
      "You guessed it Right!\n"
     ]
    }
   ],
   "source": [
    "'''\n",
    "The below code asks the user for a number and if the Guess of the user \n",
    "matches the random number generated, then the guess is right. Else you\n",
    "have to play again!\n",
    "'''\n",
    "\n",
    "import random\n",
    "Random_Number = random.randint(1,10)\n",
    "while True:\n",
    "    Guess = input(\"Guess a Number between 1 and 10 -\")\n",
    "    if not Guess.isdigit():\n",
    "        print(\"Enter a Valid Number!!\")\n",
    "        continue\n",
    "    Guess = int(Guess)\n",
    "    if Guess < 1 or Guess > 10:\n",
    "        print(\"Enter a Valid Number!!\")\n",
    "    elif Guess == Random_Number:\n",
    "        print(\"You guessed it Right!\")\n",
    "        break\n",
    "    else:\n",
    "        print(\"Wrong Guess!! Try Again!!\")        "
   ]
  },
  {
   "cell_type": "markdown",
   "id": "fc740293-b91a-47b8-ba89-bae6accca800",
   "metadata": {},
   "source": [
    "### **Simple Tip Calculator**"
   ]
  },
  {
   "cell_type": "code",
   "execution_count": 6,
   "id": "87749d5b-9014-4318-9e58-a43b08889bc2",
   "metadata": {},
   "outputs": [
    {
     "name": "stdin",
     "output_type": "stream",
     "text": [
      "Enter your total bill amount - 5000.85\n",
      "Enter the percent of the bill you wish to tip 5\n"
     ]
    },
    {
     "name": "stdout",
     "output_type": "stream",
     "text": [
      "250.0425\n"
     ]
    }
   ],
   "source": [
    "# The below program asks the user for the total bill amount and percentage of tip. It calculates the tip amount if both the inputs are numbers. \n",
    "\n",
    "'''\n",
    "Use the formula below to calculate the tip amount -\n",
    "Tip = (Bill Amount × Tip Percentage) / 100\n",
    "'''\n",
    "\n",
    "Total_Bill_Amount = float(input(\"Enter your total bill amount -\"))\n",
    "Tip_Percentage = float(input(\"Enter the percent of the bill you wish to tip\"))\n",
    "Tip = (Total_Bill_Amount * Tip_Percentage) / 100\n",
    "print(Tip)"
   ]
  },
  {
   "cell_type": "markdown",
   "id": "7e31b49f-c2b4-4844-873d-d944984615b3",
   "metadata": {},
   "source": [
    "### **Random Number Generator**"
   ]
  },
  {
   "cell_type": "code",
   "execution_count": 7,
   "id": "3e00ec1c-085f-4739-b04a-aa4c26685fb2",
   "metadata": {},
   "outputs": [
    {
     "name": "stdout",
     "output_type": "stream",
     "text": [
      "3\n"
     ]
    }
   ],
   "source": [
    "# A Code to generate a random number from the list mentioned. \n",
    "\n",
    "import random\n",
    "My_List = [1,2,3,4,5]\n",
    "Pick = random.choice(My_List)\n",
    "print(Pick)"
   ]
  },
  {
   "cell_type": "markdown",
   "id": "b60ee0b3-45d4-4038-a854-4410aa71f0ac",
   "metadata": {},
   "source": [
    "### **Let's Play Rock, Paper, Scissors!**"
   ]
  },
  {
   "cell_type": "code",
   "execution_count": 8,
   "id": "c1cc16e6-6c4e-4e4b-94ab-cfcf9e42196e",
   "metadata": {},
   "outputs": [
    {
     "name": "stdin",
     "output_type": "stream",
     "text": [
      "Enter your choice - Rock, Paper or Scissor -- Paper\n"
     ]
    },
    {
     "name": "stdout",
     "output_type": "stream",
     "text": [
      "The Match is a Tie!!\n"
     ]
    }
   ],
   "source": [
    "# A game of Rock, Paper, Scissor.\n",
    "User_Input = input(\"Enter your choice - Rock, Paper or Scissor --\")\n",
    "Options = [\"Rock\", \"Paper\", \"Scissor\"]\n",
    "PC_Choice = random.choice(Options)\n",
    "if User_Input == PC_Choice:\n",
    "    print(\"The Match is a Tie!!\")\n",
    "elif User_Input == \"Rock\":\n",
    "    if PC_Choice == \"Paper\":\n",
    "        print(\"The Paper covered the rock and you Lose!!\")\n",
    "    else:\n",
    "        print(\"The Rock smashes the Scissor and you Win!!\")\n",
    "elif User_Input == \"Paper\":\n",
    "    if PC_Choice == \"Rock\":\n",
    "        print(\"The Paper covered the rock and you Win!!\")\n",
    "    else:\n",
    "        print(\"The Scissor cuts the paper and you Lose!!\")\n",
    "elif User_Input == \"Scissor\":\n",
    "    if PC_Choice == \"Rock\":\n",
    "        print(\"The rock smashed the scissor and you Lose!!\")\n",
    "    else:\n",
    "        print(\"The paper was cut by the scissor and you Win!!\")\n",
    "else:\n",
    "    print(\"Your input is NOT Rock, Paper or Scissor and Hence INVALID!!\")"
   ]
  },
  {
   "cell_type": "markdown",
   "id": "f404fd35-ba09-479d-9c33-bad49f2bc1b2",
   "metadata": {},
   "source": [
    "### **UPPER CASE**"
   ]
  },
  {
   "cell_type": "code",
   "execution_count": 9,
   "id": "f3029d0b-014f-4bb4-ad44-782b007b4e77",
   "metadata": {},
   "outputs": [
    {
     "name": "stdin",
     "output_type": "stream",
     "text": [
      "Enter a string Pooja Shankavaram\n"
     ]
    },
    {
     "name": "stdout",
     "output_type": "stream",
     "text": [
      "POOJA SHANKAVARAM\n"
     ]
    }
   ],
   "source": [
    "Input = input(\"Enter a string\").upper()\n",
    "print(Input)"
   ]
  },
  {
   "cell_type": "markdown",
   "id": "a9e2e6bf-d46d-4386-bb00-1a26062e0a95",
   "metadata": {},
   "source": [
    "### **lower case**"
   ]
  },
  {
   "cell_type": "code",
   "execution_count": 10,
   "id": "2a64be3e-e56f-4063-9beb-df14d6d47ee9",
   "metadata": {},
   "outputs": [
    {
     "name": "stdin",
     "output_type": "stream",
     "text": [
      "Enter a string POOJA SHANKAVARAM\n"
     ]
    },
    {
     "name": "stdout",
     "output_type": "stream",
     "text": [
      "pooja shankavaram\n"
     ]
    }
   ],
   "source": [
    "Input1 = input(\"Enter a string\").lower()\n",
    "print(Input1)"
   ]
  },
  {
   "cell_type": "markdown",
   "id": "442c550f-d839-4fdd-b7c8-13f908075734",
   "metadata": {},
   "source": [
    "### **Random Password Generator**"
   ]
  },
  {
   "cell_type": "code",
   "execution_count": 11,
   "id": "80d09c7e-f4af-44db-b451-d095f7222329",
   "metadata": {},
   "outputs": [
    {
     "name": "stdin",
     "output_type": "stream",
     "text": [
      "Enter password length 8\n"
     ]
    },
    {
     "name": "stdout",
     "output_type": "stream",
     "text": [
      "The password generated by the system is - ebNsSxJQ\n"
     ]
    }
   ],
   "source": [
    "import random\n",
    "Characters_Valid_for_Password = 'abcdefghijklmnopqrstuvwxyzABCDEFGHIJKLMNOPQRSTUVWXYZ0123456789!@#$%^&*()?'\n",
    "Input_Password_Length = input(\"Enter password length\")\n",
    "if Input_Password_Length.isdigit():\n",
    "    Input_Password_Length = int(Input_Password_Length)\n",
    "    if Input_Password_Length < 4:\n",
    "        print(\"The password is too short. The password should be at least 4 or more characters.\")\n",
    "    elif Input_Password_Length > 8:\n",
    "        print(\"The current version does not support more than 8 characters. let the password have 4 to 8 characters.\")\n",
    "    else:\n",
    "        if Input_Password_Length == 4:\n",
    "            Password = random.choice(Characters_Valid_for_Password) + random.choice(Characters_Valid_for_Password) + random.choice(Characters_Valid_for_Password) + random.choice(Characters_Valid_for_Password)\n",
    "        elif Input_Password_Length == 5:\n",
    "            Password = random.choice(Characters_Valid_for_Password) + random.choice(Characters_Valid_for_Password) + random.choice(Characters_Valid_for_Password) + random.choice(Characters_Valid_for_Password) + random.choice(Characters_Valid_for_Password)\n",
    "        elif Input_Password_Length == 6:\n",
    "            Password = random.choice(Characters_Valid_for_Password) + random.choice(Characters_Valid_for_Password) + random.choice(Characters_Valid_for_Password) + random.choice(Characters_Valid_for_Password) + random.choice(Characters_Valid_for_Password) + random.choice(Characters_Valid_for_Password)\n",
    "        elif Input_Password_Length == 7:\n",
    "            Password = random.choice(Characters_Valid_for_Password) + random.choice(Characters_Valid_for_Password) + random.choice(Characters_Valid_for_Password) + random.choice(Characters_Valid_for_Password) + random.choice(Characters_Valid_for_Password) + random.choice(Characters_Valid_for_Password) + random.choice(Characters_Valid_for_Password)\n",
    "        else:\n",
    "            Password = random.choice(Characters_Valid_for_Password) + random.choice(Characters_Valid_for_Password) + random.choice(Characters_Valid_for_Password) + random.choice(Characters_Valid_for_Password) + random.choice(Characters_Valid_for_Password) + random.choice(Characters_Valid_for_Password) + random.choice(Characters_Valid_for_Password) + random.choice(Characters_Valid_for_Password)\n",
    "        print(\"The password generated by the system is -\", Password)\n",
    "else:\n",
    "    print(\"You have not typed a digit for the password length. Type a digit!\")"
   ]
  }
 ],
 "metadata": {
  "kernelspec": {
   "display_name": "Python 3 (ipykernel)",
   "language": "python",
   "name": "python3"
  },
  "language_info": {
   "codemirror_mode": {
    "name": "ipython",
    "version": 3
   },
   "file_extension": ".py",
   "mimetype": "text/x-python",
   "name": "python",
   "nbconvert_exporter": "python",
   "pygments_lexer": "ipython3",
   "version": "3.13.2"
  }
 },
 "nbformat": 4,
 "nbformat_minor": 5
}
