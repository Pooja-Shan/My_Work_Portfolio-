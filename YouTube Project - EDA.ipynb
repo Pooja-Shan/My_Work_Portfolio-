{
 "cells": [
  {
   "cell_type": "markdown",
   "id": "55e6789f-3d79-4c06-b35d-ee2e4ee2fdb5",
   "metadata": {},
   "source": [
    "# **Project on the YouTube Dataset 2025**\n",
    "\n",
    "#### **The dataset contains the following -** \n",
    "1) **Channel Name and Youtuber Name** - These sections discuss who runs the channel, from individual creators to branded studios.\n",
    "2) **Total videos** - indicates how prolific the channel is.\n",
    "3) **Best Video** - highlights the most successful or impactful videos\n",
    "4) **Avg Video Length (min)** - This shows the typical runtime of videos, which helps analyze content pacing and viewer engagement.\n",
    "5) **Total Subscribers** - This gives a sense of a channel’s reach and influence.\n",
    "6) **Members Count** - represents paying subscribers, which is a great signal for loyal fanbases.\n",
    "7) **AI-Generated Content (%)** - reveals how much of the channel's content is powered by artificial intelligence, whether through automated scripts, deep-fakes, or virtual hosts.\n",
    "8) **Neural Interface Compatible** - tells us if the content is designed to work with next-gen brain-computer interfaces. Yes, this dataset gets that sci-fi.\n",
    "9) **Metaverse Integration Level** - indicates how involved the channel is with immersive virtual environments. Levels range from no presence to full-blown integration.\n",
    "10) **Quantum Computing Topics** - counts how many videos cover topics in this complex field, which showcases channels that lean toward high-tech education or discussion.\n",
    "11) **Holographic Content Rating** - rates how immersive the visual content is, from the basic 1D visuals to 3D holographic presentations.\n",
    "12) **Engagement Score** - measures how well the audience interacts with the channel, probably combining likes, comments, shares, and view time.\n",
    "13) **Content Value Index** - gives a summary score of how valuable or meaningful the content is, based on factors like education, originality, or entertainment.\n",
    "\n",
    "This futuristic dataset offers a detailed look at 5,000 YouTube channels, designed to reflect how content creation might evolve by the year 2025. It explores not only the traditional metrics like subscriber count and video stats but also dives deep into cutting-edge trends such as AI-generated content, neural interface compatibility, and metaverse integration. It imagines a near-future world where creators push the boundaries with AI, virtual environments, and even holograms\n",
    "\n",
    "#### **The Goal of this Project -**\n",
    "Is to explore trends in content evolution, building predictive models and finding out the unknown. \n",
    "\n",
    "#### **Source of the dataset -**\n",
    "Kaggle Datasets - https://www.kaggle.com/datasets/amansingh0000000/youtube-2025-dataset"
   ]
  },
  {
   "cell_type": "markdown",
   "id": "c6003bf9-5cdf-4fd7-b54a-8c8e246138ed",
   "metadata": {},
   "source": [
    "## **EDA (Exploratory Data Analysis)**"
   ]
  },
  {
   "cell_type": "code",
   "execution_count": 1,
   "id": "a681acdf-d641-4168-818b-51d849ff3b0e",
   "metadata": {},
   "outputs": [],
   "source": [
    "# Importing all the required packages for conducting EDA\n",
    "import numpy as np \n",
    "import pandas as pd\n",
    "import matplotlib.pyplot as plt\n",
    "import seaborn as sns\n",
    "import datetime"
   ]
  },
  {
   "cell_type": "code",
   "execution_count": 2,
   "id": "a0d1326a-2764-4e54-bd63-7ec3bc3cd327",
   "metadata": {},
   "outputs": [],
   "source": [
    "# Importing Dataset from Excel\n",
    "df = pd.read_excel(r\"D:\\Files On This Laptop (Not Cloud)\\xps 16 9640\\Documents\\Data Analytics Career Requirements\\PORTFOLIO ESSENTIALS\\archive\\youtube_2025_dataset_202504061614.xlsx\")"
   ]
  },
  {
   "cell_type": "code",
   "execution_count": 3,
   "id": "ce135293-da79-415f-b3de-7f6e6e6e463a",
   "metadata": {},
   "outputs": [
    {
     "data": {
      "text/html": [
       "<div>\n",
       "<style scoped>\n",
       "    .dataframe tbody tr th:only-of-type {\n",
       "        vertical-align: middle;\n",
       "    }\n",
       "\n",
       "    .dataframe tbody tr th {\n",
       "        vertical-align: top;\n",
       "    }\n",
       "\n",
       "    .dataframe thead th {\n",
       "        text-align: right;\n",
       "    }\n",
       "</style>\n",
       "<table border=\"1\" class=\"dataframe\">\n",
       "  <thead>\n",
       "    <tr style=\"text-align: right;\">\n",
       "      <th></th>\n",
       "      <th>Channel Name</th>\n",
       "      <th>Youtuber Name</th>\n",
       "      <th>Total Videos</th>\n",
       "      <th>Best Video</th>\n",
       "      <th>Avg Video Length (min)</th>\n",
       "      <th>Total Subscribers</th>\n",
       "      <th>Members Count</th>\n",
       "      <th>AI Generated Content (%)</th>\n",
       "      <th>Neural Interface Compatible</th>\n",
       "      <th>Metaverse Integration Level</th>\n",
       "      <th>Quantum Computing Topics</th>\n",
       "      <th>Holographic Content Rating</th>\n",
       "      <th>Engagement Score</th>\n",
       "      <th>Content Value Index</th>\n",
       "    </tr>\n",
       "  </thead>\n",
       "  <tbody>\n",
       "    <tr>\n",
       "      <th>0</th>\n",
       "      <td>Smith-Ross Labs</td>\n",
       "      <td>Eric Patel</td>\n",
       "      <td>68</td>\n",
       "      <td>VR Challenge: Review 2023</td>\n",
       "      <td>24.8</td>\n",
       "      <td>8264152</td>\n",
       "      <td>303319</td>\n",
       "      <td>9</td>\n",
       "      <td>True</td>\n",
       "      <td>Full</td>\n",
       "      <td>5</td>\n",
       "      <td>3D</td>\n",
       "      <td>130655.44</td>\n",
       "      <td>6.2</td>\n",
       "    </tr>\n",
       "    <tr>\n",
       "      <th>1</th>\n",
       "      <td>Sandoval PLC Hub</td>\n",
       "      <td>Cynthia Harrington</td>\n",
       "      <td>128</td>\n",
       "      <td>Nanotech Simulation: Analysis 2024</td>\n",
       "      <td>22.9</td>\n",
       "      <td>8768222</td>\n",
       "      <td>384629</td>\n",
       "      <td>62</td>\n",
       "      <td>False</td>\n",
       "      <td>NaN</td>\n",
       "      <td>4</td>\n",
       "      <td>3D</td>\n",
       "      <td>138624.73</td>\n",
       "      <td>21.4</td>\n",
       "    </tr>\n",
       "    <tr>\n",
       "      <th>2</th>\n",
       "      <td>Jones, Moore and Ho Network</td>\n",
       "      <td>Amanda Walker</td>\n",
       "      <td>282</td>\n",
       "      <td>Metaverse Interface: Analysis 2024</td>\n",
       "      <td>24.0</td>\n",
       "      <td>6163386</td>\n",
       "      <td>361743</td>\n",
       "      <td>31</td>\n",
       "      <td>True</td>\n",
       "      <td>Advanced</td>\n",
       "      <td>6</td>\n",
       "      <td>1D</td>\n",
       "      <td>97442.53</td>\n",
       "      <td>13.5</td>\n",
       "    </tr>\n",
       "    <tr>\n",
       "      <th>3</th>\n",
       "      <td>Mitchell-Hooper Labs</td>\n",
       "      <td>Jessica Nelson MD</td>\n",
       "      <td>302</td>\n",
       "      <td>VR Protocol: Review 2023</td>\n",
       "      <td>24.6</td>\n",
       "      <td>4712268</td>\n",
       "      <td>58483</td>\n",
       "      <td>5</td>\n",
       "      <td>False</td>\n",
       "      <td>NaN</td>\n",
       "      <td>15</td>\n",
       "      <td>1D</td>\n",
       "      <td>74500.50</td>\n",
       "      <td>12.0</td>\n",
       "    </tr>\n",
       "    <tr>\n",
       "      <th>4</th>\n",
       "      <td>Wilson LLC Studios</td>\n",
       "      <td>Matthew Sherman</td>\n",
       "      <td>129</td>\n",
       "      <td>Nanotech Simulation: Review 2024</td>\n",
       "      <td>24.6</td>\n",
       "      <td>9592017</td>\n",
       "      <td>333873</td>\n",
       "      <td>63</td>\n",
       "      <td>True</td>\n",
       "      <td>NaN</td>\n",
       "      <td>12</td>\n",
       "      <td>3D</td>\n",
       "      <td>151648.85</td>\n",
       "      <td>27.3</td>\n",
       "    </tr>\n",
       "    <tr>\n",
       "      <th>5</th>\n",
       "      <td>Myers Ltd Network</td>\n",
       "      <td>Anna Berry</td>\n",
       "      <td>98</td>\n",
       "      <td>AI Unboxing: Analysis 2023</td>\n",
       "      <td>24.2</td>\n",
       "      <td>8596605</td>\n",
       "      <td>346447</td>\n",
       "      <td>36</td>\n",
       "      <td>False</td>\n",
       "      <td>Full</td>\n",
       "      <td>3</td>\n",
       "      <td>1D</td>\n",
       "      <td>135911.49</td>\n",
       "      <td>12.9</td>\n",
       "    </tr>\n",
       "    <tr>\n",
       "      <th>6</th>\n",
       "      <td>Huber Inc Network</td>\n",
       "      <td>Richard Arnold</td>\n",
       "      <td>494</td>\n",
       "      <td>Holographic Unboxing: Tutorial 2025</td>\n",
       "      <td>23.2</td>\n",
       "      <td>4516365</td>\n",
       "      <td>113241</td>\n",
       "      <td>31</td>\n",
       "      <td>False</td>\n",
       "      <td>Basic</td>\n",
       "      <td>4</td>\n",
       "      <td>1D</td>\n",
       "      <td>71403.29</td>\n",
       "      <td>12.1</td>\n",
       "    </tr>\n",
       "    <tr>\n",
       "      <th>7</th>\n",
       "      <td>Baxter-Collins Studios</td>\n",
       "      <td>Stephanie Potter</td>\n",
       "      <td>133</td>\n",
       "      <td>AI Simulation: Showcase 2023</td>\n",
       "      <td>25.6</td>\n",
       "      <td>8619619</td>\n",
       "      <td>119696</td>\n",
       "      <td>22</td>\n",
       "      <td>True</td>\n",
       "      <td>Advanced</td>\n",
       "      <td>7</td>\n",
       "      <td>2D</td>\n",
       "      <td>136275.34</td>\n",
       "      <td>11.5</td>\n",
       "    </tr>\n",
       "    <tr>\n",
       "      <th>8</th>\n",
       "      <td>Morrow-Abbott Hub</td>\n",
       "      <td>Teresa Aguirre</td>\n",
       "      <td>316</td>\n",
       "      <td>Neural Protocol: Breakdown 2024</td>\n",
       "      <td>23.1</td>\n",
       "      <td>8238590</td>\n",
       "      <td>343565</td>\n",
       "      <td>68</td>\n",
       "      <td>True</td>\n",
       "      <td>Basic</td>\n",
       "      <td>5</td>\n",
       "      <td>4D</td>\n",
       "      <td>130251.30</td>\n",
       "      <td>23.9</td>\n",
       "    </tr>\n",
       "    <tr>\n",
       "      <th>9</th>\n",
       "      <td>Jackson Group Network</td>\n",
       "      <td>Anne Adkins</td>\n",
       "      <td>140</td>\n",
       "      <td>VR Synthesis: Experience 2025</td>\n",
       "      <td>24.2</td>\n",
       "      <td>2434930</td>\n",
       "      <td>253939</td>\n",
       "      <td>97</td>\n",
       "      <td>True</td>\n",
       "      <td>NaN</td>\n",
       "      <td>13</td>\n",
       "      <td>1D</td>\n",
       "      <td>38496.01</td>\n",
       "      <td>38.2</td>\n",
       "    </tr>\n",
       "    <tr>\n",
       "      <th>10</th>\n",
       "      <td>Austin-Bowen Studios</td>\n",
       "      <td>David Clark</td>\n",
       "      <td>52</td>\n",
       "      <td>Nanotech Interface: Showcase 2025</td>\n",
       "      <td>22.9</td>\n",
       "      <td>6131291</td>\n",
       "      <td>460904</td>\n",
       "      <td>84</td>\n",
       "      <td>False</td>\n",
       "      <td>NaN</td>\n",
       "      <td>2</td>\n",
       "      <td>3D</td>\n",
       "      <td>96935.11</td>\n",
       "      <td>26.6</td>\n",
       "    </tr>\n",
       "    <tr>\n",
       "      <th>11</th>\n",
       "      <td>Walton Ltd Network</td>\n",
       "      <td>Kathleen Weeks</td>\n",
       "      <td>149</td>\n",
       "      <td>Holographic Unboxing: Tutorial 2025</td>\n",
       "      <td>25.4</td>\n",
       "      <td>4065562</td>\n",
       "      <td>58414</td>\n",
       "      <td>44</td>\n",
       "      <td>True</td>\n",
       "      <td>Advanced</td>\n",
       "      <td>0</td>\n",
       "      <td>2D</td>\n",
       "      <td>64276.14</td>\n",
       "      <td>13.2</td>\n",
       "    </tr>\n",
       "    <tr>\n",
       "      <th>12</th>\n",
       "      <td>Singh LLC Hub</td>\n",
       "      <td>Melissa Kennedy</td>\n",
       "      <td>53</td>\n",
       "      <td>Nanotech Challenge: Showcase 2023</td>\n",
       "      <td>26.9</td>\n",
       "      <td>3694694</td>\n",
       "      <td>343545</td>\n",
       "      <td>78</td>\n",
       "      <td>True</td>\n",
       "      <td>Advanced</td>\n",
       "      <td>5</td>\n",
       "      <td>3D</td>\n",
       "      <td>58412.75</td>\n",
       "      <td>26.9</td>\n",
       "    </tr>\n",
       "    <tr>\n",
       "      <th>13</th>\n",
       "      <td>Martinez Ltd Labs</td>\n",
       "      <td>Kimberly Brown</td>\n",
       "      <td>299</td>\n",
       "      <td>Nanotech Interface: Breakdown 2024</td>\n",
       "      <td>23.4</td>\n",
       "      <td>4011951</td>\n",
       "      <td>8419</td>\n",
       "      <td>24</td>\n",
       "      <td>False</td>\n",
       "      <td>Advanced</td>\n",
       "      <td>19</td>\n",
       "      <td>3D</td>\n",
       "      <td>63428.55</td>\n",
       "      <td>20.5</td>\n",
       "    </tr>\n",
       "    <tr>\n",
       "      <th>14</th>\n",
       "      <td>Wade, Price and Byrd Labs</td>\n",
       "      <td>Jennifer Martinez</td>\n",
       "      <td>383</td>\n",
       "      <td>Nanotech Challenge: Analysis 2024</td>\n",
       "      <td>24.1</td>\n",
       "      <td>3994755</td>\n",
       "      <td>156929</td>\n",
       "      <td>99</td>\n",
       "      <td>True</td>\n",
       "      <td>NaN</td>\n",
       "      <td>14</td>\n",
       "      <td>2D</td>\n",
       "      <td>63156.69</td>\n",
       "      <td>39.5</td>\n",
       "    </tr>\n",
       "    <tr>\n",
       "      <th>15</th>\n",
       "      <td>Jones-Wood Hub</td>\n",
       "      <td>Elizabeth Wright</td>\n",
       "      <td>79</td>\n",
       "      <td>Neural Challenge: Showcase 2024</td>\n",
       "      <td>24.9</td>\n",
       "      <td>1001201</td>\n",
       "      <td>124595</td>\n",
       "      <td>7</td>\n",
       "      <td>True</td>\n",
       "      <td>NaN</td>\n",
       "      <td>10</td>\n",
       "      <td>2D</td>\n",
       "      <td>15828.89</td>\n",
       "      <td>9.1</td>\n",
       "    </tr>\n",
       "    <tr>\n",
       "      <th>16</th>\n",
       "      <td>Contreras Inc Network</td>\n",
       "      <td>Elijah Ruiz</td>\n",
       "      <td>373</td>\n",
       "      <td>Metaverse Unboxing: Breakdown 2025</td>\n",
       "      <td>24.7</td>\n",
       "      <td>422350</td>\n",
       "      <td>401907</td>\n",
       "      <td>46</td>\n",
       "      <td>False</td>\n",
       "      <td>Full</td>\n",
       "      <td>19</td>\n",
       "      <td>3D</td>\n",
       "      <td>6677.31</td>\n",
       "      <td>27.1</td>\n",
       "    </tr>\n",
       "    <tr>\n",
       "      <th>17</th>\n",
       "      <td>Hill-Martinez Network</td>\n",
       "      <td>Thomas Roberts</td>\n",
       "      <td>59</td>\n",
       "      <td>Quantum Challenge: Tutorial 2024</td>\n",
       "      <td>24.8</td>\n",
       "      <td>9292690</td>\n",
       "      <td>20420</td>\n",
       "      <td>49</td>\n",
       "      <td>False</td>\n",
       "      <td>Full</td>\n",
       "      <td>12</td>\n",
       "      <td>4D</td>\n",
       "      <td>146916.52</td>\n",
       "      <td>23.1</td>\n",
       "    </tr>\n",
       "    <tr>\n",
       "      <th>18</th>\n",
       "      <td>Jones Group Studios</td>\n",
       "      <td>Julian Gutierrez</td>\n",
       "      <td>500</td>\n",
       "      <td>AI Simulation: Breakdown 2025</td>\n",
       "      <td>23.6</td>\n",
       "      <td>7369289</td>\n",
       "      <td>279265</td>\n",
       "      <td>0</td>\n",
       "      <td>True</td>\n",
       "      <td>Advanced</td>\n",
       "      <td>9</td>\n",
       "      <td>3D</td>\n",
       "      <td>116507.74</td>\n",
       "      <td>6.3</td>\n",
       "    </tr>\n",
       "    <tr>\n",
       "      <th>19</th>\n",
       "      <td>Adams, Velazquez and Jackson Hub</td>\n",
       "      <td>Sheila Rivera</td>\n",
       "      <td>332</td>\n",
       "      <td>Holographic Synthesis: Breakdown 2023</td>\n",
       "      <td>24.1</td>\n",
       "      <td>6814247</td>\n",
       "      <td>418869</td>\n",
       "      <td>53</td>\n",
       "      <td>False</td>\n",
       "      <td>Full</td>\n",
       "      <td>16</td>\n",
       "      <td>1D</td>\n",
       "      <td>107732.58</td>\n",
       "      <td>27.1</td>\n",
       "    </tr>\n",
       "  </tbody>\n",
       "</table>\n",
       "</div>"
      ],
      "text/plain": [
       "                        Channel Name       Youtuber Name  Total Videos  \\\n",
       "0                    Smith-Ross Labs          Eric Patel            68   \n",
       "1                   Sandoval PLC Hub  Cynthia Harrington           128   \n",
       "2        Jones, Moore and Ho Network       Amanda Walker           282   \n",
       "3               Mitchell-Hooper Labs   Jessica Nelson MD           302   \n",
       "4                 Wilson LLC Studios     Matthew Sherman           129   \n",
       "5                  Myers Ltd Network          Anna Berry            98   \n",
       "6                  Huber Inc Network      Richard Arnold           494   \n",
       "7             Baxter-Collins Studios    Stephanie Potter           133   \n",
       "8                  Morrow-Abbott Hub      Teresa Aguirre           316   \n",
       "9              Jackson Group Network         Anne Adkins           140   \n",
       "10              Austin-Bowen Studios         David Clark            52   \n",
       "11                Walton Ltd Network      Kathleen Weeks           149   \n",
       "12                     Singh LLC Hub     Melissa Kennedy            53   \n",
       "13                 Martinez Ltd Labs      Kimberly Brown           299   \n",
       "14         Wade, Price and Byrd Labs   Jennifer Martinez           383   \n",
       "15                    Jones-Wood Hub    Elizabeth Wright            79   \n",
       "16             Contreras Inc Network         Elijah Ruiz           373   \n",
       "17             Hill-Martinez Network      Thomas Roberts            59   \n",
       "18               Jones Group Studios    Julian Gutierrez           500   \n",
       "19  Adams, Velazquez and Jackson Hub       Sheila Rivera           332   \n",
       "\n",
       "                               Best Video  Avg Video Length (min)  \\\n",
       "0               VR Challenge: Review 2023                    24.8   \n",
       "1      Nanotech Simulation: Analysis 2024                    22.9   \n",
       "2      Metaverse Interface: Analysis 2024                    24.0   \n",
       "3                VR Protocol: Review 2023                    24.6   \n",
       "4        Nanotech Simulation: Review 2024                    24.6   \n",
       "5              AI Unboxing: Analysis 2023                    24.2   \n",
       "6     Holographic Unboxing: Tutorial 2025                    23.2   \n",
       "7            AI Simulation: Showcase 2023                    25.6   \n",
       "8         Neural Protocol: Breakdown 2024                    23.1   \n",
       "9           VR Synthesis: Experience 2025                    24.2   \n",
       "10      Nanotech Interface: Showcase 2025                    22.9   \n",
       "11    Holographic Unboxing: Tutorial 2025                    25.4   \n",
       "12      Nanotech Challenge: Showcase 2023                    26.9   \n",
       "13     Nanotech Interface: Breakdown 2024                    23.4   \n",
       "14      Nanotech Challenge: Analysis 2024                    24.1   \n",
       "15        Neural Challenge: Showcase 2024                    24.9   \n",
       "16     Metaverse Unboxing: Breakdown 2025                    24.7   \n",
       "17       Quantum Challenge: Tutorial 2024                    24.8   \n",
       "18          AI Simulation: Breakdown 2025                    23.6   \n",
       "19  Holographic Synthesis: Breakdown 2023                    24.1   \n",
       "\n",
       "    Total Subscribers  Members Count  AI Generated Content (%)  \\\n",
       "0             8264152         303319                         9   \n",
       "1             8768222         384629                        62   \n",
       "2             6163386         361743                        31   \n",
       "3             4712268          58483                         5   \n",
       "4             9592017         333873                        63   \n",
       "5             8596605         346447                        36   \n",
       "6             4516365         113241                        31   \n",
       "7             8619619         119696                        22   \n",
       "8             8238590         343565                        68   \n",
       "9             2434930         253939                        97   \n",
       "10            6131291         460904                        84   \n",
       "11            4065562          58414                        44   \n",
       "12            3694694         343545                        78   \n",
       "13            4011951           8419                        24   \n",
       "14            3994755         156929                        99   \n",
       "15            1001201         124595                         7   \n",
       "16             422350         401907                        46   \n",
       "17            9292690          20420                        49   \n",
       "18            7369289         279265                         0   \n",
       "19            6814247         418869                        53   \n",
       "\n",
       "    Neural Interface Compatible Metaverse Integration Level  \\\n",
       "0                          True                        Full   \n",
       "1                         False                         NaN   \n",
       "2                          True                    Advanced   \n",
       "3                         False                         NaN   \n",
       "4                          True                         NaN   \n",
       "5                         False                        Full   \n",
       "6                         False                       Basic   \n",
       "7                          True                    Advanced   \n",
       "8                          True                       Basic   \n",
       "9                          True                         NaN   \n",
       "10                        False                         NaN   \n",
       "11                         True                    Advanced   \n",
       "12                         True                    Advanced   \n",
       "13                        False                    Advanced   \n",
       "14                         True                         NaN   \n",
       "15                         True                         NaN   \n",
       "16                        False                        Full   \n",
       "17                        False                        Full   \n",
       "18                         True                    Advanced   \n",
       "19                        False                        Full   \n",
       "\n",
       "    Quantum Computing Topics Holographic Content Rating  Engagement Score  \\\n",
       "0                          5                         3D         130655.44   \n",
       "1                          4                         3D         138624.73   \n",
       "2                          6                         1D          97442.53   \n",
       "3                         15                         1D          74500.50   \n",
       "4                         12                         3D         151648.85   \n",
       "5                          3                         1D         135911.49   \n",
       "6                          4                         1D          71403.29   \n",
       "7                          7                         2D         136275.34   \n",
       "8                          5                         4D         130251.30   \n",
       "9                         13                         1D          38496.01   \n",
       "10                         2                         3D          96935.11   \n",
       "11                         0                         2D          64276.14   \n",
       "12                         5                         3D          58412.75   \n",
       "13                        19                         3D          63428.55   \n",
       "14                        14                         2D          63156.69   \n",
       "15                        10                         2D          15828.89   \n",
       "16                        19                         3D           6677.31   \n",
       "17                        12                         4D         146916.52   \n",
       "18                         9                         3D         116507.74   \n",
       "19                        16                         1D         107732.58   \n",
       "\n",
       "    Content Value Index  \n",
       "0                   6.2  \n",
       "1                  21.4  \n",
       "2                  13.5  \n",
       "3                  12.0  \n",
       "4                  27.3  \n",
       "5                  12.9  \n",
       "6                  12.1  \n",
       "7                  11.5  \n",
       "8                  23.9  \n",
       "9                  38.2  \n",
       "10                 26.6  \n",
       "11                 13.2  \n",
       "12                 26.9  \n",
       "13                 20.5  \n",
       "14                 39.5  \n",
       "15                  9.1  \n",
       "16                 27.1  \n",
       "17                 23.1  \n",
       "18                  6.3  \n",
       "19                 27.1  "
      ]
     },
     "execution_count": 3,
     "metadata": {},
     "output_type": "execute_result"
    }
   ],
   "source": [
    "df.head(20)"
   ]
  },
  {
   "cell_type": "markdown",
   "id": "6917f358-fc12-4878-a9cc-8b2e37a004fe",
   "metadata": {},
   "source": [
    "### **1) Data Cleaning**"
   ]
  },
  {
   "cell_type": "code",
   "execution_count": 4,
   "id": "e7864083-3067-4860-8e81-546be5d98eff",
   "metadata": {},
   "outputs": [
    {
     "name": "stdout",
     "output_type": "stream",
     "text": [
      "<class 'pandas.core.frame.DataFrame'>\n",
      "RangeIndex: 5000 entries, 0 to 4999\n",
      "Data columns (total 14 columns):\n",
      " #   Column                       Non-Null Count  Dtype  \n",
      "---  ------                       --------------  -----  \n",
      " 0   Channel Name                 5000 non-null   object \n",
      " 1   Youtuber Name                5000 non-null   object \n",
      " 2   Total Videos                 5000 non-null   int64  \n",
      " 3   Best Video                   5000 non-null   object \n",
      " 4   Avg Video Length (min)       5000 non-null   float64\n",
      " 5   Total Subscribers            5000 non-null   int64  \n",
      " 6   Members Count                5000 non-null   int64  \n",
      " 7   AI Generated Content (%)     5000 non-null   int64  \n",
      " 8   Neural Interface Compatible  5000 non-null   bool   \n",
      " 9   Metaverse Integration Level  3718 non-null   object \n",
      " 10  Quantum Computing Topics     5000 non-null   int64  \n",
      " 11  Holographic Content Rating   5000 non-null   object \n",
      " 12  Engagement Score             5000 non-null   float64\n",
      " 13  Content Value Index          5000 non-null   float64\n",
      "dtypes: bool(1), float64(3), int64(5), object(5)\n",
      "memory usage: 512.8+ KB\n"
     ]
    }
   ],
   "source": [
    "df.info()"
   ]
  },
  {
   "cell_type": "markdown",
   "id": "6cdbd615-63b0-4377-96ab-1c383def817f",
   "metadata": {},
   "source": [
    "**From the above code, it is evident that only the 9th column, that is `Metaverse Integration Level` has some missing entries. The entries could be missing or it could just mean that `1282 entries` (5000-3718) is not immersive in virtual environments** "
   ]
  },
  {
   "cell_type": "code",
   "execution_count": 5,
   "id": "05873323-d89d-4130-8bb3-45aa5d6ef4ac",
   "metadata": {},
   "outputs": [
    {
     "data": {
      "text/plain": [
       "(5000, 14)"
      ]
     },
     "execution_count": 5,
     "metadata": {},
     "output_type": "execute_result"
    }
   ],
   "source": [
    "df.shape"
   ]
  },
  {
   "cell_type": "code",
   "execution_count": 6,
   "id": "e22795df-3aef-487c-b7f1-a6cc82c11cff",
   "metadata": {},
   "outputs": [
    {
     "data": {
      "text/plain": [
       "(5000, 14)"
      ]
     },
     "execution_count": 6,
     "metadata": {},
     "output_type": "execute_result"
    }
   ],
   "source": [
    "df.drop_duplicates().shape"
   ]
  },
  {
   "cell_type": "markdown",
   "id": "e1a974cd-72c1-4ffe-878d-8fc1e846b926",
   "metadata": {},
   "source": [
    "**The above codes indicate that there are no duplicates**"
   ]
  },
  {
   "cell_type": "code",
   "execution_count": 7,
   "id": "58d21c22-32bd-4cca-bbb8-60b5298b2075",
   "metadata": {},
   "outputs": [
    {
     "data": {
      "text/plain": [
       "Channel Name                      0\n",
       "Youtuber Name                     0\n",
       "Total Videos                      0\n",
       "Best Video                        0\n",
       "Avg Video Length (min)            0\n",
       "Total Subscribers                 0\n",
       "Members Count                     0\n",
       "AI Generated Content (%)          0\n",
       "Neural Interface Compatible       0\n",
       "Metaverse Integration Level    1282\n",
       "Quantum Computing Topics          0\n",
       "Holographic Content Rating        0\n",
       "Engagement Score                  0\n",
       "Content Value Index               0\n",
       "dtype: int64"
      ]
     },
     "execution_count": 7,
     "metadata": {},
     "output_type": "execute_result"
    }
   ],
   "source": [
    "df.isnull().sum()"
   ]
  },
  {
   "cell_type": "code",
   "execution_count": 8,
   "id": "4127a652-4dbb-4b60-95b8-e8407194f7eb",
   "metadata": {},
   "outputs": [
    {
     "name": "stdout",
     "output_type": "stream",
     "text": [
      "                           Channel Name       Youtuber Name  Total Videos  \\\n",
      "1                      Sandoval PLC Hub  Cynthia Harrington           128   \n",
      "3                  Mitchell-Hooper Labs   Jessica Nelson MD           302   \n",
      "4                    Wilson LLC Studios     Matthew Sherman           129   \n",
      "9                 Jackson Group Network         Anne Adkins           140   \n",
      "10                 Austin-Bowen Studios         David Clark            52   \n",
      "...                                 ...                 ...           ...   \n",
      "4975                   Horton-Hunt Labs        Amy Thompson           478   \n",
      "4985  Snyder, Moody and Dickson Network         Pamela Khan           126   \n",
      "4987            Johnson-Rosales Network          Donna Lane           417   \n",
      "4989               Knight and Sons Labs        Patrick Reed           193   \n",
      "4990                    Cole-Sharp Labs        Erin Bradley           231   \n",
      "\n",
      "                               Best Video  Avg Video Length (min)  \\\n",
      "1      Nanotech Simulation: Analysis 2024                    22.9   \n",
      "3                VR Protocol: Review 2023                    24.6   \n",
      "4        Nanotech Simulation: Review 2024                    24.6   \n",
      "9           VR Synthesis: Experience 2025                    24.2   \n",
      "10      Nanotech Interface: Showcase 2025                    22.9   \n",
      "...                                   ...                     ...   \n",
      "4975          AI Synthesis: Analysis 2023                    23.2   \n",
      "4985  Holographic Unboxing: Tutorial 2024                    23.7   \n",
      "4987         VR Unboxing: Experience 2023                    23.3   \n",
      "4989           VR Protocol: Tutorial 2025                    23.6   \n",
      "4990     Nanotech Unboxing: Showcase 2024                    24.9   \n",
      "\n",
      "      Total Subscribers  Members Count  AI Generated Content (%)  \\\n",
      "1               8768222         384629                        62   \n",
      "3               4712268          58483                         5   \n",
      "4               9592017         333873                        63   \n",
      "9               2434930         253939                        97   \n",
      "10              6131291         460904                        84   \n",
      "...                 ...            ...                       ...   \n",
      "4975            4082286         135750                        57   \n",
      "4985            6311808         182502                        25   \n",
      "4987            3810916         436354                        43   \n",
      "4989            8930268          92349                        34   \n",
      "4990            8411654           6518                        28   \n",
      "\n",
      "      Neural Interface Compatible Metaverse Integration Level  \\\n",
      "1                           False                         NaN   \n",
      "3                           False                         NaN   \n",
      "4                            True                         NaN   \n",
      "9                            True                         NaN   \n",
      "10                          False                         NaN   \n",
      "...                           ...                         ...   \n",
      "4975                        False                         NaN   \n",
      "4985                         True                         NaN   \n",
      "4987                         True                         NaN   \n",
      "4989                         True                         NaN   \n",
      "4990                        False                         NaN   \n",
      "\n",
      "      Quantum Computing Topics Holographic Content Rating  Engagement Score  \\\n",
      "1                            4                         3D         138624.73   \n",
      "3                           15                         1D          74500.50   \n",
      "4                           12                         3D         151648.85   \n",
      "9                           13                         1D          38496.01   \n",
      "10                           2                         3D          96935.11   \n",
      "...                        ...                        ...               ...   \n",
      "4975                        18                         2D          64540.54   \n",
      "4985                        15                         1D          99789.07   \n",
      "4987                        14                         4D          60250.21   \n",
      "4989                        15                         1D         141186.67   \n",
      "4990                        11                         1D         132987.43   \n",
      "\n",
      "      Content Value Index  \n",
      "1                    21.4  \n",
      "3                    12.0  \n",
      "4                    27.3  \n",
      "9                    38.2  \n",
      "10                   26.6  \n",
      "...                   ...  \n",
      "4975                 29.7  \n",
      "4985                 18.0  \n",
      "4987                 22.7  \n",
      "4989                 20.7  \n",
      "4990                 16.1  \n",
      "\n",
      "[1282 rows x 14 columns]\n"
     ]
    }
   ],
   "source": [
    "Null_Entries = df[df['Metaverse Integration Level'].isnull()]\n",
    "print(Null_Entries)"
   ]
  },
  {
   "cell_type": "markdown",
   "id": "4bf884a7-c487-4c36-af19-16677ba93f8d",
   "metadata": {},
   "source": [
    "**By comparing the Excel dataset on MS Excel and the output of the above code, it is evident that the `Metaverse Integration Level` column has 4 categories. They are - `Basic`, `Full`, `Advanced` and `None`. The columns that have the entry `None` are the `1282 entries`. This means that they are technically not blanks, but 1282 YouTube channels do not immerse in virtual environments. Hence we are not removing the blanks but keeping them as they are useful for our data analysis**"
   ]
  },
  {
   "cell_type": "code",
   "execution_count": 9,
   "id": "35b65acb-9835-413a-9154-bfc231e3e64c",
   "metadata": {},
   "outputs": [
    {
     "data": {
      "text/html": [
       "<div>\n",
       "<style scoped>\n",
       "    .dataframe tbody tr th:only-of-type {\n",
       "        vertical-align: middle;\n",
       "    }\n",
       "\n",
       "    .dataframe tbody tr th {\n",
       "        vertical-align: top;\n",
       "    }\n",
       "\n",
       "    .dataframe thead th {\n",
       "        text-align: right;\n",
       "    }\n",
       "</style>\n",
       "<table border=\"1\" class=\"dataframe\">\n",
       "  <thead>\n",
       "    <tr style=\"text-align: right;\">\n",
       "      <th></th>\n",
       "      <th>Total Videos</th>\n",
       "      <th>Avg Video Length (min)</th>\n",
       "      <th>Total Subscribers</th>\n",
       "      <th>Members Count</th>\n",
       "      <th>AI Generated Content (%)</th>\n",
       "      <th>Quantum Computing Topics</th>\n",
       "      <th>Engagement Score</th>\n",
       "      <th>Content Value Index</th>\n",
       "    </tr>\n",
       "  </thead>\n",
       "  <tbody>\n",
       "    <tr>\n",
       "      <th>count</th>\n",
       "      <td>5000.00000</td>\n",
       "      <td>5000.000000</td>\n",
       "      <td>5.000000e+03</td>\n",
       "      <td>5000.00000</td>\n",
       "      <td>5000.000000</td>\n",
       "      <td>5000.000000</td>\n",
       "      <td>5000.000000</td>\n",
       "      <td>5000.000000</td>\n",
       "    </tr>\n",
       "    <tr>\n",
       "      <th>mean</th>\n",
       "      <td>274.43340</td>\n",
       "      <td>24.004540</td>\n",
       "      <td>5.058482e+06</td>\n",
       "      <td>249082.01980</td>\n",
       "      <td>49.328600</td>\n",
       "      <td>10.061400</td>\n",
       "      <td>79974.100470</td>\n",
       "      <td>21.841560</td>\n",
       "    </tr>\n",
       "    <tr>\n",
       "      <th>std</th>\n",
       "      <td>131.71675</td>\n",
       "      <td>0.874555</td>\n",
       "      <td>2.890895e+06</td>\n",
       "      <td>143555.47327</td>\n",
       "      <td>29.444246</td>\n",
       "      <td>6.093953</td>\n",
       "      <td>45704.767088</td>\n",
       "      <td>9.863744</td>\n",
       "    </tr>\n",
       "    <tr>\n",
       "      <th>min</th>\n",
       "      <td>50.00000</td>\n",
       "      <td>19.100000</td>\n",
       "      <td>1.755000e+03</td>\n",
       "      <td>143.00000</td>\n",
       "      <td>0.000000</td>\n",
       "      <td>0.000000</td>\n",
       "      <td>27.750000</td>\n",
       "      <td>0.000000</td>\n",
       "    </tr>\n",
       "    <tr>\n",
       "      <th>25%</th>\n",
       "      <td>159.00000</td>\n",
       "      <td>23.500000</td>\n",
       "      <td>2.547991e+06</td>\n",
       "      <td>127000.75000</td>\n",
       "      <td>24.000000</td>\n",
       "      <td>5.000000</td>\n",
       "      <td>40283.490000</td>\n",
       "      <td>14.200000</td>\n",
       "    </tr>\n",
       "    <tr>\n",
       "      <th>50%</th>\n",
       "      <td>274.00000</td>\n",
       "      <td>24.000000</td>\n",
       "      <td>5.105967e+06</td>\n",
       "      <td>252320.50000</td>\n",
       "      <td>49.000000</td>\n",
       "      <td>10.000000</td>\n",
       "      <td>80724.840000</td>\n",
       "      <td>21.800000</td>\n",
       "    </tr>\n",
       "    <tr>\n",
       "      <th>75%</th>\n",
       "      <td>389.00000</td>\n",
       "      <td>24.500000</td>\n",
       "      <td>7.541903e+06</td>\n",
       "      <td>371419.25000</td>\n",
       "      <td>76.000000</td>\n",
       "      <td>15.000000</td>\n",
       "      <td>119236.752500</td>\n",
       "      <td>29.700000</td>\n",
       "    </tr>\n",
       "    <tr>\n",
       "      <th>max</th>\n",
       "      <td>500.00000</td>\n",
       "      <td>28.900000</td>\n",
       "      <td>9.999975e+06</td>\n",
       "      <td>499991.00000</td>\n",
       "      <td>100.000000</td>\n",
       "      <td>20.000000</td>\n",
       "      <td>158098.630000</td>\n",
       "      <td>44.000000</td>\n",
       "    </tr>\n",
       "  </tbody>\n",
       "</table>\n",
       "</div>"
      ],
      "text/plain": [
       "       Total Videos  Avg Video Length (min)  Total Subscribers  Members Count  \\\n",
       "count    5000.00000             5000.000000       5.000000e+03     5000.00000   \n",
       "mean      274.43340               24.004540       5.058482e+06   249082.01980   \n",
       "std       131.71675                0.874555       2.890895e+06   143555.47327   \n",
       "min        50.00000               19.100000       1.755000e+03      143.00000   \n",
       "25%       159.00000               23.500000       2.547991e+06   127000.75000   \n",
       "50%       274.00000               24.000000       5.105967e+06   252320.50000   \n",
       "75%       389.00000               24.500000       7.541903e+06   371419.25000   \n",
       "max       500.00000               28.900000       9.999975e+06   499991.00000   \n",
       "\n",
       "       AI Generated Content (%)  Quantum Computing Topics  Engagement Score  \\\n",
       "count               5000.000000               5000.000000       5000.000000   \n",
       "mean                  49.328600                 10.061400      79974.100470   \n",
       "std                   29.444246                  6.093953      45704.767088   \n",
       "min                    0.000000                  0.000000         27.750000   \n",
       "25%                   24.000000                  5.000000      40283.490000   \n",
       "50%                   49.000000                 10.000000      80724.840000   \n",
       "75%                   76.000000                 15.000000     119236.752500   \n",
       "max                  100.000000                 20.000000     158098.630000   \n",
       "\n",
       "       Content Value Index  \n",
       "count          5000.000000  \n",
       "mean             21.841560  \n",
       "std               9.863744  \n",
       "min               0.000000  \n",
       "25%              14.200000  \n",
       "50%              21.800000  \n",
       "75%              29.700000  \n",
       "max              44.000000  "
      ]
     },
     "execution_count": 9,
     "metadata": {},
     "output_type": "execute_result"
    }
   ],
   "source": [
    "df.describe()"
   ]
  },
  {
   "cell_type": "markdown",
   "id": "1573d248-203b-400d-9edd-51d798d937a3",
   "metadata": {},
   "source": [
    "* From the above general statistics, it is evident that, on average, 49% of the YouTube channels comprise AI-generated content across a maximum of 100 YouTube channels out of 5000, which means that a lot of YouTube channels generate original content, which is a big deal.\n",
    "* 20 out of 5000 channels cover Quantum Computing topics (that is a mean of 10)\n",
    "* The highest Engagement Score is 158,098.63 and the lowest is 27.75, with a mean engagement score of almost 80,000.\n",
    "* The mean Content Value Index is 21.84 ~ 22, while the maximum is 44.\n",
    "\n",
    "**Standard Deviation**\n",
    "1) **Total Videos - 131.71675**: This indicates significant variability in the number of videos produced across channels. Some channels produce very few videos, while others upload extensively.\n",
    "2) **Average Video Length - 0.874555**: A relatively low standard deviation shows less variation in the average length of videos. Most channels likely fall within a similar range in terms of video duration.\n",
    "3) **Total Subscribers - 2.890895e+06 ie; 2,890,895 or 2.9 Million**: A large standard deviation suggests wide disparities in subscriber counts. Some channels are massively popular, while others may have far fewer subscribers.\n",
    "4) **Members Count - 143555.47327**: The high value indicates considerable variability in paid member counts across channels. This implies a diverse distribution of channels with varying levels of monetization success.\n",
    "5) **AI Generated Content - 29.444246**: This shows moderate dispersion in the proportion of AI-generated content across channels. Some creators may rely heavily on AI, while others use it sparingly or not at all.\n",
    "6) **Quantum Computing Topics Covered - 6.093953**: A smaller standard deviation implies a relatively consistent number of quantum computing topics covered, suggesting focused content strategies among the channels covering this niche.\n",
    "7) **Engagement Score - 45704.767088**: A high standard deviation demonstrates significant differences in engagement levels. Some channels achieve a lot of interaction and viewer involvement, while others struggle to capture attention.\n",
    "8) **Content Index Value - 9.863744**: Moderate variability here implies that while some channels are highly informative, entertaining, or original, others might fall below the benchmark.\n",
    "\n",
    "To summarize the above, the high standard deviations in Total Subscribers, Members Count, and Engagement Score highlight diverse levels of success and popularity across these 5000 YouTube channels. On the other hand, lower standard deviations, like in Average Video Length and Quantum Computing Topics Covered, indicate more uniformity in certain aspects of content creation."
   ]
  },
  {
   "cell_type": "markdown",
   "id": "2001079b-fced-442e-b7fe-b4bbf6d4013c",
   "metadata": {},
   "source": [
    "### **2) Analyzing all Variables and their Visualizations**"
   ]
  },
  {
   "cell_type": "code",
   "execution_count": 10,
   "id": "f83ef9df-3e38-41fe-b4dc-b1f0f684ff6c",
   "metadata": {},
   "outputs": [
    {
     "data": {
      "image/png": "[encoded data removed]",
      "text/plain": [
       "<Figure size 500x100 with 1 Axes>"
      ]
     },
     "metadata": {},
     "output_type": "display_data"
    }
   ],
   "source": [
    "# Creating a boxplot to understand how prolific the YouTube channel is through `Total Videos`\n",
    "plt.figure(figsize=(5,1))\n",
    "plt.title(\"Box plot of the Total Number of Videos\")\n",
    "sns.boxplot(x=df['Total Videos'])\n",
    "plt.show()"
   ]
  },
  {
   "cell_type": "markdown",
   "id": "5d0591e0-e02f-42c0-a293-375321267e7b",
   "metadata": {},
   "source": [
    "**The total number of YouTube videos uploaded range from approximately `160 to almost 400`.** "
   ]
  },
  {
   "cell_type": "code",
   "execution_count": 11,
   "id": "b89d7396-192f-4e7f-a097-8a7b1e54ed7c",
   "metadata": {},
   "outputs": [
    {
     "data": {
      "image/png": "[encoded data removed]",
      "text/plain": [
       "<Figure size 500x300 with 1 Axes>"
      ]
     },
     "metadata": {},
     "output_type": "display_data"
    }
   ],
   "source": [
    "# Creating a Boxplot to understand the distribution of the `Average Video Length`\n",
    "plt.figure(figsize=(5,3))\n",
    "plt.title(\"Boxplot of the Average Video Length\")\n",
    "sns.boxplot(x=df['Avg Video Length (min)'])\n",
    "plt.show();"
   ]
  },
  {
   "cell_type": "markdown",
   "id": "64c405ea-a1ad-450c-ac75-08215f000218",
   "metadata": {},
   "source": [
    "**From the Boxplot above, it is evident that the above variable `Average Video Length (min)` have outliers before 22 and after 26. Outliers refer to extreme values. Most values, excluding the outliers, range within 24 minutes up and down. This variable can be investigated further.**"
   ]
  },
  {
   "cell_type": "code",
   "execution_count": 12,
   "id": "3ccf0af4-a07b-4921-9d22-fbf6d1f4876b",
   "metadata": {},
   "outputs": [
    {
     "data": {
      "image/png": "[encoded data removed]",
      "text/plain": [
       "<Figure size 1000x500 with 1 Axes>"
      ]
     },
     "metadata": {},
     "output_type": "display_data"
    }
   ],
   "source": [
    "# Creating a Histogram of the `Total Subscribers`\n",
    "plt.figure(figsize=(10,5))\n",
    "plt.title(\"Histogram of the Total Subscribers\")\n",
    "sns.histplot(x=df['Total Subscribers'])\n",
    "plt.show();"
   ]
  },
  {
   "cell_type": "markdown",
   "id": "aa911007-e672-47ff-9b18-f055dd99415a",
   "metadata": {},
   "source": [
    "**The above Histogram suggest that the followers for YouTube channels range from `more than 0 to 10 Million subscribers`. This means that there are wide disparities in subscriber count. The same is also proven through the 2.9 million standard deviation value.**"
   ]
  },
  {
   "cell_type": "code",
   "execution_count": 13,
   "id": "ba8df970-4936-4314-99b5-d7fdf6c9da28",
   "metadata": {},
   "outputs": [
    {
     "data": {
      "image/png": "[encoded data removed]",
      "text/plain": [
       "<Figure size 1000x500 with 1 Axes>"
      ]
     },
     "metadata": {},
     "output_type": "display_data"
    }
   ],
   "source": [
    "# Creating a Histogram of the `Members Count`\n",
    "plt.figure(figsize=(10,5))\n",
    "plt.title(\"Histogram of the Members Count\")\n",
    "sns.histplot(x=df['Members Count'])\n",
    "plt.show();"
   ]
  },
  {
   "cell_type": "markdown",
   "id": "5ba317c6-ff63-476d-8f93-54602df88f89",
   "metadata": {},
   "source": [
    "* **Interpretation of the Trend:-** The data shows that the \"Members Count\" is relatively evenly distributed across most bins, as the bar heights are consistently above 250 for most ranges.\n",
    "* The slightly lower bar at \"100,000\" indicates a smaller frequency of channels in that range compared to others.\n",
    "* **Conclusion:**\n",
    "The histogram suggests that while paid memberships are fairly common across the channels, there is a dip in the number of channels in the 100,000-member range. This could reflect a gap or trend in the way audiences subscribe at this intermediate level, possibly due to factors like content type, audience demographics, or marketing strategies. But overall, the histogram is uniform, which suggests that paid memberships are equally common across all the YouTube channels. This variability in the numbers can also be justified through the fairly high standard deviation of 143555.47327. "
   ]
  },
  {
   "cell_type": "code",
   "execution_count": 14,
   "id": "f61d1d14-016e-4f0b-8f29-44abd832db07",
   "metadata": {},
   "outputs": [
    {
     "data": {
      "image/png": "[encoded data removed]",
      "text/plain": [
       "<Figure size 500x100 with 1 Axes>"
      ]
     },
     "metadata": {},
     "output_type": "display_data"
    }
   ],
   "source": [
    "# Creating a Boxplot to find out the distribution of AI-generated content (%)\n",
    "plt.figure(figsize=(5,1))\n",
    "plt.title(\"Boxplot depicting the % of AI genrated content\")\n",
    "sns.boxplot(x=df['AI Generated Content (%)'])\n",
    "plt.show();"
   ]
  },
  {
   "cell_type": "markdown",
   "id": "1e09ffbc-89ed-400b-9715-3c00df8435fc",
   "metadata": {},
   "source": [
    "**The above boxplot interestingly depicts the rise of AI and shows us that approximately `22% to 78%` of the YouTube creators use AI in their content. This means that some content creators may heavily rely on AI while others may use it sparingly or not at all.**"
   ]
  },
  {
   "cell_type": "code",
   "execution_count": 15,
   "id": "48a6bcf3-b875-4672-b866-6229a4a8cc1b",
   "metadata": {},
   "outputs": [
    {
     "data": {
      "text/plain": [
       "Neural Interface Compatible\n",
       "True     2529\n",
       "False    2471\n",
       "Name: count, dtype: int64"
      ]
     },
     "execution_count": 15,
     "metadata": {},
     "output_type": "execute_result"
    }
   ],
   "source": [
    "df['Neural Interface Compatible'].value_counts()"
   ]
  },
  {
   "cell_type": "markdown",
   "id": "ca879f40-1776-42fe-a78b-f40e3bb242ef",
   "metadata": {},
   "source": [
    "**The above code depicts that almost more than half of the YouTube channels, that is, `2529 or 50.58%` are Neural Interface compatible. The rest `49.42%` of the 5000 data entries are not Neural Compatible.**\n",
    "\n",
    "`Neural Compatibility` in this context is regarding `AI and Neural Networks`. At the heart of many AI systems are Neural Networks, which are computational models inspired by the human brain's structure. These networks consist of interconnected nodes (analogous to neurons) that process data in layers. They are particularly adept at recognizing patterns and making predictions based on input data, making them invaluable for tasks like image and speech recognition, natural language processing, and more."
   ]
  },
  {
   "cell_type": "code",
   "execution_count": 16,
   "id": "cadde1a0-46df-4537-ac28-65d5800a7082",
   "metadata": {},
   "outputs": [
    {
     "data": {
      "text/plain": [
       "Metaverse Integration Level\n",
       "Full        1248\n",
       "Basic       1236\n",
       "Advanced    1234\n",
       "Name: count, dtype: int64"
      ]
     },
     "execution_count": 16,
     "metadata": {},
     "output_type": "execute_result"
    }
   ],
   "source": [
    "df['Metaverse Integration Level'].value_counts()"
   ]
  },
  {
   "cell_type": "markdown",
   "id": "b740872b-98b9-4474-a92e-52411cd48dab",
   "metadata": {},
   "source": [
    "* **1236 YouTube Channels that is, `24.72%` of the Youtube channels have a `Basic level` of Metaverse Integration**\n",
    "* **1234 YouTube Channels that is, `24.68%` of the Youtube channels have a `Advanced Level` of Metaverse Integration**\n",
    "* **1248 YouTube Channels that is, `24.96%` of the Youtube channels have a `Full-Blown` integration of Metaverse**\n",
    "* **The rest 1282 YouTube Channels that is, `25.64%` of them are `not metaverse integrated`.**\n",
    "\n",
    "Out of the 5000 YouTube Channels considered in this study, **`74.36%`** of the YouTube Channels are metaverse-integrated, while the rest **`25.64%`** are not. That's interesting, given we are in 2025!\n",
    "\n",
    "`Metaverse integration` means that YouTube channels extend their content and audience interaction into immersive digital environments - often leveraging Virtual Reality (VR), Augmented Reality (AR) or 3D Virtual worlds. This integration allows for more interactive and engaging experiences beyond traditional video content. "
   ]
  },
  {
   "cell_type": "code",
   "execution_count": 17,
   "id": "c5139f47-971b-49fe-8fd1-e2ed0da3faf9",
   "metadata": {},
   "outputs": [
    {
     "data": {
      "image/png": "[encoded data removed]",
      "text/plain": [
       "<Figure size 500x100 with 1 Axes>"
      ]
     },
     "metadata": {},
     "output_type": "display_data"
    }
   ],
   "source": [
    "# Boxplot of YouTube Videos that cover Quantum Computing topics\n",
    "plt.figure(figsize=(5,1))\n",
    "plt.title(\"Boxplot of the Number of Videos covering Quantum Computing Topics\")\n",
    "sns.boxplot(x=df['Quantum Computing Topics'])\n",
    "plt.show();"
   ]
  },
  {
   "cell_type": "markdown",
   "id": "35ba837a-5c6f-4a79-89e5-f14735971de0",
   "metadata": {},
   "source": [
    "**YouTube videos cover approximately `5 to 15` videos on Quantum Computing. `A mean (Average) of 10 videos` are Quantum Computing videos.**\n",
    "\n",
    "**Fun Fact** - *Quantum Computing is a revolutionary field of computer science that leverages the principles of quantum mechanics to perform computations that are beyond the capabilites of classical computers. Quantum computing has the potential to revolutionize fields like cryptography, drug discovery, optimization problems, and artificial intelligence by solving problems exponentially faster than classical computers.* "
   ]
  },
  {
   "cell_type": "code",
   "execution_count": 18,
   "id": "f4548eff-43d6-4b10-83b7-6c988c27dc63",
   "metadata": {},
   "outputs": [
    {
     "data": {
      "text/plain": [
       "Holographic Content Rating\n",
       "2D    1283\n",
       "3D    1282\n",
       "1D    1230\n",
       "4D    1205\n",
       "Name: count, dtype: int64"
      ]
     },
     "execution_count": 18,
     "metadata": {},
     "output_type": "execute_result"
    }
   ],
   "source": [
    "df['Holographic Content Rating'].value_counts()"
   ]
  },
  {
   "cell_type": "markdown",
   "id": "02cbfcc8-7925-4fef-a02a-184a68b3e9f1",
   "metadata": {},
   "source": [
    "* **`24.6%`** of the 5000 YouTube channels have a 1D holographic content rating.\n",
    "* **`25.66%`** of the 5000 YouTube channels have a 2D holographic content rating.\n",
    "* **`25.64%`** of the 5000 YouTube channels have a 3D holographic content rating.\n",
    "* **`24.1%`** of the 5000 YouTube channels have a 4D holographic content rating."
   ]
  },
  {
   "cell_type": "code",
   "execution_count": 19,
   "id": "546c6444-8db4-4c78-be64-94f06cfed645",
   "metadata": {},
   "outputs": [
    {
     "data": {
      "image/png": "[encoded data removed]",
      "text/plain": [
       "<Figure size 1000x100 with 1 Axes>"
      ]
     },
     "metadata": {},
     "output_type": "display_data"
    }
   ],
   "source": [
    "# Boxplot of Engagement Score\n",
    "plt.figure(figsize=(10,1))\n",
    "plt.title(\"Boxplot of the Engagement Score\")\n",
    "sns.boxplot(x=df['Engagement Score'])\n",
    "plt.show();"
   ]
  },
  {
   "cell_type": "markdown",
   "id": "c88793a6-477d-43a8-8eb9-7097f4fdb893",
   "metadata": {},
   "source": [
    "* **The engagement score ranges between `40,000 to 120,000` with a mean score of `79974.100470 - that is almost a score of 80,000`**\n",
    "* The standard deviation is **`45704.767088`**. A high standard deviation demonstrates significant differences in engagement levels. Some channels achieve a lot of interaction and viewer involvement, while others struggle to capture attention.\n",
    "* `Engagement Score` - measures how well the audience interacts with the channel, probably combining likes, comments, shares, and view time."
   ]
  },
  {
   "cell_type": "code",
   "execution_count": 20,
   "id": "047ad82b-3061-4eda-86c9-e8b47fbb0bc9",
   "metadata": {},
   "outputs": [
    {
     "data": {
      "image/png": "[encoded data removed]",
      "text/plain": [
       "<Figure size 1000x100 with 1 Axes>"
      ]
     },
     "metadata": {},
     "output_type": "display_data"
    }
   ],
   "source": [
    "# Boxplot of Content Value Index\n",
    "plt.figure(figsize=(10,1))\n",
    "plt.title(\"Boxplot of the Content Value Index\")\n",
    "sns.boxplot(x=df['Content Value Index'])\n",
    "plt.show();"
   ]
  },
  {
   "cell_type": "markdown",
   "id": "eadcaf19-7d05-4488-b174-179df5966d7b",
   "metadata": {},
   "source": [
    "* **The Content Value Index ranges between `15 to 30` with a mean of `21.841560 ~ 22`.**\n",
    "* `Content Value Index` - Gives a summary score of how valuable or meaningful the content is, based on factors like education, originality, or entertainment."
   ]
  },
  {
   "cell_type": "markdown",
   "id": "c5655144-9925-4e49-8b0a-8c2ca85e1457",
   "metadata": {},
   "source": [
    "### **3) Dealing with Outliers**\n",
    "\n",
    "From the above variable analysis, it is quite evident that out of the all the variables, only the `Average Video Length` showed outliers. We shall re-visualize that variable and handle the outliers appropriately. "
   ]
  },
  {
   "cell_type": "code",
   "execution_count": 21,
   "id": "8a010e52-3270-4973-b3a8-1c3ad2a1373a",
   "metadata": {},
   "outputs": [
    {
     "data": {
      "image/png": "[encoded data removed]",
      "text/plain": [
       "<Figure size 500x300 with 1 Axes>"
      ]
     },
     "metadata": {},
     "output_type": "display_data"
    }
   ],
   "source": [
    "# Visualizing the variable with outliers\n",
    "plt.figure(figsize=(5,3))\n",
    "plt.title(\"Boxplot of the Average Video Length\")\n",
    "sns.boxplot(x=df['Avg Video Length (min)'])\n",
    "plt.show();"
   ]
  },
  {
   "cell_type": "code",
   "execution_count": 22,
   "id": "111aadda-0ace-4069-91aa-c3cbee73a536",
   "metadata": {},
   "outputs": [
    {
     "data": {
      "image/png": "[encoded data removed]",
      "text/plain": [
       "<Figure size 1000x500 with 1 Axes>"
      ]
     },
     "metadata": {},
     "output_type": "display_data"
    }
   ],
   "source": [
    "# Visualizing the above column using a Histogram \n",
    "plt.figure(figsize=(10,5))\n",
    "plt.title(\"Histogram of the Average Video Length\")\n",
    "sns.histplot(x=df['Avg Video Length (min)'])\n",
    "plt.show();"
   ]
  },
  {
   "cell_type": "code",
   "execution_count": 23,
   "id": "c6dafb8f-24b9-4cc8-b3d2-4afa891afc28",
   "metadata": {},
   "outputs": [
    {
     "name": "stdout",
     "output_type": "stream",
     "text": [
      "The number of outliers in the column 'Avg Video Length (min)' is 187\n"
     ]
    }
   ],
   "source": [
    "# Finding out the Inter-Quartile Range and the Median of the Average Video Length column, to find the outlier threshold. \n",
    "Q1 = df['Avg Video Length (min)'].quantile(0.25)\n",
    "Q3 = df['Avg Video Length (min)'].quantile(0.75)\n",
    "IQR = Q3 - Q1 \n",
    "Median = df['Avg Video Length (min)'].median()\n",
    "Outlier_Threshold = Median + 1.5*IQR\n",
    "\n",
    "# Counting the number of values that exceed the outlier threshold. \n",
    "Outlier_Count = (df['Avg Video Length (min)'] > Outlier_Threshold).sum()\n",
    "print(\"The number of outliers in the column 'Avg Video Length (min)' is\", Outlier_Count)"
   ]
  },
  {
   "cell_type": "code",
   "execution_count": 24,
   "id": "a5f5f986-2bcb-4fef-9d42-da176c2861c4",
   "metadata": {},
   "outputs": [
    {
     "name": "stdout",
     "output_type": "stream",
     "text": [
      "                          Channel Name     Youtuber Name  Total Videos  \\\n",
      "7               Baxter-Collins Studios  Stephanie Potter           133   \n",
      "12                       Singh LLC Hub   Melissa Kennedy            53   \n",
      "50    Cooper, Rhodes and Stone Network       David Craig           114   \n",
      "61                    Sanders-Wood Hub   Anthony Stewart           124   \n",
      "65                 Fuentes-Schmitt Hub        Gina Young            69   \n",
      "...                                ...               ...           ...   \n",
      "4892              Bowen-Morgan Studios     Anthony Berry           182   \n",
      "4910                  Wood LLC Studios      Leslie Clark            56   \n",
      "4956  Miles, Chandler and Franklin Hub       David Hobbs           247   \n",
      "4979                 Harper Group Labs  Patricia Johnson            71   \n",
      "4996          Spencer and Sons Studios    John Rasmussen           130   \n",
      "\n",
      "                               Best Video  Avg Video Length (min)  \\\n",
      "7            AI Simulation: Showcase 2023                    25.6   \n",
      "12      Nanotech Challenge: Showcase 2023                    26.9   \n",
      "50              VR Challenge: Review 2023                    25.6   \n",
      "61    Nanotech Interface: Experience 2023                    25.9   \n",
      "65         Neural Unboxing: Analysis 2023                    25.8   \n",
      "...                                   ...                     ...   \n",
      "4892    Nanotech Interface: Analysis 2023                    25.7   \n",
      "4910           VR Protocol: Showcase 2024                    27.2   \n",
      "4956           VR Simulation: Review 2024                    25.6   \n",
      "4979        Neural Synthesis: Review 2025                    25.6   \n",
      "4996          VR Challenge: Analysis 2023                    26.3   \n",
      "\n",
      "      Total Subscribers  Members Count  AI Generated Content (%)  \\\n",
      "7               8619619         119696                        22   \n",
      "12              3694694         343545                        78   \n",
      "50              9252342          33104                        58   \n",
      "61              7406537         203145                        81   \n",
      "65              9359271         413095                        94   \n",
      "...                 ...            ...                       ...   \n",
      "4892            4711621         168039                         8   \n",
      "4910            7639334         477635                        45   \n",
      "4956            9329210         375675                        85   \n",
      "4979            4333800          45000                        78   \n",
      "4996             136992          20019                        67   \n",
      "\n",
      "      Neural Interface Compatible Metaverse Integration Level  \\\n",
      "7                            True                    Advanced   \n",
      "12                           True                    Advanced   \n",
      "50                          False                        Full   \n",
      "61                           True                         NaN   \n",
      "65                           True                    Advanced   \n",
      "...                           ...                         ...   \n",
      "4892                        False                    Advanced   \n",
      "4910                         True                    Advanced   \n",
      "4956                         True                    Advanced   \n",
      "4979                         True                        Full   \n",
      "4996                         True                        Full   \n",
      "\n",
      "      Quantum Computing Topics Holographic Content Rating  Engagement Score  \\\n",
      "7                            7                         2D         136275.34   \n",
      "12                           5                         3D          58412.75   \n",
      "50                          19                         4D         146278.62   \n",
      "61                          10                         4D         117096.63   \n",
      "65                          12                         1D         147969.16   \n",
      "...                        ...                        ...               ...   \n",
      "4892                        12                         3D          74490.27   \n",
      "4910                        11                         2D         120777.13   \n",
      "4956                        16                         2D         147493.90   \n",
      "4979                        18                         4D          68516.96   \n",
      "4996                        14                         4D           2165.83   \n",
      "\n",
      "      Content Value Index  \n",
      "7                    11.5  \n",
      "12                   26.9  \n",
      "50                   30.7  \n",
      "61                   31.3  \n",
      "65                   36.6  \n",
      "...                   ...  \n",
      "4892                 10.8  \n",
      "4910                 21.2  \n",
      "4956                 36.7  \n",
      "4979                 36.0  \n",
      "4996                 29.9  \n",
      "\n",
      "[187 rows x 14 columns]\n"
     ]
    }
   ],
   "source": [
    "Outliers_Data = df[df['Avg Video Length (min)'] > Outlier_Threshold]\n",
    "print(Outliers_Data)"
   ]
  },
  {
   "cell_type": "code",
   "execution_count": 25,
   "id": "b813f2be-3ff7-46ad-b831-1460f48c2f79",
   "metadata": {},
   "outputs": [
    {
     "data": {
      "image/png": "[encoded data removed]",
      "text/plain": [
       "<Figure size 1000x500 with 1 Axes>"
      ]
     },
     "metadata": {},
     "output_type": "display_data"
    }
   ],
   "source": [
    "# Visualizing the outliers\n",
    "plt.figure(figsize=(10,5))\n",
    "sns.histplot(x=Outliers_Data['Avg Video Length (min)'],\n",
    "             y=Outliers_Data['Engagement Score'])\n",
    "plt.title(\"Outliers of Average Video Length compared to Engagement Score\")\n",
    "plt.show();"
   ]
  },
  {
   "cell_type": "markdown",
   "id": "7e258f49-2b15-45ee-8d3c-d79e139ab4c7",
   "metadata": {},
   "source": [
    "**Key Observations:**\n",
    "\n",
    "Most of the outliers range from 25.5 to 29 minutes. Below is a breakdown of the interpretation of the above heatmap. \n",
    "\n",
    "* **Density Between 25.5 and 26.5**:- The dark blue boxes indicate high density of engagement scores for videos with lengths in this range. This suggests that most outlier videos have lengths within this interval and tend to draw consistent engagement.\n",
    "* **Medium Blue Boxes in the Range of 26.5 to 27**:- The engagement score slightly decreases as video length extends beyond 26.5 minutes. This shows that while engagement remains steady for these longer videos, it is not as strong as the earlier range (25.5–26).\n",
    "* **Scattered Medium Blue Boxes After 27**:- The engagement score becomes more scattered and less concentrated as video length increases beyond 27 minutes. Fewer videos seem to fall in this range, and their engagement is varied—possibly reflecting mixed audience reception.\n",
    "* **Light Blue Box Near 29**:- The single light blue box near the 29-minute mark likely represents a very low engagement score for a significantly longer video. This could indicate that such lengthy videos are less appealing to viewers.\n",
    "\n",
    "**Interpretation:**\n",
    "* The concentration of darker blue boxes in the 25.5–26 range implies that slightly longer outlier videos perform reasonably well, suggesting a potential sweet spot for engagement when exceeding typical video lengths.\n",
    "* As video lengths increase further, engagement drops off or becomes inconsistent, evidenced by the scattered medium blue and light blue boxes. This might indicate diminishing returns for excessively long outlier videos, either due to viewer fatigue or less relevant content."
   ]
  },
  {
   "cell_type": "markdown",
   "id": "14deb49c-6786-4e78-99ca-0f625dcde009",
   "metadata": {},
   "source": [
    "**From the above analysis, it is evident that the Outliers provide important information about the data and they are not data entry errors or irrelevant noise. Hence, we will not be removing any outliers.**"
   ]
  }
 ],
 "metadata": {
  "kernelspec": {
   "display_name": "Python 3 (ipykernel)",
   "language": "python",
   "name": "python3"
  },
  "language_info": {
   "codemirror_mode": {
    "name": "ipython",
    "version": 3
   },
   "file_extension": ".py",
   "mimetype": "text/x-python",
   "name": "python",
   "nbconvert_exporter": "python",
   "pygments_lexer": "ipython3",
   "version": "3.13.2"
  }
 },
 "nbformat": 4,
 "nbformat_minor": 5
}
